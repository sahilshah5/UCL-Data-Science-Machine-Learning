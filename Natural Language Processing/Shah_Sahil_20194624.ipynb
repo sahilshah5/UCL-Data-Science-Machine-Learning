{
  "nbformat": 4,
  "nbformat_minor": 0,
  "metadata": {
    "colab": {
      "name": "Shah_Sahil_20194624.ipynb",
      "provenance": [],
      "collapsed_sections": []
    },
    "kernelspec": {
      "name": "python3",
      "display_name": "Python 3"
    }
  },
  "cells": [
    {
      "cell_type": "markdown",
      "metadata": {
        "id": "f0DNj4zyIGKa"
      },
      "source": [
        "# Assignment 1\n",
        "The first assignment has two parts. The first part concerns PyTorch and the second part is about feature engineering for a basic NLP task.\n",
        "## Instructions\n",
        "\n",
        "1.   Make a copy of this notebook \n",
        "  - Click on \"File -> Save a copy in Drive\" and open it in Colab afterwards\n",
        "  - Alternatively, download the notebook and work on it on your local machine. However, keep in mind that you will have to make sure it still runs on Colab afterwards and does not depend on any packages that you installed locally\n",
        "2.   Rename your notebook to **surname_forename_studentnumber.ipynb**\n",
        "  - Make sure to exactly follow this naming scheme (don't replace `_` with `-` or something like that)\n",
        "  - **Failure to comply with this scheme results in -10 points!**\n",
        "3.   For math exercises, use $\\LaTeX$  to typset your answer\n",
        "4.   For coding exercises, insert your code at `# TODO` statements\n",
        "5.   For multiple-choice questions, choose an answer from the drop-down list\n",
        "6.   Before submitting your notebook, **make sure that it runs without errors when executed from start to end on Colab**\n",
        "  - To check this, reload your notebook and the Python kernel, and run the notebook from the first to the last cell\n",
        "  - **If your notebook throws any errors, you will be penalized by -25 points in addition to any penalities from incorrect answers**\n",
        "  - We are not going to fix any errors (no matter how small) to make your code work\n",
        "7.  Download your notebook and submit it on Moodle\n",
        "  - Click on \"File -> Download .ipynb\"\n",
        "  \n",
        "\n"
      ]
    },
    {
      "cell_type": "markdown",
      "metadata": {
        "id": "qvB4c3R4II91"
      },
      "source": [
        "## Notebook Setup [don't change!]"
      ]
    },
    {
      "cell_type": "code",
      "metadata": {
        "id": "d0w7l3EpExU6",
        "colab": {
          "base_uri": "https://localhost:8080/"
        },
        "outputId": "e07d6b0e-e7e9-40b4-8562-a13d28ce12ff"
      },
      "source": [
        "%%shell\n",
        "pip install torch"
      ],
      "execution_count": 1,
      "outputs": [
        {
          "output_type": "stream",
          "text": [
            "Requirement already satisfied: torch in /usr/local/lib/python3.6/dist-packages (1.7.0+cu101)\n",
            "Requirement already satisfied: dataclasses in /usr/local/lib/python3.6/dist-packages (from torch) (0.8)\n",
            "Requirement already satisfied: typing-extensions in /usr/local/lib/python3.6/dist-packages (from torch) (3.7.4.3)\n",
            "Requirement already satisfied: future in /usr/local/lib/python3.6/dist-packages (from torch) (0.16.0)\n",
            "Requirement already satisfied: numpy in /usr/local/lib/python3.6/dist-packages (from torch) (1.19.5)\n"
          ],
          "name": "stdout"
        },
        {
          "output_type": "execute_result",
          "data": {
            "text/plain": [
              ""
            ]
          },
          "metadata": {
            "tags": []
          },
          "execution_count": 1
        }
      ]
    },
    {
      "cell_type": "code",
      "metadata": {
        "id": "Pqig2nu9Eztp",
        "colab": {
          "base_uri": "https://localhost:8080/",
          "height": 35
        },
        "outputId": "86902ecb-2f5f-426b-bb68-54cd2d8f4231"
      },
      "source": [
        "import torch\n",
        "from torch import nn\n",
        "torch.__version__ "
      ],
      "execution_count": 2,
      "outputs": [
        {
          "output_type": "execute_result",
          "data": {
            "application/vnd.google.colaboratory.intrinsic+json": {
              "type": "string"
            },
            "text/plain": [
              "'1.7.0+cu101'"
            ]
          },
          "metadata": {
            "tags": []
          },
          "execution_count": 2
        }
      ]
    },
    {
      "cell_type": "markdown",
      "metadata": {
        "id": "hPDNBpMBGhsj"
      },
      "source": [
        "# Part I: PyTorch [50 points]"
      ]
    },
    {
      "cell_type": "markdown",
      "metadata": {
        "id": "ucOi5QgPG3Jg"
      },
      "source": [
        "## Linear Algebra [30 points]"
      ]
    },
    {
      "cell_type": "markdown",
      "metadata": {
        "id": "FCJ4t0Mk0jlz"
      },
      "source": [
        "### PyTorch Tensors [5 points]"
      ]
    },
    {
      "cell_type": "markdown",
      "metadata": {
        "id": "gZNaDhZHKYFL"
      },
      "source": [
        "#### Construct Scaled Identity Matrix [1 point]\n",
        "Given $n \\in \\mathbb{N}$ and $c \\in \\mathbb{R}$, construct a matrix $\\mathbf{X} \\in \\mathbb{R}^{n\\ \\times\\ n}$ where $\\mathbf{X}$ has $c$ on its diagonal and zeros everywhere else."
      ]
    },
    {
      "cell_type": "code",
      "metadata": {
        "id": "xwYNaam7L0Aw",
        "colab": {
          "base_uri": "https://localhost:8080/"
        },
        "outputId": "715b17c5-8c66-46a2-fd05-bfc2fde5de51"
      },
      "source": [
        "def construct_scaled_identity(n, c):\n",
        "  # TODO\n",
        "  X = torch.eye(n,n)*c\n",
        "  return X\n",
        "\n",
        "construct_scaled_identity(4, 3.2)"
      ],
      "execution_count": 3,
      "outputs": [
        {
          "output_type": "execute_result",
          "data": {
            "text/plain": [
              "tensor([[3.2000, 0.0000, 0.0000, 0.0000],\n",
              "        [0.0000, 3.2000, 0.0000, 0.0000],\n",
              "        [0.0000, 0.0000, 3.2000, 0.0000],\n",
              "        [0.0000, 0.0000, 0.0000, 3.2000]])"
            ]
          },
          "metadata": {
            "tags": []
          },
          "execution_count": 3
        }
      ]
    },
    {
      "cell_type": "markdown",
      "metadata": {
        "id": "0LN669ufJMsq"
      },
      "source": [
        "#### Mean Diagonal [1 point]\n",
        "Given a square matrix $\\mathbf{X}\\in\\mathbb{R}^{n\\ \\times\\ n}$, return the mean of its diagonal."
      ]
    },
    {
      "cell_type": "code",
      "metadata": {
        "id": "9Cqjyj6rJ6Pg",
        "colab": {
          "base_uri": "https://localhost:8080/"
        },
        "outputId": "61e6bb86-5052-4095-e031-41416c1142cf"
      },
      "source": [
        "def mean_diagonal(x):\n",
        "  # TODO\n",
        "  mean = torch.mean(torch.diag(x))\n",
        "  return mean\n",
        "\n",
        "x = torch.arange(0, 16, dtype=torch.float).view(4, 4)\n",
        "mean_diagonal(x)"
      ],
      "execution_count": 4,
      "outputs": [
        {
          "output_type": "execute_result",
          "data": {
            "text/plain": [
              "tensor(7.5000)"
            ]
          },
          "metadata": {
            "tags": []
          },
          "execution_count": 4
        }
      ]
    },
    {
      "cell_type": "markdown",
      "metadata": {
        "id": "Yv9v5j0AMfpO"
      },
      "source": [
        "#### Indexing [1 point]\n",
        "Given a matrix $\\mathbf{X}\\in\\mathbb{R}^{n\\ \\times\\ m}$ and $i,j \\in \\mathbb{N}$, return the submatrix $\\mathbf{Y}\\in\\mathbb{R}^{i\\ \\times\\ j}$ of the last i rows and last j columns of $\\mathbf{X}$ (i.e. the bottom right submatrix of the given size). You can assume that $i \\leq n$ and $j \\leq m$."
      ]
    },
    {
      "cell_type": "code",
      "metadata": {
        "id": "DxXTcoO6Nj_n",
        "colab": {
          "base_uri": "https://localhost:8080/"
        },
        "outputId": "3832a0c4-18da-4c56-b867-645cf3f2c7f6"
      },
      "source": [
        "def bottom_right_matrix(x, i, j):\n",
        "  # TODO\n",
        "  return x[-i:,-j:]\n",
        "\n",
        "x = torch.arange(0, 12).view(3, 4)\n",
        "bottom_right_matrix(x, 2, 2)"
      ],
      "execution_count": 5,
      "outputs": [
        {
          "output_type": "execute_result",
          "data": {
            "text/plain": [
              "tensor([[ 6,  7],\n",
              "        [10, 11]])"
            ]
          },
          "metadata": {
            "tags": []
          },
          "execution_count": 5
        }
      ]
    },
    {
      "cell_type": "markdown",
      "metadata": {
        "id": "QWooDl4O0ooy"
      },
      "source": [
        "#### Transpose Sum [2 points]\n",
        "Given a tensor $\\mathcal{X}\\in\\mathbb{R}^{i\\ \\times\\ j\\ \\times\\ k}$, return a transposed tensor $\\mathcal{y}\\in\\mathbb{R}^{j\\ \\times\\ i}$ whose values in the third dimension are summed up."
      ]
    },
    {
      "cell_type": "code",
      "metadata": {
        "id": "h_o8MrXj0nQu",
        "colab": {
          "base_uri": "https://localhost:8080/"
        },
        "outputId": "a3bc13e5-9408-4595-f8ba-460f507a3535"
      },
      "source": [
        "def transpose_sum(x):\n",
        "  # TODO\n",
        "  transpose_sum = torch.sum(x.transpose(1,2),0)\n",
        "  return transpose_sum\n",
        "\n",
        "x = torch.arange(0, 12).view(2, 3, 2)\n",
        "transpose_sum(x)"
      ],
      "execution_count": 6,
      "outputs": [
        {
          "output_type": "execute_result",
          "data": {
            "text/plain": [
              "tensor([[ 6, 10, 14],\n",
              "        [ 8, 12, 16]])"
            ]
          },
          "metadata": {
            "tags": []
          },
          "execution_count": 6
        }
      ]
    },
    {
      "cell_type": "markdown",
      "metadata": {
        "id": "nhuGQ1I_klmv"
      },
      "source": [
        "### Matrix-vector Multiplication [10 points]"
      ]
    },
    {
      "cell_type": "markdown",
      "metadata": {
        "id": "kJ7YPXIrIpOg"
      },
      "source": [
        "Implement five unique ways for multiplying a matrix A with a vector b. **Each PyTorch function is allowed to be used in only one of the five implementations**. For instance, if you use `unsqueeze` in one of the methods, you are not allowed to use it for the other five implementations. Furthermore, functions in `torch` and in `torch.Tensor` are treated as the same function (i.e. using `torch.add(x, y)`, `x.add(y)` and `x + y` are all treated as the same function and hence are not allowed to be used in more than one implementation). Your code needs to be applicable to any matrix $A \\in \\mathbb{R}^{n\\ \\times\\ m }$ and vector $b\\in\\mathbb{R}^m$."
      ]
    },
    {
      "cell_type": "code",
      "metadata": {
        "id": "9FPwXxLEIdPL"
      },
      "source": [
        "def matrixvector1(A, b):  \n",
        "  # TODO\n",
        "  return A@b\n",
        "\n",
        "def matrixvector2(A, b):\n",
        "  # TODO\n",
        "  return torch.mv(A,b)\n",
        "\n",
        "def matrixvector3(A, b):\n",
        "  # TODO\n",
        "  n = A.shape[0]\n",
        "  C = torch.zeros(n)\n",
        "  for i, row in enumerate(A):\n",
        "    C[i] = torch.sum(row * b)\n",
        "  return C\n",
        "\n",
        "def matrixvector4(A, b):\n",
        "  # TODO\n",
        "  n,m = A.shape\n",
        "  C = torch.zeros(n)\n",
        "  for i in range(n):\n",
        "    for j in range(m):\n",
        "      C[i] += A[i][j]*b[j]\n",
        "  return C\n",
        "\n",
        "def matrixvector5(A, b):\n",
        "  # TODO\n",
        "  return torch.einsum(\"ij,j->i\",A,b)"
      ],
      "execution_count": 7,
      "outputs": []
    },
    {
      "cell_type": "markdown",
      "metadata": {
        "id": "qG2Uk7oRkqeO"
      },
      "source": [
        "### Backprop [15 points]"
      ]
    },
    {
      "cell_type": "markdown",
      "metadata": {
        "id": "y-AL4Dl8xJF8"
      },
      "source": [
        "#### Forward [2 points]\n",
        "Implement $\\mathbf{y}\\odot\\text{tanh}\\left(\\mathbf{W}\\mathbf{x}+\\mathbf{b}\\right)$ in PyTorch without using a linear layer implementation (i.e. do the matrix-vector mulitplication and addition of a bias term yourself). Note that we are not looking for a batched implementation, so assume $\\mathbf{y},\\mathbf{b} \\in \\mathbb{R}^n, \\mathbf{x}\\in\\mathbb{R}^m$ and $\\mathbf{W}\\in\\mathbb{R}^{n\\ \\times\\ m}$"
      ]
    },
    {
      "cell_type": "code",
      "metadata": {
        "id": "mcCqnNPtv0nu"
      },
      "source": [
        "def fw(y, W, x, b):\n",
        "  # TODO\n",
        "  return y * torch.tanh(W@x + b)"
      ],
      "execution_count": 8,
      "outputs": []
    },
    {
      "cell_type": "markdown",
      "metadata": {
        "id": "Xav_9KwaxkFL"
      },
      "source": [
        "#### Gradient [10 points]\n",
        "Derive $\\mathbf{z}^\\top\\frac{\\partial}{\\partial \\mathbf{x}}\\left[\\mathbf{y}\\odot\\text{tanh}\\left(\\mathbf{W}\\mathbf{x}+\\mathbf{b}\\right)\\right]$ analytically. Here $\\mathbf{z}$ is an _upstream (error) gradient_ and we are interested in calculating the _downstream gradient_ for $\\mathbf{x}$. Make sure to write down all intermediate steps and not just the final result. "
      ]
    },
    {
      "cell_type": "markdown",
      "metadata": {
        "id": "yn3Bu-y8y1Co"
      },
      "source": [
        "\\begin{align}\n",
        "\\mathbf{z}^\\top\\frac{\\partial}{\\partial \\mathbf{x}}\\left[\\mathbf{y}\\odot\\text{tanh}\\left(\\mathbf{W}\\mathbf{x}+\\mathbf{b}\\right)\\right] \n",
        "&=\\ \\mathbf{z}^\\top(\\mathbf{y}\\odot\\frac{\\partial}{\\partial \\mathbf{x}}\\left[\\text{tanh}\\left(\\mathbf{W}\\mathbf{x}+\\mathbf{b}\\right)\\right])\n",
        "&=\\ \\mathbf{z}^\\top(\\mathbf{y}\\odot\\left[1-\\text{tanh}^2\\left(\\mathbf{W}\\mathbf{x}+\\mathbf{b}\\right)\\right]\\frac{\\partial}{\\partial \\mathbf{x}}(\\mathbf{W}\\mathbf{x}+\\mathbf{b}))\n",
        "&=\\ \\mathbf{z}^\\top(\\mathbf{y}\\odot\\left[1-\\text{tanh}^2\\left(\\mathbf{W}\\mathbf{x}+\\mathbf{b}\\right)\\right]\\odot\\mathbf{W})\n",
        "\\end{align}"
      ]
    },
    {
      "cell_type": "markdown",
      "metadata": {
        "id": "by45qCyMxrBr"
      },
      "source": [
        "#### Backward [3 points]\n",
        "Implement the calculation for $\\mathbf{z}^\\top\\frac{\\partial}{\\partial \\mathbf{x}}\\left[\\mathbf{y}\\odot\\text{tanh}\\left(\\mathbf{W}\\mathbf{x}+\\mathbf{b}\\right)\\right]$  in PyTorch (i.e. without using PyTorch Autograd's `.backward`) using your derivation above."
      ]
    },
    {
      "cell_type": "code",
      "metadata": {
        "id": "EqIFSUV7yd6m"
      },
      "source": [
        "def bw(y, W, x, b, grad_output):\n",
        "  # TODO\n",
        "  return grad_output.T @ (torch.unsqueeze(y) * (torch.unsqueeze(1 - torch.tanh(W@x + b)**2) * W))"
      ],
      "execution_count": 9,
      "outputs": []
    },
    {
      "cell_type": "markdown",
      "metadata": {
        "id": "QvBLkJKhG6Rg"
      },
      "source": [
        "## SortBy PyTorch Autograd Function [10 points]"
      ]
    },
    {
      "cell_type": "markdown",
      "metadata": {
        "id": "ZsLf0kvGG9W4"
      },
      "source": [
        "Implement a PyTorch Autograd function `SortBy` which takes two inputs:\n",
        "- `x` is a matrix of size `m x n` \n",
        "- `s` is an accompanying vector of size `m`\n",
        "\n",
        "`SortBy` should sort the position of the row vectors in `x` using the accompanying scores in `s` in ascending order. For example, given\n",
        "$$\n",
        "\\begin{align}\n",
        "\\mathbf{X} &= \\left[\\begin{matrix}\n",
        "0.2 & -0.4 & 0.3\\\\\n",
        "1.2 & 2.3 & -2.1\\\\\n",
        "0.1 & -0.1 & 2\n",
        "\\end{matrix}\\right]\n",
        "&\\mathbf{s} &=\\left[\\begin{matrix}\n",
        "0.2\\\\\n",
        "-0.1\\\\\n",
        "3\n",
        "\\end{matrix}\\right]\n",
        "\\end{align}\n",
        "$$ the forward pass of `SortBy` should return\n",
        "$$\n",
        "\\mathbf{Y} = \\left[\\begin{matrix}\n",
        "1.2 & 2.3 & -2.1\\\\\n",
        "0.2 & -0.4 & 0.3\\\\\n",
        "0.1 & -0.1 & 2\n",
        "\\end{matrix}\\right]\n",
        "$$.\n",
        "\n",
        "Furthermore, given an upstream gradient `grad_output`  (i.e. a matrix of the same size as X), the backward pass of `SortBy` should calculate the gradient of `x`, effectively rerouting the gradient to the original position of the vectors before sorting. For example, if the first row vector of the upstream gradient  in our example above is a vector $\\mathbf{z}$, the gradient of `x` would have $\\mathbf{z}$ as its second row vector.\n",
        "\n",
        "Note that, `SortBy` will only be differentiable w.r.t. to x, and is not be differentiable w.r.t. the sorting procedure to provie a gradient for `s`. **You are not allowed to use any Python loops in your implementation. If you use Python loops for your solution, we will only give you half of the points!**\n",
        "\n",
        "Hints:\n",
        "- You are allowed to use `torch.sort` in your implementation of the forward pass.\n",
        "- Similarly to the example we had in the lecture, you can use the context `ctx` to save tensors on the forward pass that you might need to reuse on the backward pass."
      ]
    },
    {
      "cell_type": "code",
      "metadata": {
        "id": "Q-YgSz5uQI_Q"
      },
      "source": [
        "from torch.autograd import Function\n",
        "\n",
        "class SortBy(Function): \n",
        "  @staticmethod\n",
        "  def forward(ctx, x, s):\n",
        "    # TODO\n",
        "    _, indices = torch.sort(s)\n",
        "    Y = x[indices]\n",
        "    ctx.save_for_backward(indices)\n",
        "    return Y\n",
        "  \n",
        "  @staticmethod\n",
        "  def backward(ctx, grad_output):\n",
        "    # TODO\n",
        "    _,indices = torch.sort(ctx.saved_tensors)\n",
        "    return grad_output[indices],None"
      ],
      "execution_count": 10,
      "outputs": []
    },
    {
      "cell_type": "markdown",
      "metadata": {
        "id": "a_BF7G3UHFcp"
      },
      "source": [
        "## Multiple Choice Quiz [10 points]\n",
        "\n",
        "Answer the following questions by selecting the correct most specific answer (or `None` in case all answers are wrong).\n",
        "\n",
        "1. Which of the following operations cannot be calculated using `@`?\n",
        "2. What is gradient checking for?\n",
        "3. Why don't we use the finite differences method of gradient checking to calculate gradients instead of using backpropagation?\n",
        "4. Which of the following operations cannot be expressed as a single einsum string?\n",
        "5. When should you prefer using `view` instead of `reshape`?\n",
        "6. Which of the following statements is true if you construct a PyTorch tensor from a NumPy array using `torch.from_numpy`?\n",
        "7. Which one is a sufficient condition for being able to broadcast an operation between two tensors?\n",
        "8. What is the difference between a torch.Tensor and a torch.nn.Parameter?\n",
        "9. Given a convex loss function and a sufficiently small learning rate, stochastic gradient descent is guaranteed to?\n",
        "10. Given a non-convex loss function and a very large learning rate, stochastic gradient descent is guaranteed to?"
      ]
    },
    {
      "cell_type": "code",
      "metadata": {
        "id": "cWbew_PsFG5u"
      },
      "source": [
        "#@title Answers { run: \"auto\" }\n",
        "Q1 = \"None of the above\" #@param [\"Matrix-matrix multiplication\", \"Matrix-vector multiplication\", \"Vector-vector multiplication\", \"Tensor-matrix multiplication\", \"Tensor-vector multiplication\", \"None of the above\"]\n",
        "Q2 = \"It tests whether the forward pass of a function is consistent with the backward pass\" #@param [\"It tests whether the forward pass of a function is consistent with the backward pass\", \"It is used at runtime to check for numerical instabilities in the backward pass\", \"It tests wether the function and its gradient have been implemented correctly\", \"It tests whether the norm of the gradients of a function are bounded\", \"None of the above\"]\n",
        "Q3 = \"It would be too slow\" #@param [\"It cannot be used to approximate the gradient accurately enough\", \"It can only be used to calculate the gradient of single functions and not for chained functions which are commonly used in deep learning models\", \"It would be too slow\", \"None of the above\"]\n",
        "Q4 = \"None of the above\" #@param [\"The transpose of an order-three tensor\", \"The sum of the diagonal of a square matrix\", \"The outer product of two matrices\", \"None of the above\"]\n",
        "Q5 = \"When the tensor is contiguous\" #@param [\"When the tensor is non-contiguous\", \"When the tensor is contiguous\", \"None of the above\"]\n",
        "Q6 = \"They point to the same memory and altering one will change the other\" #@param [\"Gradients can be calculated using both, the PyTorch tensor and the NumPy array\", \"They point to the same memory and altering one will change the other\", \"The PyTorch tensor cannot be mapped back to a NumPy array\", \"None of the above\"]\n",
        "Q7 = \"One of the tensors has a singleton dimension\" #@param [\"One of the two tensors is a scalar\", \"One of the tensors has a singleton dimension\", \"The two tensors have the same number of dimensions\", \"None of the above\"]\n",
        "Q8 = \"Parameters get associated with a model when assigned to a member of the model's modules\" #@param [\"Parameters are mutable and tensors are not\", \"Parameters get associated with a model when assigned to a member of the model's modules\", \"Parameters need to be flattened into vectors whereas tensors can be high-dimensional\", \"None of the above\"]\n",
        "Q9 = \"Find the global optimum\" #@param [\"Find a local optimum\", \"Find the global optimum\", \"All of the above\", \"None of the above\"]\n",
        "Q10 = \"Find a local optimum\" #@param [\"Find a local optimum\", \"Find the global optimum\", \"Converge to a saddle point\", \"All of the above\", \"None of the above\"]"
      ],
      "execution_count": 11,
      "outputs": []
    },
    {
      "cell_type": "markdown",
      "metadata": {
        "id": "YZwY626nGlbb"
      },
      "source": [
        "# Part II: Feature Engineering [50 points]\n",
        "\n",
        "In this section you will develop a logistic regression model for sentiment prediction.  \n",
        "\n",
        "## Setup \n",
        "First we download the [sentence polarity dataset v1.0](http://www.cs.cornell.edu/people/pabo/movie-review-data/rt-polaritydata.tar.gz) from this [website](http://www.cs.cornell.edu/people/pabo/movie-review-data/) using a few shell commands. "
      ]
    },
    {
      "cell_type": "code",
      "metadata": {
        "id": "qwR7cadCuLD3",
        "colab": {
          "base_uri": "https://localhost:8080/"
        },
        "outputId": "922273c2-af60-4d23-f345-c568b8c27d05"
      },
      "source": [
        "%%shell\n",
        "wget http://www.cs.cornell.edu/People/pabo/movie-review-data/rt-polaritydata.tar.gz\n",
        "tar -xzf rt-polaritydata.tar.gz\n",
        "mv rt-polaritydata.README.1.0.txt rt-polaritydata\n",
        "cd rt-polaritydata\n",
        "iconv -f cp1252 -t utf-8 < rt-polarity.neg > rt-polarity.neg.utf8\n",
        "iconv -f cp1252 -t utf-8 < rt-polarity.pos > rt-polarity.pos.utf8\n",
        "perl -ne 'print \"neg\\t\" . $_' <  rt-polarity.neg.utf8 > rt-polarity.neg.utf8.tsv\n",
        "perl -ne 'print \"pos\\t\" . $_' <  rt-polarity.pos.utf8 > rt-polarity.pos.utf8.tsv\n",
        "cat rt-polarity.neg.utf8.tsv rt-polarity.pos.utf8.tsv > rt-polarity.utf8.tsv"
      ],
      "execution_count": 12,
      "outputs": [
        {
          "output_type": "stream",
          "text": [
            "--2021-02-01 20:49:43--  http://www.cs.cornell.edu/People/pabo/movie-review-data/rt-polaritydata.tar.gz\n",
            "Resolving www.cs.cornell.edu (www.cs.cornell.edu)... 132.236.207.36\n",
            "Connecting to www.cs.cornell.edu (www.cs.cornell.edu)|132.236.207.36|:80... connected.\n",
            "HTTP request sent, awaiting response... 301 Moved Permanently\n",
            "Location: http://www.cs.cornell.edu/people/pabo/movie-review-data/rt-polaritydata.tar.gz [following]\n",
            "--2021-02-01 20:49:44--  http://www.cs.cornell.edu/people/pabo/movie-review-data/rt-polaritydata.tar.gz\n",
            "Reusing existing connection to www.cs.cornell.edu:80.\n",
            "HTTP request sent, awaiting response... 200 OK\n",
            "Length: 487770 (476K) [application/x-gzip]\n",
            "Saving to: ‘rt-polaritydata.tar.gz’\n",
            "\n",
            "rt-polaritydata.tar 100%[===================>] 476.34K  1.05MB/s    in 0.4s    \n",
            "\n",
            "2021-02-01 20:49:44 (1.05 MB/s) - ‘rt-polaritydata.tar.gz’ saved [487770/487770]\n",
            "\n"
          ],
          "name": "stdout"
        },
        {
          "output_type": "execute_result",
          "data": {
            "text/plain": [
              ""
            ]
          },
          "metadata": {
            "tags": []
          },
          "execution_count": 12
        }
      ]
    },
    {
      "cell_type": "markdown",
      "metadata": {
        "id": "h2MTMQSMWPr9"
      },
      "source": [
        "Now we install [AllenNLP](https://allennlp.org/)."
      ]
    },
    {
      "cell_type": "code",
      "metadata": {
        "id": "lf64vki1zt0k",
        "colab": {
          "base_uri": "https://localhost:8080/"
        },
        "outputId": "c66e3afd-e183-46ef-9640-e670c11c15f8"
      },
      "source": [
        "%%shell\n",
        "pip install allennlp==0.9.0"
      ],
      "execution_count": 13,
      "outputs": [
        {
          "output_type": "stream",
          "text": [
            "Collecting allennlp==0.9.0\n",
            "\u001b[?25l  Downloading https://files.pythonhosted.org/packages/bb/bb/041115d8bad1447080e5d1e30097c95e4b66e36074277afce8620a61cee3/allennlp-0.9.0-py3-none-any.whl (7.6MB)\n",
            "\u001b[K     |████████████████████████████████| 7.6MB 12.6MB/s \n",
            "\u001b[?25hCollecting responses>=0.7\n",
            "  Downloading https://files.pythonhosted.org/packages/d5/71/4f04aed03ca35f2d02e1732ca6e996b2d7b40232fb7f1b58ff35f9a89b7b/responses-0.12.1-py2.py3-none-any.whl\n",
            "Collecting word2number>=1.1\n",
            "  Downloading https://files.pythonhosted.org/packages/4a/29/a31940c848521f0725f0df6b25dca8917f13a2025b0e8fcbe5d0457e45e6/word2number-1.1.zip\n",
            "Requirement already satisfied: torch>=1.2.0 in /usr/local/lib/python3.6/dist-packages (from allennlp==0.9.0) (1.7.0+cu101)\n",
            "Requirement already satisfied: pytest in /usr/local/lib/python3.6/dist-packages (from allennlp==0.9.0) (3.6.4)\n",
            "Requirement already satisfied: h5py in /usr/local/lib/python3.6/dist-packages (from allennlp==0.9.0) (2.10.0)\n",
            "Requirement already satisfied: scikit-learn in /usr/local/lib/python3.6/dist-packages (from allennlp==0.9.0) (0.22.2.post1)\n",
            "Requirement already satisfied: tqdm>=4.19 in /usr/local/lib/python3.6/dist-packages (from allennlp==0.9.0) (4.41.1)\n",
            "Collecting jsonnet>=0.10.0; sys_platform != \"win32\"\n",
            "\u001b[?25l  Downloading https://files.pythonhosted.org/packages/42/40/6f16e5ac994b16fa71c24310f97174ce07d3a97b433275589265c6b94d2b/jsonnet-0.17.0.tar.gz (259kB)\n",
            "\u001b[K     |████████████████████████████████| 266kB 61.2MB/s \n",
            "\u001b[?25hCollecting tensorboardX>=1.2\n",
            "\u001b[?25l  Downloading https://files.pythonhosted.org/packages/af/0c/4f41bcd45db376e6fe5c619c01100e9b7531c55791b7244815bac6eac32c/tensorboardX-2.1-py2.py3-none-any.whl (308kB)\n",
            "\u001b[K     |████████████████████████████████| 317kB 45.8MB/s \n",
            "\u001b[?25hCollecting spacy<2.2,>=2.1.0\n",
            "\u001b[?25l  Downloading https://files.pythonhosted.org/packages/41/5b/e07dd3bf104237bce4b398558b104c8e500333d6f30eabe3fa9685356b7d/spacy-2.1.9-cp36-cp36m-manylinux1_x86_64.whl (30.8MB)\n",
            "\u001b[K     |████████████████████████████████| 30.9MB 154kB/s \n",
            "\u001b[?25hCollecting boto3\n",
            "\u001b[?25l  Downloading https://files.pythonhosted.org/packages/c3/db/a7e290eb77632c9d25247977bbfc99aef9cd59f7c13eea69f8fea44404af/boto3-1.16.63-py2.py3-none-any.whl (130kB)\n",
            "\u001b[K     |████████████████████████████████| 133kB 61.9MB/s \n",
            "\u001b[?25hCollecting jsonpickle\n",
            "  Downloading https://files.pythonhosted.org/packages/77/a7/c2f527ddce3155ae9e008385963c2325cbfd52969f8b38efa2723e2af4af/jsonpickle-1.5.1-py2.py3-none-any.whl\n",
            "Requirement already satisfied: editdistance in /usr/local/lib/python3.6/dist-packages (from allennlp==0.9.0) (0.5.3)\n",
            "Requirement already satisfied: flask>=1.0.2 in /usr/local/lib/python3.6/dist-packages (from allennlp==0.9.0) (1.1.2)\n",
            "Collecting ftfy\n",
            "\u001b[?25l  Downloading https://files.pythonhosted.org/packages/ff/e2/3b51c53dffb1e52d9210ebc01f1fb9f2f6eba9b3201fa971fd3946643c71/ftfy-5.8.tar.gz (64kB)\n",
            "\u001b[K     |████████████████████████████████| 71kB 12.3MB/s \n",
            "\u001b[?25hRequirement already satisfied: nltk in /usr/local/lib/python3.6/dist-packages (from allennlp==0.9.0) (3.2.5)\n",
            "Collecting pytorch-pretrained-bert>=0.6.0\n",
            "\u001b[?25l  Downloading https://files.pythonhosted.org/packages/d7/e0/c08d5553b89973d9a240605b9c12404bcf8227590de62bae27acbcfe076b/pytorch_pretrained_bert-0.6.2-py3-none-any.whl (123kB)\n",
            "\u001b[K     |████████████████████████████████| 133kB 57.1MB/s \n",
            "\u001b[?25hRequirement already satisfied: numpy in /usr/local/lib/python3.6/dist-packages (from allennlp==0.9.0) (1.19.5)\n",
            "Requirement already satisfied: matplotlib>=2.2.3 in /usr/local/lib/python3.6/dist-packages (from allennlp==0.9.0) (3.2.2)\n",
            "Requirement already satisfied: requests>=2.18 in /usr/local/lib/python3.6/dist-packages (from allennlp==0.9.0) (2.23.0)\n",
            "Requirement already satisfied: scipy in /usr/local/lib/python3.6/dist-packages (from allennlp==0.9.0) (1.4.1)\n",
            "Collecting gevent>=1.3.6\n",
            "\u001b[?25l  Downloading https://files.pythonhosted.org/packages/f5/90/000736e587a720f8eef2bcd384456ce2add5ddfc3c63cf51a7ea13412cb6/gevent-21.1.2-cp36-cp36m-manylinux2010_x86_64.whl (5.5MB)\n",
            "\u001b[K     |████████████████████████████████| 5.5MB 12.5MB/s \n",
            "\u001b[?25hCollecting numpydoc>=0.8.0\n",
            "\u001b[?25l  Downloading https://files.pythonhosted.org/packages/60/1d/9e398c53d6ae27d5ab312ddc16a9ffe1bee0dfdf1d6ec88c40b0ca97582e/numpydoc-1.1.0-py3-none-any.whl (47kB)\n",
            "\u001b[K     |████████████████████████████████| 51kB 7.9MB/s \n",
            "\u001b[?25hCollecting conllu==1.3.1\n",
            "  Downloading https://files.pythonhosted.org/packages/ae/54/b0ae1199f3d01666821b028cd967f7c0ac527ab162af433d3da69242cea2/conllu-1.3.1-py2.py3-none-any.whl\n",
            "Collecting flaky\n",
            "  Downloading https://files.pythonhosted.org/packages/43/0e/2f50064e327f41a1eb811df089f813036e19a64b95e33f8e9e0b96c2447e/flaky-3.7.0-py2.py3-none-any.whl\n",
            "Collecting overrides\n",
            "  Downloading https://files.pythonhosted.org/packages/ff/b1/10f69c00947518e6676bbd43e739733048de64b8dd998e9c2d5a71f44c5d/overrides-3.1.0.tar.gz\n",
            "Collecting unidecode\n",
            "\u001b[?25l  Downloading https://files.pythonhosted.org/packages/74/65/91eab655041e9e92f948cb7302e54962035762ce7b518272ed9d6b269e93/Unidecode-1.1.2-py2.py3-none-any.whl (239kB)\n",
            "\u001b[K     |████████████████████████████████| 245kB 54.7MB/s \n",
            "\u001b[?25hCollecting parsimonious>=0.8.0\n",
            "\u001b[?25l  Downloading https://files.pythonhosted.org/packages/02/fc/067a3f89869a41009e1a7cdfb14725f8ddd246f30f63c645e8ef8a1c56f4/parsimonious-0.8.1.tar.gz (45kB)\n",
            "\u001b[K     |████████████████████████████████| 51kB 9.2MB/s \n",
            "\u001b[?25hCollecting flask-cors>=3.0.7\n",
            "  Downloading https://files.pythonhosted.org/packages/db/84/901e700de86604b1c4ef4b57110d4e947c218b9997adf5d38fa7da493bce/Flask_Cors-3.0.10-py2.py3-none-any.whl\n",
            "Requirement already satisfied: sqlparse>=0.2.4 in /usr/local/lib/python3.6/dist-packages (from allennlp==0.9.0) (0.4.1)\n",
            "Requirement already satisfied: pytz>=2017.3 in /usr/local/lib/python3.6/dist-packages (from allennlp==0.9.0) (2018.9)\n",
            "Collecting pytorch-transformers==1.1.0\n",
            "\u001b[?25l  Downloading https://files.pythonhosted.org/packages/50/89/ad0d6bb932d0a51793eaabcf1617a36ff530dc9ab9e38f765a35dc293306/pytorch_transformers-1.1.0-py3-none-any.whl (158kB)\n",
            "\u001b[K     |████████████████████████████████| 163kB 55.4MB/s \n",
            "\u001b[?25hRequirement already satisfied: six in /usr/local/lib/python3.6/dist-packages (from responses>=0.7->allennlp==0.9.0) (1.15.0)\n",
            "Collecting urllib3>=1.25.10\n",
            "\u001b[?25l  Downloading https://files.pythonhosted.org/packages/23/fc/8a49991f7905261f9ca9df5aa9b58363c3c821ce3e7f671895442b7100f2/urllib3-1.26.3-py2.py3-none-any.whl (137kB)\n",
            "\u001b[K     |████████████████████████████████| 143kB 71.8MB/s \n",
            "\u001b[?25hRequirement already satisfied: future in /usr/local/lib/python3.6/dist-packages (from torch>=1.2.0->allennlp==0.9.0) (0.16.0)\n",
            "Requirement already satisfied: typing-extensions in /usr/local/lib/python3.6/dist-packages (from torch>=1.2.0->allennlp==0.9.0) (3.7.4.3)\n",
            "Requirement already satisfied: dataclasses in /usr/local/lib/python3.6/dist-packages (from torch>=1.2.0->allennlp==0.9.0) (0.8)\n",
            "Requirement already satisfied: attrs>=17.4.0 in /usr/local/lib/python3.6/dist-packages (from pytest->allennlp==0.9.0) (20.3.0)\n",
            "Requirement already satisfied: more-itertools>=4.0.0 in /usr/local/lib/python3.6/dist-packages (from pytest->allennlp==0.9.0) (8.6.0)\n",
            "Requirement already satisfied: py>=1.5.0 in /usr/local/lib/python3.6/dist-packages (from pytest->allennlp==0.9.0) (1.10.0)\n",
            "Requirement already satisfied: setuptools in /usr/local/lib/python3.6/dist-packages (from pytest->allennlp==0.9.0) (51.3.3)\n",
            "Requirement already satisfied: pluggy<0.8,>=0.5 in /usr/local/lib/python3.6/dist-packages (from pytest->allennlp==0.9.0) (0.7.1)\n",
            "Requirement already satisfied: atomicwrites>=1.0 in /usr/local/lib/python3.6/dist-packages (from pytest->allennlp==0.9.0) (1.4.0)\n",
            "Requirement already satisfied: joblib>=0.11 in /usr/local/lib/python3.6/dist-packages (from scikit-learn->allennlp==0.9.0) (1.0.0)\n",
            "Requirement already satisfied: protobuf>=3.8.0 in /usr/local/lib/python3.6/dist-packages (from tensorboardX>=1.2->allennlp==0.9.0) (3.12.4)\n",
            "Collecting thinc<7.1.0,>=7.0.8\n",
            "\u001b[?25l  Downloading https://files.pythonhosted.org/packages/18/a5/9ace20422e7bb1bdcad31832ea85c52a09900cd4a7ce711246bfb92206ba/thinc-7.0.8-cp36-cp36m-manylinux1_x86_64.whl (2.1MB)\n",
            "\u001b[K     |████████████████████████████████| 2.1MB 59.6MB/s \n",
            "\u001b[?25hRequirement already satisfied: wasabi<1.1.0,>=0.2.0 in /usr/local/lib/python3.6/dist-packages (from spacy<2.2,>=2.1.0->allennlp==0.9.0) (0.8.1)\n",
            "Collecting preshed<2.1.0,>=2.0.1\n",
            "\u001b[?25l  Downloading https://files.pythonhosted.org/packages/20/93/f222fb957764a283203525ef20e62008675fd0a14ffff8cc1b1490147c63/preshed-2.0.1-cp36-cp36m-manylinux1_x86_64.whl (83kB)\n",
            "\u001b[K     |████████████████████████████████| 92kB 12.2MB/s \n",
            "\u001b[?25hRequirement already satisfied: srsly<1.1.0,>=0.0.6 in /usr/local/lib/python3.6/dist-packages (from spacy<2.2,>=2.1.0->allennlp==0.9.0) (1.0.5)\n",
            "Collecting plac<1.0.0,>=0.9.6\n",
            "  Downloading https://files.pythonhosted.org/packages/9e/9b/62c60d2f5bc135d2aa1d8c8a86aaf84edb719a59c7f11a4316259e61a298/plac-0.9.6-py2.py3-none-any.whl\n",
            "Requirement already satisfied: cymem<2.1.0,>=2.0.2 in /usr/local/lib/python3.6/dist-packages (from spacy<2.2,>=2.1.0->allennlp==0.9.0) (2.0.5)\n",
            "Requirement already satisfied: murmurhash<1.1.0,>=0.28.0 in /usr/local/lib/python3.6/dist-packages (from spacy<2.2,>=2.1.0->allennlp==0.9.0) (1.0.5)\n",
            "Collecting blis<0.3.0,>=0.2.2\n",
            "\u001b[?25l  Downloading https://files.pythonhosted.org/packages/34/46/b1d0bb71d308e820ed30316c5f0a017cb5ef5f4324bcbc7da3cf9d3b075c/blis-0.2.4-cp36-cp36m-manylinux1_x86_64.whl (3.2MB)\n",
            "\u001b[K     |████████████████████████████████| 3.2MB 47.5MB/s \n",
            "\u001b[?25hCollecting botocore<1.20.0,>=1.19.63\n",
            "\u001b[?25l  Downloading https://files.pythonhosted.org/packages/2c/05/0a955f0c92bec7da076fbbc73926dfb13fab8e2b88de7f8eb17c443f28f0/botocore-1.19.63-py2.py3-none-any.whl (7.2MB)\n",
            "\u001b[K     |████████████████████████████████| 7.2MB 46.3MB/s \n",
            "\u001b[?25hCollecting s3transfer<0.4.0,>=0.3.0\n",
            "\u001b[?25l  Downloading https://files.pythonhosted.org/packages/ea/43/4b4a1b26eb03a429a4c37ca7fdf369d938bd60018fc194e94b8379b0c77c/s3transfer-0.3.4-py2.py3-none-any.whl (69kB)\n",
            "\u001b[K     |████████████████████████████████| 71kB 9.2MB/s \n",
            "\u001b[?25hCollecting jmespath<1.0.0,>=0.7.1\n",
            "  Downloading https://files.pythonhosted.org/packages/07/cb/5f001272b6faeb23c1c9e0acc04d48eaaf5c862c17709d20e3469c6e0139/jmespath-0.10.0-py2.py3-none-any.whl\n",
            "Requirement already satisfied: importlib-metadata; python_version < \"3.8\" in /usr/local/lib/python3.6/dist-packages (from jsonpickle->allennlp==0.9.0) (3.4.0)\n",
            "Requirement already satisfied: Werkzeug>=0.15 in /usr/local/lib/python3.6/dist-packages (from flask>=1.0.2->allennlp==0.9.0) (1.0.1)\n",
            "Requirement already satisfied: itsdangerous>=0.24 in /usr/local/lib/python3.6/dist-packages (from flask>=1.0.2->allennlp==0.9.0) (1.1.0)\n",
            "Requirement already satisfied: Jinja2>=2.10.1 in /usr/local/lib/python3.6/dist-packages (from flask>=1.0.2->allennlp==0.9.0) (2.11.2)\n",
            "Requirement already satisfied: click>=5.1 in /usr/local/lib/python3.6/dist-packages (from flask>=1.0.2->allennlp==0.9.0) (7.1.2)\n",
            "Requirement already satisfied: wcwidth in /usr/local/lib/python3.6/dist-packages (from ftfy->allennlp==0.9.0) (0.2.5)\n",
            "Requirement already satisfied: regex in /usr/local/lib/python3.6/dist-packages (from pytorch-pretrained-bert>=0.6.0->allennlp==0.9.0) (2019.12.20)\n",
            "Requirement already satisfied: cycler>=0.10 in /usr/local/lib/python3.6/dist-packages (from matplotlib>=2.2.3->allennlp==0.9.0) (0.10.0)\n",
            "Requirement already satisfied: kiwisolver>=1.0.1 in /usr/local/lib/python3.6/dist-packages (from matplotlib>=2.2.3->allennlp==0.9.0) (1.3.1)\n",
            "Requirement already satisfied: python-dateutil>=2.1 in /usr/local/lib/python3.6/dist-packages (from matplotlib>=2.2.3->allennlp==0.9.0) (2.8.1)\n",
            "Requirement already satisfied: pyparsing!=2.0.4,!=2.1.2,!=2.1.6,>=2.0.1 in /usr/local/lib/python3.6/dist-packages (from matplotlib>=2.2.3->allennlp==0.9.0) (2.4.7)\n",
            "Requirement already satisfied: chardet<4,>=3.0.2 in /usr/local/lib/python3.6/dist-packages (from requests>=2.18->allennlp==0.9.0) (3.0.4)\n",
            "Requirement already satisfied: certifi>=2017.4.17 in /usr/local/lib/python3.6/dist-packages (from requests>=2.18->allennlp==0.9.0) (2020.12.5)\n",
            "Requirement already satisfied: idna<3,>=2.5 in /usr/local/lib/python3.6/dist-packages (from requests>=2.18->allennlp==0.9.0) (2.10)\n",
            "Collecting zope.event\n",
            "  Downloading https://files.pythonhosted.org/packages/9e/85/b45408c64f3b888976f1d5b37eed8d746b8d5729a66a49ec846fda27d371/zope.event-4.5.0-py2.py3-none-any.whl\n",
            "Collecting zope.interface\n",
            "\u001b[?25l  Downloading https://files.pythonhosted.org/packages/82/b0/da8afd9b3bd50c7665ecdac062f182982af1173c9081f9af7261091c5588/zope.interface-5.2.0-cp36-cp36m-manylinux2010_x86_64.whl (236kB)\n",
            "\u001b[K     |████████████████████████████████| 245kB 66.7MB/s \n",
            "\u001b[?25hCollecting greenlet<2.0,>=0.4.17; platform_python_implementation == \"CPython\"\n",
            "\u001b[?25l  Downloading https://files.pythonhosted.org/packages/22/e2/9fbb24cf1ee89813ded3761314562a83a2822ad2bf5682eef0d0c99e2a5d/greenlet-1.0.0-cp36-cp36m-manylinux2010_x86_64.whl (156kB)\n",
            "\u001b[K     |████████████████████████████████| 163kB 43.3MB/s \n",
            "\u001b[?25hRequirement already satisfied: sphinx>=1.6.5 in /usr/local/lib/python3.6/dist-packages (from numpydoc>=0.8.0->allennlp==0.9.0) (1.8.5)\n",
            "Collecting sentencepiece\n",
            "\u001b[?25l  Downloading https://files.pythonhosted.org/packages/14/67/e42bd1181472c95c8cda79305df848264f2a7f62740995a46945d9797b67/sentencepiece-0.1.95-cp36-cp36m-manylinux2014_x86_64.whl (1.2MB)\n",
            "\u001b[K     |████████████████████████████████| 1.2MB 54.0MB/s \n",
            "\u001b[?25hRequirement already satisfied: zipp>=0.5 in /usr/local/lib/python3.6/dist-packages (from importlib-metadata; python_version < \"3.8\"->jsonpickle->allennlp==0.9.0) (3.4.0)\n",
            "Requirement already satisfied: MarkupSafe>=0.23 in /usr/local/lib/python3.6/dist-packages (from Jinja2>=2.10.1->flask>=1.0.2->allennlp==0.9.0) (1.1.1)\n",
            "Requirement already satisfied: sphinxcontrib-websupport in /usr/local/lib/python3.6/dist-packages (from sphinx>=1.6.5->numpydoc>=0.8.0->allennlp==0.9.0) (1.2.4)\n",
            "Requirement already satisfied: packaging in /usr/local/lib/python3.6/dist-packages (from sphinx>=1.6.5->numpydoc>=0.8.0->allennlp==0.9.0) (20.8)\n",
            "Requirement already satisfied: babel!=2.0,>=1.3 in /usr/local/lib/python3.6/dist-packages (from sphinx>=1.6.5->numpydoc>=0.8.0->allennlp==0.9.0) (2.9.0)\n",
            "Requirement already satisfied: imagesize in /usr/local/lib/python3.6/dist-packages (from sphinx>=1.6.5->numpydoc>=0.8.0->allennlp==0.9.0) (1.2.0)\n",
            "Requirement already satisfied: snowballstemmer>=1.1 in /usr/local/lib/python3.6/dist-packages (from sphinx>=1.6.5->numpydoc>=0.8.0->allennlp==0.9.0) (2.1.0)\n",
            "Requirement already satisfied: docutils>=0.11 in /usr/local/lib/python3.6/dist-packages (from sphinx>=1.6.5->numpydoc>=0.8.0->allennlp==0.9.0) (0.16)\n",
            "Requirement already satisfied: alabaster<0.8,>=0.7 in /usr/local/lib/python3.6/dist-packages (from sphinx>=1.6.5->numpydoc>=0.8.0->allennlp==0.9.0) (0.7.12)\n",
            "Requirement already satisfied: Pygments>=2.0 in /usr/local/lib/python3.6/dist-packages (from sphinx>=1.6.5->numpydoc>=0.8.0->allennlp==0.9.0) (2.6.1)\n",
            "Requirement already satisfied: sphinxcontrib-serializinghtml in /usr/local/lib/python3.6/dist-packages (from sphinxcontrib-websupport->sphinx>=1.6.5->numpydoc>=0.8.0->allennlp==0.9.0) (1.1.4)\n",
            "Building wheels for collected packages: word2number, jsonnet, ftfy, overrides, parsimonious\n",
            "  Building wheel for word2number (setup.py) ... \u001b[?25l\u001b[?25hdone\n",
            "  Created wheel for word2number: filename=word2number-1.1-cp36-none-any.whl size=5588 sha256=d113db52084b249a112b819b3007931ed92bd0cf23f2a4e0afa7867a59f420e1\n",
            "  Stored in directory: /root/.cache/pip/wheels/46/2f/53/5f5c1d275492f2fce1cdab9a9bb12d49286dead829a4078e0e\n",
            "  Building wheel for jsonnet (setup.py) ... \u001b[?25l\u001b[?25hdone\n",
            "  Created wheel for jsonnet: filename=jsonnet-0.17.0-cp36-cp36m-linux_x86_64.whl size=3387920 sha256=0796ae217b24250aff5f0180de98882cf6ba36b9789f5664cf1f1c2a02d23972\n",
            "  Stored in directory: /root/.cache/pip/wheels/26/7a/37/7dbcc30a6b4efd17b91ad1f0128b7bbf84813bd4e1cfb8c1e3\n",
            "  Building wheel for ftfy (setup.py) ... \u001b[?25l\u001b[?25hdone\n",
            "  Created wheel for ftfy: filename=ftfy-5.8-cp36-none-any.whl size=45613 sha256=15c4ffb4c054ffd732f8ec622270086c2970811243cb67466f846cfcad6e12aa\n",
            "  Stored in directory: /root/.cache/pip/wheels/ba/c0/ef/f28c4da5ac84a4e06ac256ca9182fc34fa57fefffdbc68425b\n",
            "  Building wheel for overrides (setup.py) ... \u001b[?25l\u001b[?25hdone\n",
            "  Created wheel for overrides: filename=overrides-3.1.0-cp36-none-any.whl size=10175 sha256=7670eb001f87261bf89074d8b16b339b7d487e7dbeec90ce350e0ba86bd00dab\n",
            "  Stored in directory: /root/.cache/pip/wheels/5c/24/13/6ef8600e6f147c95e595f1289a86a3cc82ed65df57582c65a9\n",
            "  Building wheel for parsimonious (setup.py) ... \u001b[?25l\u001b[?25hdone\n",
            "  Created wheel for parsimonious: filename=parsimonious-0.8.1-cp36-none-any.whl size=42710 sha256=dbe48080b0eb5c915aafcd5a85c323201dd4143e4173a1b2607065c81c0d8be5\n",
            "  Stored in directory: /root/.cache/pip/wheels/b7/8d/e7/a0e74217da5caeb3c1c7689639b6d28ddbf9985b840bc96a9a\n",
            "Successfully built word2number jsonnet ftfy overrides parsimonious\n",
            "\u001b[31mERROR: requests 2.23.0 has requirement urllib3!=1.25.0,!=1.25.1,<1.26,>=1.21.1, but you'll have urllib3 1.26.3 which is incompatible.\u001b[0m\n",
            "\u001b[31mERROR: en-core-web-sm 2.2.5 has requirement spacy>=2.2.2, but you'll have spacy 2.1.9 which is incompatible.\u001b[0m\n",
            "\u001b[31mERROR: datascience 0.10.6 has requirement folium==0.2.1, but you'll have folium 0.8.3 which is incompatible.\u001b[0m\n",
            "Installing collected packages: urllib3, responses, word2number, jsonnet, tensorboardX, blis, preshed, plac, thinc, spacy, jmespath, botocore, s3transfer, boto3, jsonpickle, ftfy, pytorch-pretrained-bert, zope.event, zope.interface, greenlet, gevent, numpydoc, conllu, flaky, overrides, unidecode, parsimonious, flask-cors, sentencepiece, pytorch-transformers, allennlp\n",
            "  Found existing installation: urllib3 1.24.3\n",
            "    Uninstalling urllib3-1.24.3:\n",
            "      Successfully uninstalled urllib3-1.24.3\n",
            "  Found existing installation: blis 0.4.1\n",
            "    Uninstalling blis-0.4.1:\n",
            "      Successfully uninstalled blis-0.4.1\n",
            "  Found existing installation: preshed 3.0.5\n",
            "    Uninstalling preshed-3.0.5:\n",
            "      Successfully uninstalled preshed-3.0.5\n",
            "  Found existing installation: plac 1.1.3\n",
            "    Uninstalling plac-1.1.3:\n",
            "      Successfully uninstalled plac-1.1.3\n",
            "  Found existing installation: thinc 7.4.0\n",
            "    Uninstalling thinc-7.4.0:\n",
            "      Successfully uninstalled thinc-7.4.0\n",
            "  Found existing installation: spacy 2.2.4\n",
            "    Uninstalling spacy-2.2.4:\n",
            "      Successfully uninstalled spacy-2.2.4\n",
            "Successfully installed allennlp-0.9.0 blis-0.2.4 boto3-1.16.63 botocore-1.19.63 conllu-1.3.1 flaky-3.7.0 flask-cors-3.0.10 ftfy-5.8 gevent-21.1.2 greenlet-1.0.0 jmespath-0.10.0 jsonnet-0.17.0 jsonpickle-1.5.1 numpydoc-1.1.0 overrides-3.1.0 parsimonious-0.8.1 plac-0.9.6 preshed-2.0.1 pytorch-pretrained-bert-0.6.2 pytorch-transformers-1.1.0 responses-0.12.1 s3transfer-0.3.4 sentencepiece-0.1.95 spacy-2.1.9 tensorboardX-2.1 thinc-7.0.8 unidecode-1.1.2 urllib3-1.26.3 word2number-1.1 zope.event-4.5.0 zope.interface-5.2.0\n"
          ],
          "name": "stdout"
        },
        {
          "output_type": "execute_result",
          "data": {
            "text/plain": [
              ""
            ]
          },
          "metadata": {
            "tags": []
          },
          "execution_count": 13
        }
      ]
    },
    {
      "cell_type": "markdown",
      "metadata": {
        "id": "bDkhShc8WX9F"
      },
      "source": [
        "Next we implement a AllenNLP data loader for this data. "
      ]
    },
    {
      "cell_type": "code",
      "metadata": {
        "id": "34_HDMys1sLg",
        "colab": {
          "base_uri": "https://localhost:8080/"
        },
        "outputId": "b3aa01a7-b0e6-4af5-e996-1b3def755faa"
      },
      "source": [
        "from typing import Iterator, List, Dict, Optional\n",
        "import torch\n",
        "import torch.optim as optim\n",
        "import numpy as np\n",
        "from allennlp.data import Instance\n",
        "from allennlp.data.fields import TextField, SequenceLabelField, LabelField\n",
        "from allennlp.data.dataset_readers import DatasetReader\n",
        "from allennlp.common.file_utils import cached_path\n",
        "from allennlp.data.token_indexers import TokenIndexer, SingleIdTokenIndexer\n",
        "from allennlp.data.tokenizers import Token\n",
        "from allennlp.data.vocabulary import Vocabulary\n",
        "from allennlp.models import Model\n",
        "from allennlp.modules.text_field_embedders import TextFieldEmbedder, BasicTextFieldEmbedder\n",
        "from allennlp.modules.token_embedders import Embedding\n",
        "from allennlp.modules.seq2seq_encoders import Seq2SeqEncoder, PytorchSeq2SeqWrapper\n",
        "from allennlp.nn.util import get_text_field_mask, sequence_cross_entropy_with_logits\n",
        "from allennlp.training.metrics import CategoricalAccuracy\n",
        "from allennlp.data.iterators import BucketIterator\n",
        "from allennlp.training.trainer import Trainer\n",
        "from allennlp.predictors import SentenceTaggerPredictor\n",
        "\n",
        "class PolarityDatasetReader(DatasetReader):\n",
        "    \"\"\"\n",
        "    DatasetReader for polarity data like \n",
        "\n",
        "        neg\\tI had better gone to Imperial\n",
        "    \"\"\"\n",
        "    def __init__(self, token_indexers: Dict[str, TokenIndexer] = None,\n",
        "                 tokenize_and_preprocess = lambda text: text.split(\" \")) -> None:\n",
        "        super().__init__(lazy=False)\n",
        "        self.token_indexers = token_indexers or {\"tokens\": SingleIdTokenIndexer()}\n",
        "        self.tokenize_and_preprocess = tokenize_and_preprocess\n",
        "\n",
        "    def text_to_instance(self, tokens: List[Token], label: Optional[str] = None) -> Instance:\n",
        "        sentence_field = TextField(tokens, self.token_indexers)\n",
        "        fields = {\"sentence\": sentence_field}\n",
        "\n",
        "        if label:\n",
        "            label_field = LabelField(label=label)\n",
        "            fields[\"label\"] = label_field\n",
        "\n",
        "        return Instance(fields)\n",
        "\n",
        "    def _tokenize_and_preprocess(text):\n",
        "        return text.split(\" \")\n",
        "\n",
        "    def _read(self, file_path: str) -> Iterator[Instance]:\n",
        "        with open(file_path) as f:\n",
        "            for line in f:\n",
        "                label, text = line.split(\"\\t\")\n",
        "                tokens = [Token(word) for word in self.tokenize_and_preprocess(text)]\n",
        "                yield self.text_to_instance(tokens, label)\n",
        "\n",
        "\n"
      ],
      "execution_count": 14,
      "outputs": [
        {
          "output_type": "stream",
          "text": [
            "/usr/local/lib/python3.6/dist-packages/requests/__init__.py:91: RequestsDependencyWarning: urllib3 (1.26.3) or chardet (3.0.4) doesn't match a supported version!\n",
            "  RequestsDependencyWarning)\n"
          ],
          "name": "stderr"
        }
      ]
    },
    {
      "cell_type": "markdown",
      "metadata": {
        "id": "isDjFO7LXYf-"
      },
      "source": [
        "# Preprocessing [7pts]\n",
        "\n",
        "In order to fit our model, we will need to tokenize and preprocess the data. Write a dataset loader that preprocesses the data.\n",
        "\n",
        "Tokenization is an important field of NLP, and can make a large difference to downstream performance. Luckily fo us, the dataset has already been tokenized, so we just need to split the input text by whitespace to get the tokens. The tokenization is not perfect though. Your preprocessing function should should fix all instances where \"Mr.\" have been tokenized as two tokens to instances where \"Mr.\" is a single token.\n",
        "\n",
        "Implement the above by changing and possibly extending the code below."
      ]
    },
    {
      "cell_type": "code",
      "metadata": {
        "id": "3As4zBmSyZhW",
        "colab": {
          "base_uri": "https://localhost:8080/"
        },
        "outputId": "dfbdf9be-fe4c-4b9c-aa71-46d17b0b8c9f"
      },
      "source": [
        "def collapse_mr_dot(text):\n",
        "    \"\"\"\n",
        "    Args:\n",
        "      tokens: a list of tokens\n",
        "    \"\"\"\n",
        "    result = []\n",
        "    # TODO\n",
        "    result = text.split()\n",
        "    for i,_ in enumerate(result):\n",
        "      if result[i] == \"mr\" and result[i+1] ==\".\":\n",
        "        result[i] = result[i] + result[i+1]\n",
        "        result.remove(result[i+1])\n",
        "    return result\n",
        "\n",
        "torch.manual_seed(1)\n",
        "reader = PolarityDatasetReader(tokenize_and_preprocess=collapse_mr_dot)\n",
        "data_pre = reader.read(cached_path(\"rt-polaritydata/rt-polarity.utf8.tsv\"))\n",
        "rt_polarity_pre = data_pre\n",
        "for instance in data_pre:\n",
        "  if \"mr.\" in [t.text for t in instance['sentence']]:\n",
        "    print(instance['sentence'])\n",
        "    break"
      ],
      "execution_count": 15,
      "outputs": [
        {
          "output_type": "stream",
          "text": [
            "10662it [00:00, 14267.34it/s]"
          ],
          "name": "stderr"
        },
        {
          "output_type": "stream",
          "text": [
            "TextField of length 34 with text: \n",
            " \t\t[as, is, often, the, case, with, ambitious, ,, eager, first-time, filmmakers, ,, mr., murray, ,, a,\n",
            "\t\tprolific, director, of, music, videos, ,, stuffs, his, debut, with, more, plot, than, it, can,\n",
            "\t\tcomfortably, hold, .]\n",
            " \t\tand TokenIndexers : {'tokens': 'SingleIdTokenIndexer'}\n"
          ],
          "name": "stdout"
        },
        {
          "output_type": "stream",
          "text": [
            "\n"
          ],
          "name": "stderr"
        }
      ]
    },
    {
      "cell_type": "markdown",
      "metadata": {
        "id": "I-JYoGSCDjuj"
      },
      "source": [
        "## Logistic Regression\n",
        "\n",
        "Below we provide a simple implementation of a model, that combined with the corresponding loss, amounts to logistic regression.  "
      ]
    },
    {
      "cell_type": "code",
      "metadata": {
        "id": "cBogFeKugF0v"
      },
      "source": [
        "import torch\n",
        "import torch.nn as nn\n",
        "\n",
        "# Model\n",
        "class LogisticRegression(nn.Module):\n",
        "    \"\"\"\n",
        "    Simple Logistic Regression implementation based on torchtext input format.\n",
        "    \"\"\"\n",
        "    def __init__(self, num_features):\n",
        "        super(LogisticRegression, self).__init__()\n",
        "        self.weights = nn.Parameter(torch.normal(torch.zeros(num_features)), \n",
        "                                requires_grad=True)\n",
        "            \n",
        "    def forward(self, sentence):\n",
        "        \"\"\"\n",
        "        Args:\n",
        "          sentence: a dictionary of ...\n",
        "        \"\"\"\n",
        "        tokens = sentence['tokens']\n",
        "        active_tokens_mask = get_text_field_mask(sentence)\n",
        "        # retrieve weights and set those to zero that come from padding cells \n",
        "        filtered = active_tokens_mask * self.weights[tokens]\n",
        "        # sum pooling along the token position dimension \n",
        "        logits = filtered.sum(dim=1)\n",
        "        return logits\n",
        "\n",
        "\n",
        "# model = LogisticRegression(vocab.get_vocab_size(\"tokens\"))\n",
        "# model.forward(sentence)"
      ],
      "execution_count": 16,
      "outputs": []
    },
    {
      "cell_type": "markdown",
      "metadata": {
        "id": "ZKGwAaYEEm0-"
      },
      "source": [
        "## Formulation [5pts]\n",
        "\n",
        "In the class we have presented the model as encoder $f(\\mathbf{x})$ follwed by a linear decoder\n",
        "$$s(\\mathbf{x}) = \\boldsymbol{\\theta}^T  f(\\mathbf{x}) = \\boldsymbol{\\theta}^T \\sum_{w\\in \\mathbf{x}} f(w) $$ where $f(\\mathbf{x})$ is the representation of the input text. \n",
        "\n",
        "The implementation here achieves the same output, but the calculation is performed slightly differently due to technical reasons when working with pytorch. Can you give a mathematical description of this implementation here that captures the order in which computation happens? Below $f(w)$ is a one-hot representation of a word, as per lecture 2. \n",
        "\n",
        "The candidate answers are:\n",
        "\n",
        "1. $s(\\mathbf{x}) = \\left[\\sum_{w\\in \\mathbf{x}}  f(w)  \\right]^T \\boldsymbol{\\theta} $\n",
        "2. $s(\\mathbf{x}) = \\sum_{w\\in \\mathbf{x}}  \\boldsymbol{\\theta}^T f(w)$\n",
        "3. $s(\\mathbf{x}) = \\frac{1}{|\\mathbf{x}|}\\boldsymbol{\\theta}^T \\sum_{\\mathbf{x}\\in x}  f(w)$\n",
        "4. $s(\\mathbf{x}) = \\left[\\sum_{w\\in \\mathbf{x}}  f(w)  \\right]^T \\boldsymbol{\\theta} \\frac{1}{|\\mathbf{x}|} $"
      ]
    },
    {
      "cell_type": "code",
      "metadata": {
        "id": "FjKT0eJzvyw8"
      },
      "source": [
        "#@title Answers { run: \"auto\" }\n",
        "QFormulation = \"Eq 2\" #@param [\"Eq 1\", \"Eq 2\", \"Eq 3\", \"Eq 4\", \"None of the above\"]"
      ],
      "execution_count": 17,
      "outputs": []
    },
    {
      "cell_type": "markdown",
      "metadata": {
        "id": "J9ybvSIOFiLR"
      },
      "source": [
        "## Mean Pooling [8pts]\n",
        "\n",
        "Create a new version of the logistic regression module, using mean pooling. "
      ]
    },
    {
      "cell_type": "code",
      "metadata": {
        "id": "IPYSGdhmFpQH"
      },
      "source": [
        "# Model\n",
        "class LogisticRegressionMeanPooling(nn.Module):\n",
        "    \"\"\"\n",
        "    Simple Logistic Regression implementation based on torchtext input format.\n",
        "    \"\"\"\n",
        "    def __init__(self, num_features):\n",
        "        super(LogisticRegressionMeanPooling, self).__init__()\n",
        "        self.weights = nn.Parameter(torch.normal(torch.zeros(num_features)), \n",
        "                                requires_grad=True)\n",
        "            \n",
        "    def forward(self, sentence):\n",
        "        \"\"\"\n",
        "        Args:\n",
        "          sentence: a dictionary of ...\n",
        "        \"\"\"\n",
        "        tokens = sentence['tokens']\n",
        "        active_tokens_mask = get_text_field_mask(sentence)\n",
        "        # retrieve weights and set those to zero that come from padding cells \n",
        "        filtered = active_tokens_mask * self.weights[tokens]\n",
        "        # sum pooling along the token position dimension \n",
        "        # TODO\n",
        "        logits = filtered.mean(dim=1)\n",
        "        return logits\n"
      ],
      "execution_count": 18,
      "outputs": []
    },
    {
      "cell_type": "markdown",
      "metadata": {
        "id": "XU9QcbnWG6PK"
      },
      "source": [
        "## Add Features [20pts]\n",
        "\n",
        "Add the features below to the preprocessing pipeline shown below. \n",
        "\n",
        "### Bias Feature [6 pts]\n",
        "\n",
        "It is common practice to add a *bias* term of linear classifiers:\n",
        "\n",
        "$$s(\\mathbf{x}) = \\boldsymbol{\\theta}^T  f(\\mathbf{x}) + b $$\n",
        "\n",
        "One way to achieve this in general is to augment $f(\\mathbf{x}) $ with an extra component that is always set to $1$. In our implementation, this can be achieved by augmenting the sentence field appropriately when loading the data, and setting the `add_features` argument in the dataset loader. Implement this below.  \n",
        "\n",
        "### Bigram Feature [7 pts]\n",
        "\n",
        "Use the `add_features` pipeline to implement a feature that captures whether word *pairs* $w_1, w_2$ appear consecutively in the sentence.  This feature should be *combined* with the standard unigram and bias features.   \n",
        "\n",
        "### Max Pooling [7 pts]\n",
        "\n",
        "Use the `add_features` pipeline to implement max pooling such that any feature appearing more than once in the sentence is only counted once, as per the lecture slides of week 1. "
      ]
    },
    {
      "cell_type": "code",
      "metadata": {
        "id": "nmLgBoZFHms6",
        "colab": {
          "base_uri": "https://localhost:8080/"
        },
        "outputId": "ebf12b3b-e041-4669-8b2b-da12157b981b"
      },
      "source": [
        "def add_features(text):\n",
        "  \"\"\"\n",
        "  Args:\n",
        "    features: a list of tokens\n",
        "  \"\"\"\n",
        "  # TODO implement this function based on instructions above. \n",
        "  result = []\n",
        "\n",
        "  # unigram\n",
        "  split = text.split(\" \")\n",
        "  result.append(\"bias\")\n",
        "  for word in split:\n",
        "    result.append(word)\n",
        "\n",
        "  # bigram\n",
        "  for i,word in enumerate(split):\n",
        "    if i != len(split)-1 and i != len(split)-2:\n",
        "      result.append(word+\" \"+split[i+1])\n",
        "\n",
        "  # max pooling\n",
        "  result = list(set(result))\n",
        "  return result\n",
        "\n",
        "reader = PolarityDatasetReader(tokenize_and_preprocess=add_features)\n",
        "data_pre_2 = reader.read(cached_path(\"rt-polaritydata/rt-polarity.utf8.tsv\"))\n",
        "data_pre_2[10]['sentence'][:]"
      ],
      "execution_count": 19,
      "outputs": [
        {
          "output_type": "stream",
          "text": [
            "10662it [00:01, 10090.13it/s]\n"
          ],
          "name": "stderr"
        },
        {
          "output_type": "execute_result",
          "data": {
            "text/plain": [
              "[a sentimental,\n",
              " \n",
              ",\n",
              " that never,\n",
              " sentimental mess,\n",
              " a,\n",
              " never,\n",
              " never rings,\n",
              " that,\n",
              " rings true,\n",
              " mess that,\n",
              " .,\n",
              " mess,\n",
              " rings,\n",
              " true,\n",
              " true .,\n",
              " bias,\n",
              " sentimental]"
            ]
          },
          "metadata": {
            "tags": []
          },
          "execution_count": 19
        }
      ]
    },
    {
      "cell_type": "markdown",
      "metadata": {
        "id": "sy8JnMkZJQEw"
      },
      "source": [
        "## Hyperparameters Search and Analysis [10 pts]\n",
        "\n",
        "### Early Stopping [5pts]\n",
        "\n",
        "Finding the right number of iterations is important (why can running to convergence be bad?). One way to to do this is to iterate for a max number K, and then choose the iteration with the largest dev set performance. But this can be slow and unnecessary if we assume that dev-set performance doesn't go up again once it starts to go down (dev set performance concave). Implement a variant of the training loop that implements this idea.  Specifically, the loop should terminate if there has been no increase in development set accuracy when comparing the current accuracy to that from 10 epochs ago. \n",
        "\n",
        "### Grid Search [5pts]\n",
        "Using all the features you developed in the above \"Add Features\" section (or the base model in case you could not address the question), find the best combination of \n",
        "\n",
        "* Learning Rate in {1.0, 0.1}\n",
        "* Number of Training epochs (via early stopping, use 1000 as maximum)\n",
        "* L2 regularisation weight in {0.001, 0.0001, 0}\n",
        "\n",
        "After grid search, the value of the variables `best_acc`, `best_l2`, `best_lr` and `best_epochs` should be appropriately. \n"
      ]
    },
    {
      "cell_type": "code",
      "metadata": {
        "id": "uwHMvGhWo6ej",
        "colab": {
          "base_uri": "https://localhost:8080/"
        },
        "outputId": "0e9aa9e5-7184-431c-cb46-a5badb067669"
      },
      "source": [
        "def accuracy(dataset, model, iterator):\n",
        "  # Testing the model and returning the accuracy on the given dataset\n",
        "  total = 0\n",
        "  correct = 0\n",
        "  for batch in iterator(dataset, num_epochs=1):\n",
        "      sentence = batch['sentence']\n",
        "      label = batch['label']\n",
        "      output = model(sentence)\n",
        "      total += len(label)\n",
        "      prediction = (output > 0).long()\n",
        "      correct += (prediction == label).sum()\n",
        "\n",
        "  return float(correct) / total  \n",
        "\n",
        "def training_loop(model, iterator, train_set, dev_set, num_epochs=100,\n",
        "                  lr=0.1, weight_decay=0.0):\n",
        "  \"\"\"\n",
        "  Should return the best dev_set accuracy and the number of epochs used. \n",
        "  \"\"\"\n",
        "  criterion = torch.nn.BCEWithLogitsLoss()  \n",
        "  optimizer = torch.optim.SGD(model.parameters(), lr=lr, \n",
        "                              weight_decay=weight_decay)  \n",
        "  # Training the Model\n",
        "  epoch_accuracies = []\n",
        "  best_epoch = 0\n",
        "  best_accuracy = 0.0\n",
        "  for epoch in range(num_epochs):\n",
        "      for i, batch in enumerate(iterator(train_set,num_epochs=1)):\n",
        "          sentence = batch['sentence']\n",
        "          label = batch['label'].float()\n",
        "\n",
        "          # Forward + Backward + Optimize\n",
        "          optimizer.zero_grad()\n",
        "          logits = model(sentence)\n",
        "          loss = criterion(logits, label)\n",
        "          loss.backward()\n",
        "          optimizer.step()\n",
        "\n",
        "          if (i+1) % 100 == 0:\n",
        "              print ('Epoch: [%d/%d], Step: [%d/%d], Loss: %.4f, Dev: %.4f' \n",
        "                     % (epoch+1, num_epochs, i+1, len(train_set)//iterator._batch_size, \n",
        "                        loss.data, accuracy(dev_set, model, iterator)))\n",
        "      \n",
        "      epoch_accuracies.append(accuracy(dev_set, model, iterator))\n",
        "      if epoch_accuracies[-1] > best_accuracy:\n",
        "          best_accuracy = epoch_accuracies[-1]\n",
        "          best_epoch = epoch\n",
        "          \n",
        "      # TODO: implement early stopping here\n",
        "      if len(epoch_accuracies) >= 11 and best_accuracy == epoch_accuracies[-11]:  \n",
        "        break              \n",
        "  return best_accuracy, best_epoch\n",
        "\n",
        "reader = PolarityDatasetReader()\n",
        "data = reader.read(cached_path(\"rt-polaritydata/rt-polarity.utf8.tsv\"))\n",
        "training_data = data[0:-1000]\n",
        "dev_data = data[-1000:]\n",
        "vocab = Vocabulary.from_instances(training_data)\n",
        "iterator = BucketIterator(batch_size=32, sorting_keys=[(\"sentence\", \"num_tokens\")])\n",
        "iterator.index_with(vocab)\n",
        "print(len(training_data))\n",
        "print(len(dev_data))\n",
        "print(len(data))\n",
        "\n",
        "best_acc = 0.0 # best accuracy achieved \n",
        "best_lr = 0.0 # best learning rate at best accuracy \n",
        "best_l2 = 0.0 # best l2 regularizing weight\n",
        "best_epochs = 0 # best number of epochs\n",
        "# TODO: implement grid search to make sure the above 4 variable have \n",
        "learning_rates = [1.0, 0.1]\n",
        "epochs = 1000\n",
        "l2_weights = [0.001, 0.0001, 0]\n",
        "accuracies = torch.zeros((2,3,2))\n",
        "for i, learning_rate in enumerate(learning_rates):\n",
        "  for j, l2_weight in enumerate(l2_weights):\n",
        "      model = LogisticRegression(num_features=vocab.get_vocab_size(\"tokens\"))\n",
        "      best_accuracy, best_epoch = training_loop(model, iterator, training_data, dev_data, num_epochs=epochs,\n",
        "                  lr=learning_rate, weight_decay=l2_weight)\n",
        "      accuracies[i,j,0] = best_accuracy\n",
        "      accuracies[i,j,1] = best_epoch\n",
        "best_acc = torch.max(accuracies[:,:,0])\n",
        "indices = torch.where(accuracies[:,:,0] == best_acc)\n",
        "best_lr = learning_rates[indices[0]]\n",
        "best_l2 = l2_weights[indices[1]]\n",
        "best_epochs = accuracies[indices[0], indices[1],1]"
      ],
      "execution_count": 20,
      "outputs": [
        {
          "output_type": "stream",
          "text": [
            "10662it [00:00, 11049.77it/s]\n",
            "100%|██████████| 9662/9662 [00:00<00:00, 67277.65it/s]\n"
          ],
          "name": "stderr"
        },
        {
          "output_type": "stream",
          "text": [
            "9662\n",
            "1000\n",
            "10662\n",
            "Epoch: [1/1000], Step: [100/301], Loss: 1.7235, Dev: 0.3010\n",
            "Epoch: [1/1000], Step: [200/301], Loss: 1.1880, Dev: 0.4380\n",
            "Epoch: [1/1000], Step: [300/301], Loss: 1.3339, Dev: 0.4280\n",
            "Epoch: [2/1000], Step: [100/301], Loss: 0.6526, Dev: 0.3360\n",
            "Epoch: [2/1000], Step: [200/301], Loss: 0.9613, Dev: 0.6670\n",
            "Epoch: [2/1000], Step: [300/301], Loss: 0.4460, Dev: 0.5420\n",
            "Epoch: [3/1000], Step: [100/301], Loss: 0.8852, Dev: 0.7620\n",
            "Epoch: [3/1000], Step: [200/301], Loss: 0.8298, Dev: 0.4620\n",
            "Epoch: [3/1000], Step: [300/301], Loss: 0.5968, Dev: 0.6010\n",
            "Epoch: [4/1000], Step: [100/301], Loss: 0.4245, Dev: 0.4920\n",
            "Epoch: [4/1000], Step: [200/301], Loss: 0.5755, Dev: 0.7600\n",
            "Epoch: [4/1000], Step: [300/301], Loss: 0.4908, Dev: 0.6860\n",
            "Epoch: [5/1000], Step: [100/301], Loss: 0.4970, Dev: 0.6220\n",
            "Epoch: [5/1000], Step: [200/301], Loss: 0.4508, Dev: 0.7700\n",
            "Epoch: [5/1000], Step: [300/301], Loss: 0.4758, Dev: 0.6450\n",
            "Epoch: [6/1000], Step: [100/301], Loss: 0.4620, Dev: 0.5880\n",
            "Epoch: [6/1000], Step: [200/301], Loss: 0.4749, Dev: 0.6540\n",
            "Epoch: [6/1000], Step: [300/301], Loss: 0.6337, Dev: 0.6190\n",
            "Epoch: [7/1000], Step: [100/301], Loss: 0.4924, Dev: 0.4090\n",
            "Epoch: [7/1000], Step: [200/301], Loss: 0.6506, Dev: 0.1730\n",
            "Epoch: [7/1000], Step: [300/301], Loss: 0.6240, Dev: 0.4320\n",
            "Epoch: [8/1000], Step: [100/301], Loss: 0.4737, Dev: 0.8450\n",
            "Epoch: [8/1000], Step: [200/301], Loss: 0.5001, Dev: 0.4180\n",
            "Epoch: [8/1000], Step: [300/301], Loss: 0.4479, Dev: 0.5330\n",
            "Epoch: [9/1000], Step: [100/301], Loss: 0.5107, Dev: 0.7020\n",
            "Epoch: [9/1000], Step: [200/301], Loss: 0.4662, Dev: 0.3480\n",
            "Epoch: [9/1000], Step: [300/301], Loss: 0.5633, Dev: 0.8340\n",
            "Epoch: [10/1000], Step: [100/301], Loss: 0.5017, Dev: 0.5270\n",
            "Epoch: [10/1000], Step: [200/301], Loss: 0.4798, Dev: 0.7730\n",
            "Epoch: [10/1000], Step: [300/301], Loss: 0.5582, Dev: 0.8340\n",
            "Epoch: [11/1000], Step: [100/301], Loss: 0.4830, Dev: 0.5250\n",
            "Epoch: [11/1000], Step: [200/301], Loss: 0.4925, Dev: 0.8670\n",
            "Epoch: [11/1000], Step: [300/301], Loss: 0.5218, Dev: 0.8550\n",
            "Epoch: [12/1000], Step: [100/301], Loss: 0.5144, Dev: 0.5330\n",
            "Epoch: [12/1000], Step: [200/301], Loss: 0.4828, Dev: 0.5390\n",
            "Epoch: [12/1000], Step: [300/301], Loss: 0.4667, Dev: 0.7060\n",
            "Epoch: [13/1000], Step: [100/301], Loss: 0.3523, Dev: 0.6880\n",
            "Epoch: [13/1000], Step: [200/301], Loss: 0.3373, Dev: 0.4900\n",
            "Epoch: [13/1000], Step: [300/301], Loss: 0.3335, Dev: 0.3300\n",
            "Epoch: [14/1000], Step: [100/301], Loss: 0.3626, Dev: 0.8820\n",
            "Epoch: [14/1000], Step: [200/301], Loss: 0.4099, Dev: 0.7980\n",
            "Epoch: [14/1000], Step: [300/301], Loss: 0.4810, Dev: 0.4570\n",
            "Epoch: [15/1000], Step: [100/301], Loss: 0.4016, Dev: 0.8070\n",
            "Epoch: [15/1000], Step: [200/301], Loss: 0.4703, Dev: 0.6980\n",
            "Epoch: [15/1000], Step: [300/301], Loss: 0.4752, Dev: 0.2620\n",
            "Epoch: [16/1000], Step: [100/301], Loss: 0.4846, Dev: 0.7940\n",
            "Epoch: [16/1000], Step: [200/301], Loss: 0.4032, Dev: 0.6540\n",
            "Epoch: [16/1000], Step: [300/301], Loss: 0.4548, Dev: 0.6150\n",
            "Epoch: [17/1000], Step: [100/301], Loss: 0.4878, Dev: 0.5920\n",
            "Epoch: [17/1000], Step: [200/301], Loss: 0.5164, Dev: 0.8620\n",
            "Epoch: [17/1000], Step: [300/301], Loss: 0.5204, Dev: 0.4810\n",
            "Epoch: [18/1000], Step: [100/301], Loss: 0.3920, Dev: 0.4880\n",
            "Epoch: [18/1000], Step: [200/301], Loss: 0.4944, Dev: 0.4040\n",
            "Epoch: [18/1000], Step: [300/301], Loss: 0.5503, Dev: 0.8480\n",
            "Epoch: [19/1000], Step: [100/301], Loss: 0.4784, Dev: 0.7880\n",
            "Epoch: [19/1000], Step: [200/301], Loss: 1.1745, Dev: 0.9900\n",
            "Epoch: [19/1000], Step: [300/301], Loss: 0.5154, Dev: 0.8750\n",
            "Epoch: [20/1000], Step: [100/301], Loss: 0.5530, Dev: 0.7970\n",
            "Epoch: [20/1000], Step: [200/301], Loss: 0.5232, Dev: 0.8080\n",
            "Epoch: [20/1000], Step: [300/301], Loss: 0.3952, Dev: 0.8380\n",
            "Epoch: [21/1000], Step: [100/301], Loss: 0.5119, Dev: 0.5940\n",
            "Epoch: [21/1000], Step: [200/301], Loss: 0.4895, Dev: 0.8220\n",
            "Epoch: [21/1000], Step: [300/301], Loss: 0.4511, Dev: 0.3910\n",
            "Epoch: [22/1000], Step: [100/301], Loss: 0.5196, Dev: 0.7650\n",
            "Epoch: [22/1000], Step: [200/301], Loss: 0.4261, Dev: 0.6600\n",
            "Epoch: [22/1000], Step: [300/301], Loss: 0.3860, Dev: 0.7710\n",
            "Epoch: [23/1000], Step: [100/301], Loss: 0.4156, Dev: 0.4840\n",
            "Epoch: [23/1000], Step: [200/301], Loss: 0.4566, Dev: 0.7550\n",
            "Epoch: [23/1000], Step: [300/301], Loss: 0.5474, Dev: 0.6100\n",
            "Epoch: [24/1000], Step: [100/301], Loss: 0.4284, Dev: 0.5920\n",
            "Epoch: [24/1000], Step: [200/301], Loss: 0.3610, Dev: 0.4420\n",
            "Epoch: [24/1000], Step: [300/301], Loss: 0.7149, Dev: 0.3710\n",
            "Epoch: [25/1000], Step: [100/301], Loss: 0.4447, Dev: 0.4680\n",
            "Epoch: [25/1000], Step: [200/301], Loss: 0.4044, Dev: 0.5720\n",
            "Epoch: [25/1000], Step: [300/301], Loss: 0.5130, Dev: 0.6830\n",
            "Epoch: [26/1000], Step: [100/301], Loss: 0.3767, Dev: 0.5520\n",
            "Epoch: [26/1000], Step: [200/301], Loss: 0.4559, Dev: 0.6200\n",
            "Epoch: [26/1000], Step: [300/301], Loss: 0.4349, Dev: 0.3640\n",
            "Epoch: [27/1000], Step: [100/301], Loss: 0.5267, Dev: 0.3690\n",
            "Epoch: [27/1000], Step: [200/301], Loss: 0.4888, Dev: 0.4240\n",
            "Epoch: [27/1000], Step: [300/301], Loss: 0.4823, Dev: 0.8580\n",
            "Epoch: [28/1000], Step: [100/301], Loss: 0.5143, Dev: 0.6190\n",
            "Epoch: [28/1000], Step: [200/301], Loss: 0.4724, Dev: 0.5660\n",
            "Epoch: [28/1000], Step: [300/301], Loss: 0.4881, Dev: 0.0670\n",
            "Epoch: [29/1000], Step: [100/301], Loss: 0.5060, Dev: 0.3670\n",
            "Epoch: [29/1000], Step: [200/301], Loss: 0.4695, Dev: 0.5650\n",
            "Epoch: [29/1000], Step: [300/301], Loss: 0.5450, Dev: 0.6970\n",
            "Epoch: [1/1000], Step: [100/301], Loss: 1.3820, Dev: 0.2010\n",
            "Epoch: [1/1000], Step: [200/301], Loss: 1.3411, Dev: 0.4120\n",
            "Epoch: [1/1000], Step: [300/301], Loss: 1.1113, Dev: 0.5660\n",
            "Epoch: [2/1000], Step: [100/301], Loss: 0.7169, Dev: 0.3920\n",
            "Epoch: [2/1000], Step: [200/301], Loss: 0.9731, Dev: 0.4920\n",
            "Epoch: [2/1000], Step: [300/301], Loss: 0.4335, Dev: 0.3520\n",
            "Epoch: [3/1000], Step: [100/301], Loss: 0.9389, Dev: 0.5000\n",
            "Epoch: [3/1000], Step: [200/301], Loss: 0.6082, Dev: 0.5580\n",
            "Epoch: [3/1000], Step: [300/301], Loss: 1.1044, Dev: 0.5360\n",
            "Epoch: [4/1000], Step: [100/301], Loss: 1.1282, Dev: 0.6970\n",
            "Epoch: [4/1000], Step: [200/301], Loss: 1.3015, Dev: 0.6400\n",
            "Epoch: [4/1000], Step: [300/301], Loss: 0.9385, Dev: 0.5700\n",
            "Epoch: [5/1000], Step: [100/301], Loss: 1.3119, Dev: 0.6320\n",
            "Epoch: [5/1000], Step: [200/301], Loss: 0.8120, Dev: 0.6210\n",
            "Epoch: [5/1000], Step: [300/301], Loss: 0.8273, Dev: 0.5490\n",
            "Epoch: [6/1000], Step: [100/301], Loss: 0.8558, Dev: 0.4870\n",
            "Epoch: [6/1000], Step: [200/301], Loss: 0.4128, Dev: 0.5470\n",
            "Epoch: [6/1000], Step: [300/301], Loss: 0.6130, Dev: 0.4950\n",
            "Epoch: [7/1000], Step: [100/301], Loss: 0.4000, Dev: 0.4850\n",
            "Epoch: [7/1000], Step: [200/301], Loss: 0.4509, Dev: 0.5570\n",
            "Epoch: [7/1000], Step: [300/301], Loss: 0.4847, Dev: 0.4870\n",
            "Epoch: [8/1000], Step: [100/301], Loss: 0.4848, Dev: 0.6280\n",
            "Epoch: [8/1000], Step: [200/301], Loss: 0.6390, Dev: 0.4580\n",
            "Epoch: [8/1000], Step: [300/301], Loss: 0.5866, Dev: 0.6230\n",
            "Epoch: [9/1000], Step: [100/301], Loss: 0.2953, Dev: 0.5200\n",
            "Epoch: [9/1000], Step: [200/301], Loss: 0.4632, Dev: 0.6150\n",
            "Epoch: [9/1000], Step: [300/301], Loss: 0.2550, Dev: 0.5910\n",
            "Epoch: [10/1000], Step: [100/301], Loss: 0.4694, Dev: 0.4930\n",
            "Epoch: [10/1000], Step: [200/301], Loss: 0.3469, Dev: 0.5050\n",
            "Epoch: [10/1000], Step: [300/301], Loss: 0.4189, Dev: 0.5480\n",
            "Epoch: [11/1000], Step: [100/301], Loss: 0.4562, Dev: 0.6410\n",
            "Epoch: [11/1000], Step: [200/301], Loss: 0.3219, Dev: 0.6690\n",
            "Epoch: [11/1000], Step: [300/301], Loss: 0.4499, Dev: 0.6360\n",
            "Epoch: [12/1000], Step: [100/301], Loss: 0.3842, Dev: 0.6740\n",
            "Epoch: [12/1000], Step: [200/301], Loss: 0.3751, Dev: 0.6200\n",
            "Epoch: [12/1000], Step: [300/301], Loss: 0.3903, Dev: 0.4510\n",
            "Epoch: [13/1000], Step: [100/301], Loss: 0.2451, Dev: 0.5190\n",
            "Epoch: [13/1000], Step: [200/301], Loss: 0.2771, Dev: 0.6130\n",
            "Epoch: [13/1000], Step: [300/301], Loss: 0.4476, Dev: 0.5540\n",
            "Epoch: [14/1000], Step: [100/301], Loss: 0.3340, Dev: 0.5630\n",
            "Epoch: [14/1000], Step: [200/301], Loss: 0.4312, Dev: 0.5510\n",
            "Epoch: [14/1000], Step: [300/301], Loss: 0.6409, Dev: 0.6160\n",
            "Epoch: [15/1000], Step: [100/301], Loss: 0.2168, Dev: 0.6600\n",
            "Epoch: [15/1000], Step: [200/301], Loss: 0.4097, Dev: 0.4520\n",
            "Epoch: [15/1000], Step: [300/301], Loss: 0.2937, Dev: 0.6720\n",
            "Epoch: [16/1000], Step: [100/301], Loss: 0.3337, Dev: 0.6010\n",
            "Epoch: [16/1000], Step: [200/301], Loss: 0.4457, Dev: 0.6170\n",
            "Epoch: [16/1000], Step: [300/301], Loss: 0.3316, Dev: 0.5820\n",
            "Epoch: [17/1000], Step: [100/301], Loss: 0.2513, Dev: 0.7880\n",
            "Epoch: [17/1000], Step: [200/301], Loss: 0.1813, Dev: 0.6820\n",
            "Epoch: [17/1000], Step: [300/301], Loss: 0.1919, Dev: 0.5690\n",
            "Epoch: [18/1000], Step: [100/301], Loss: 0.2782, Dev: 0.5870\n",
            "Epoch: [18/1000], Step: [200/301], Loss: 0.4212, Dev: 0.5840\n",
            "Epoch: [18/1000], Step: [300/301], Loss: 0.2807, Dev: 0.5950\n",
            "Epoch: [19/1000], Step: [100/301], Loss: 0.3663, Dev: 0.5900\n",
            "Epoch: [19/1000], Step: [200/301], Loss: 0.2190, Dev: 0.6030\n",
            "Epoch: [19/1000], Step: [300/301], Loss: 0.2147, Dev: 0.5340\n",
            "Epoch: [20/1000], Step: [100/301], Loss: 0.3624, Dev: 0.6310\n",
            "Epoch: [20/1000], Step: [200/301], Loss: 0.1425, Dev: 0.6350\n",
            "Epoch: [20/1000], Step: [300/301], Loss: 0.2555, Dev: 0.5780\n",
            "Epoch: [21/1000], Step: [100/301], Loss: 0.2294, Dev: 0.6050\n",
            "Epoch: [21/1000], Step: [200/301], Loss: 0.1775, Dev: 0.6410\n",
            "Epoch: [21/1000], Step: [300/301], Loss: 0.2407, Dev: 0.6540\n",
            "Epoch: [22/1000], Step: [100/301], Loss: 0.2369, Dev: 0.5760\n",
            "Epoch: [22/1000], Step: [200/301], Loss: 0.2027, Dev: 0.6170\n",
            "Epoch: [22/1000], Step: [300/301], Loss: 0.2912, Dev: 0.7030\n",
            "Epoch: [23/1000], Step: [100/301], Loss: 0.2608, Dev: 0.6410\n",
            "Epoch: [23/1000], Step: [200/301], Loss: 0.2600, Dev: 0.6460\n",
            "Epoch: [23/1000], Step: [300/301], Loss: 0.3088, Dev: 0.5810\n",
            "Epoch: [24/1000], Step: [100/301], Loss: 0.1811, Dev: 0.7460\n",
            "Epoch: [24/1000], Step: [200/301], Loss: 0.1370, Dev: 0.4910\n",
            "Epoch: [24/1000], Step: [300/301], Loss: 0.2199, Dev: 0.6320\n",
            "Epoch: [25/1000], Step: [100/301], Loss: 0.2024, Dev: 0.5880\n",
            "Epoch: [25/1000], Step: [200/301], Loss: 0.1802, Dev: 0.5360\n",
            "Epoch: [25/1000], Step: [300/301], Loss: 0.2945, Dev: 0.6650\n",
            "Epoch: [26/1000], Step: [100/301], Loss: 0.1594, Dev: 0.6270\n",
            "Epoch: [26/1000], Step: [200/301], Loss: 0.2858, Dev: 0.6230\n",
            "Epoch: [26/1000], Step: [300/301], Loss: 0.2220, Dev: 0.4510\n",
            "Epoch: [27/1000], Step: [100/301], Loss: 0.2279, Dev: 0.6090\n",
            "Epoch: [27/1000], Step: [200/301], Loss: 0.3174, Dev: 0.6560\n",
            "Epoch: [27/1000], Step: [300/301], Loss: 0.2074, Dev: 0.6470\n",
            "Epoch: [28/1000], Step: [100/301], Loss: 0.3861, Dev: 0.6710\n",
            "Epoch: [28/1000], Step: [200/301], Loss: 0.2972, Dev: 0.6600\n",
            "Epoch: [28/1000], Step: [300/301], Loss: 0.3045, Dev: 0.5370\n",
            "Epoch: [29/1000], Step: [100/301], Loss: 0.4773, Dev: 0.7220\n",
            "Epoch: [29/1000], Step: [200/301], Loss: 0.2471, Dev: 0.6610\n",
            "Epoch: [29/1000], Step: [300/301], Loss: 0.1893, Dev: 0.6390\n",
            "Epoch: [30/1000], Step: [100/301], Loss: 0.1166, Dev: 0.7440\n",
            "Epoch: [30/1000], Step: [200/301], Loss: 0.3870, Dev: 0.6150\n",
            "Epoch: [30/1000], Step: [300/301], Loss: 0.1654, Dev: 0.6770\n",
            "Epoch: [31/1000], Step: [100/301], Loss: 0.2047, Dev: 0.6430\n",
            "Epoch: [31/1000], Step: [200/301], Loss: 0.1932, Dev: 0.5830\n",
            "Epoch: [31/1000], Step: [300/301], Loss: 0.1420, Dev: 0.7400\n",
            "Epoch: [32/1000], Step: [100/301], Loss: 0.2661, Dev: 0.5230\n",
            "Epoch: [32/1000], Step: [200/301], Loss: 0.2018, Dev: 0.7040\n",
            "Epoch: [32/1000], Step: [300/301], Loss: 0.2591, Dev: 0.6020\n",
            "Epoch: [33/1000], Step: [100/301], Loss: 0.2056, Dev: 0.6640\n",
            "Epoch: [33/1000], Step: [200/301], Loss: 0.1123, Dev: 0.6410\n",
            "Epoch: [33/1000], Step: [300/301], Loss: 0.2772, Dev: 0.7200\n",
            "Epoch: [34/1000], Step: [100/301], Loss: 0.2856, Dev: 0.5690\n",
            "Epoch: [34/1000], Step: [200/301], Loss: 0.2824, Dev: 0.6430\n",
            "Epoch: [34/1000], Step: [300/301], Loss: 0.1902, Dev: 0.6260\n",
            "Epoch: [35/1000], Step: [100/301], Loss: 0.2193, Dev: 0.7090\n",
            "Epoch: [35/1000], Step: [200/301], Loss: 0.2671, Dev: 0.6690\n",
            "Epoch: [35/1000], Step: [300/301], Loss: 0.1844, Dev: 0.6610\n",
            "Epoch: [36/1000], Step: [100/301], Loss: 0.2652, Dev: 0.7620\n",
            "Epoch: [36/1000], Step: [200/301], Loss: 0.1799, Dev: 0.7020\n",
            "Epoch: [36/1000], Step: [300/301], Loss: 0.2646, Dev: 0.6010\n",
            "Epoch: [37/1000], Step: [100/301], Loss: 0.1742, Dev: 0.6030\n",
            "Epoch: [37/1000], Step: [200/301], Loss: 0.1373, Dev: 0.6290\n",
            "Epoch: [37/1000], Step: [300/301], Loss: 0.2251, Dev: 0.6790\n",
            "Epoch: [38/1000], Step: [100/301], Loss: 0.3705, Dev: 0.6340\n",
            "Epoch: [38/1000], Step: [200/301], Loss: 0.2099, Dev: 0.6760\n",
            "Epoch: [38/1000], Step: [300/301], Loss: 0.1743, Dev: 0.7040\n",
            "Epoch: [1/1000], Step: [100/301], Loss: 1.5945, Dev: 0.3100\n",
            "Epoch: [1/1000], Step: [200/301], Loss: 1.6397, Dev: 0.4010\n",
            "Epoch: [1/1000], Step: [300/301], Loss: 1.2380, Dev: 0.3920\n",
            "Epoch: [2/1000], Step: [100/301], Loss: 1.1647, Dev: 0.6060\n",
            "Epoch: [2/1000], Step: [200/301], Loss: 0.6675, Dev: 0.4620\n",
            "Epoch: [2/1000], Step: [300/301], Loss: 1.0239, Dev: 0.3590\n",
            "Epoch: [3/1000], Step: [100/301], Loss: 0.5222, Dev: 0.2970\n",
            "Epoch: [3/1000], Step: [200/301], Loss: 0.9659, Dev: 0.5360\n",
            "Epoch: [3/1000], Step: [300/301], Loss: 1.4960, Dev: 0.5820\n",
            "Epoch: [4/1000], Step: [100/301], Loss: 1.0465, Dev: 0.5080\n",
            "Epoch: [4/1000], Step: [200/301], Loss: 0.6027, Dev: 0.5160\n",
            "Epoch: [4/1000], Step: [300/301], Loss: 0.6433, Dev: 0.5000\n",
            "Epoch: [5/1000], Step: [100/301], Loss: 0.8326, Dev: 0.5280\n",
            "Epoch: [5/1000], Step: [200/301], Loss: 0.9113, Dev: 0.4560\n",
            "Epoch: [5/1000], Step: [300/301], Loss: 0.3320, Dev: 0.4580\n",
            "Epoch: [6/1000], Step: [100/301], Loss: 0.6025, Dev: 0.4510\n",
            "Epoch: [6/1000], Step: [200/301], Loss: 0.5944, Dev: 0.5160\n",
            "Epoch: [6/1000], Step: [300/301], Loss: 0.2317, Dev: 0.4750\n",
            "Epoch: [7/1000], Step: [100/301], Loss: 0.3450, Dev: 0.4570\n",
            "Epoch: [7/1000], Step: [200/301], Loss: 0.5589, Dev: 0.5960\n",
            "Epoch: [7/1000], Step: [300/301], Loss: 0.6007, Dev: 0.5710\n",
            "Epoch: [8/1000], Step: [100/301], Loss: 0.6415, Dev: 0.3010\n",
            "Epoch: [8/1000], Step: [200/301], Loss: 0.6920, Dev: 0.5600\n",
            "Epoch: [8/1000], Step: [300/301], Loss: 0.8145, Dev: 0.4250\n",
            "Epoch: [9/1000], Step: [100/301], Loss: 0.4838, Dev: 0.4180\n",
            "Epoch: [9/1000], Step: [200/301], Loss: 0.7981, Dev: 0.4390\n",
            "Epoch: [9/1000], Step: [300/301], Loss: 0.2938, Dev: 0.5040\n",
            "Epoch: [10/1000], Step: [100/301], Loss: 0.3615, Dev: 0.6210\n",
            "Epoch: [10/1000], Step: [200/301], Loss: 0.4662, Dev: 0.4930\n",
            "Epoch: [10/1000], Step: [300/301], Loss: 0.2407, Dev: 0.4760\n",
            "Epoch: [11/1000], Step: [100/301], Loss: 0.2954, Dev: 0.6310\n",
            "Epoch: [11/1000], Step: [200/301], Loss: 0.5110, Dev: 0.5650\n",
            "Epoch: [11/1000], Step: [300/301], Loss: 0.4268, Dev: 0.7370\n",
            "Epoch: [12/1000], Step: [100/301], Loss: 0.3957, Dev: 0.5250\n",
            "Epoch: [12/1000], Step: [200/301], Loss: 0.4511, Dev: 0.4330\n",
            "Epoch: [12/1000], Step: [300/301], Loss: 0.5105, Dev: 0.4400\n",
            "Epoch: [13/1000], Step: [100/301], Loss: 0.3837, Dev: 0.4750\n",
            "Epoch: [13/1000], Step: [200/301], Loss: 0.4750, Dev: 0.5440\n",
            "Epoch: [13/1000], Step: [300/301], Loss: 0.5182, Dev: 0.4760\n",
            "Epoch: [1/1000], Step: [100/301], Loss: 1.9719, Dev: 0.5240\n",
            "Epoch: [1/1000], Step: [200/301], Loss: 1.2307, Dev: 0.5850\n",
            "Epoch: [1/1000], Step: [300/301], Loss: 0.7774, Dev: 0.5300\n",
            "Epoch: [2/1000], Step: [100/301], Loss: 0.9189, Dev: 0.5680\n",
            "Epoch: [2/1000], Step: [200/301], Loss: 1.7372, Dev: 0.5790\n",
            "Epoch: [2/1000], Step: [300/301], Loss: 1.3811, Dev: 0.5970\n",
            "Epoch: [3/1000], Step: [100/301], Loss: 0.8355, Dev: 0.5640\n",
            "Epoch: [3/1000], Step: [200/301], Loss: 1.6763, Dev: 0.5360\n",
            "Epoch: [3/1000], Step: [300/301], Loss: 0.8760, Dev: 0.5940\n",
            "Epoch: [4/1000], Step: [100/301], Loss: 1.9337, Dev: 0.5770\n",
            "Epoch: [4/1000], Step: [200/301], Loss: 1.6907, Dev: 0.6030\n",
            "Epoch: [4/1000], Step: [300/301], Loss: 0.6526, Dev: 0.5930\n",
            "Epoch: [5/1000], Step: [100/301], Loss: 1.6362, Dev: 0.5980\n",
            "Epoch: [5/1000], Step: [200/301], Loss: 0.8982, Dev: 0.6140\n",
            "Epoch: [5/1000], Step: [300/301], Loss: 0.7194, Dev: 0.5880\n",
            "Epoch: [6/1000], Step: [100/301], Loss: 1.1363, Dev: 0.5370\n",
            "Epoch: [6/1000], Step: [200/301], Loss: 0.8858, Dev: 0.5770\n",
            "Epoch: [6/1000], Step: [300/301], Loss: 1.0200, Dev: 0.5440\n",
            "Epoch: [7/1000], Step: [100/301], Loss: 0.8476, Dev: 0.6200\n",
            "Epoch: [7/1000], Step: [200/301], Loss: 0.8375, Dev: 0.5980\n",
            "Epoch: [7/1000], Step: [300/301], Loss: 1.0376, Dev: 0.6290\n",
            "Epoch: [8/1000], Step: [100/301], Loss: 0.7762, Dev: 0.5830\n",
            "Epoch: [8/1000], Step: [200/301], Loss: 0.9115, Dev: 0.6220\n",
            "Epoch: [8/1000], Step: [300/301], Loss: 0.7510, Dev: 0.6090\n",
            "Epoch: [9/1000], Step: [100/301], Loss: 1.3454, Dev: 0.6110\n",
            "Epoch: [9/1000], Step: [200/301], Loss: 0.9163, Dev: 0.5990\n",
            "Epoch: [9/1000], Step: [300/301], Loss: 0.9921, Dev: 0.6490\n",
            "Epoch: [10/1000], Step: [100/301], Loss: 0.7536, Dev: 0.5890\n",
            "Epoch: [10/1000], Step: [200/301], Loss: 0.8789, Dev: 0.6320\n",
            "Epoch: [10/1000], Step: [300/301], Loss: 1.1524, Dev: 0.6350\n",
            "Epoch: [11/1000], Step: [100/301], Loss: 0.7368, Dev: 0.5950\n",
            "Epoch: [11/1000], Step: [200/301], Loss: 1.2497, Dev: 0.6470\n",
            "Epoch: [11/1000], Step: [300/301], Loss: 0.6666, Dev: 0.6190\n",
            "Epoch: [12/1000], Step: [100/301], Loss: 0.9997, Dev: 0.6480\n",
            "Epoch: [12/1000], Step: [200/301], Loss: 0.9676, Dev: 0.6080\n",
            "Epoch: [12/1000], Step: [300/301], Loss: 0.6607, Dev: 0.6500\n",
            "Epoch: [13/1000], Step: [100/301], Loss: 0.7447, Dev: 0.6090\n",
            "Epoch: [13/1000], Step: [200/301], Loss: 1.1786, Dev: 0.6420\n",
            "Epoch: [13/1000], Step: [300/301], Loss: 0.7676, Dev: 0.6550\n",
            "Epoch: [14/1000], Step: [100/301], Loss: 0.7802, Dev: 0.6440\n",
            "Epoch: [14/1000], Step: [200/301], Loss: 0.9254, Dev: 0.6590\n",
            "Epoch: [14/1000], Step: [300/301], Loss: 0.6034, Dev: 0.6100\n",
            "Epoch: [15/1000], Step: [100/301], Loss: 0.6598, Dev: 0.6530\n",
            "Epoch: [15/1000], Step: [200/301], Loss: 0.4552, Dev: 0.6270\n",
            "Epoch: [15/1000], Step: [300/301], Loss: 0.5549, Dev: 0.6220\n",
            "Epoch: [16/1000], Step: [100/301], Loss: 0.5160, Dev: 0.6330\n",
            "Epoch: [16/1000], Step: [200/301], Loss: 0.5348, Dev: 0.6290\n",
            "Epoch: [16/1000], Step: [300/301], Loss: 0.6801, Dev: 0.6880\n",
            "Epoch: [17/1000], Step: [100/301], Loss: 0.7003, Dev: 0.6330\n",
            "Epoch: [17/1000], Step: [200/301], Loss: 0.5340, Dev: 0.5860\n",
            "Epoch: [17/1000], Step: [300/301], Loss: 0.5541, Dev: 0.6630\n",
            "Epoch: [18/1000], Step: [100/301], Loss: 0.9097, Dev: 0.6380\n",
            "Epoch: [18/1000], Step: [200/301], Loss: 0.5940, Dev: 0.6730\n",
            "Epoch: [18/1000], Step: [300/301], Loss: 0.8421, Dev: 0.6010\n",
            "Epoch: [19/1000], Step: [100/301], Loss: 0.5295, Dev: 0.6670\n",
            "Epoch: [19/1000], Step: [200/301], Loss: 0.6167, Dev: 0.7050\n",
            "Epoch: [19/1000], Step: [300/301], Loss: 0.5146, Dev: 0.6570\n",
            "Epoch: [20/1000], Step: [100/301], Loss: 0.9727, Dev: 0.6660\n",
            "Epoch: [20/1000], Step: [200/301], Loss: 0.6064, Dev: 0.6110\n",
            "Epoch: [20/1000], Step: [300/301], Loss: 0.4916, Dev: 0.6340\n",
            "Epoch: [21/1000], Step: [100/301], Loss: 0.6176, Dev: 0.6810\n",
            "Epoch: [21/1000], Step: [200/301], Loss: 0.6966, Dev: 0.6440\n",
            "Epoch: [21/1000], Step: [300/301], Loss: 0.5301, Dev: 0.6520\n",
            "Epoch: [22/1000], Step: [100/301], Loss: 0.8990, Dev: 0.6920\n",
            "Epoch: [22/1000], Step: [200/301], Loss: 0.5072, Dev: 0.6770\n",
            "Epoch: [22/1000], Step: [300/301], Loss: 0.5853, Dev: 0.6380\n",
            "Epoch: [23/1000], Step: [100/301], Loss: 0.5240, Dev: 0.6780\n",
            "Epoch: [23/1000], Step: [200/301], Loss: 0.5197, Dev: 0.7030\n",
            "Epoch: [23/1000], Step: [300/301], Loss: 0.6864, Dev: 0.6380\n",
            "Epoch: [24/1000], Step: [100/301], Loss: 0.7432, Dev: 0.6730\n",
            "Epoch: [24/1000], Step: [200/301], Loss: 0.7993, Dev: 0.6510\n",
            "Epoch: [24/1000], Step: [300/301], Loss: 0.5372, Dev: 0.6980\n",
            "Epoch: [25/1000], Step: [100/301], Loss: 0.4725, Dev: 0.6660\n",
            "Epoch: [25/1000], Step: [200/301], Loss: 0.7353, Dev: 0.6430\n",
            "Epoch: [25/1000], Step: [300/301], Loss: 0.4775, Dev: 0.6670\n",
            "Epoch: [26/1000], Step: [100/301], Loss: 0.3968, Dev: 0.6660\n",
            "Epoch: [26/1000], Step: [200/301], Loss: 0.5750, Dev: 0.6860\n",
            "Epoch: [26/1000], Step: [300/301], Loss: 0.4101, Dev: 0.6540\n",
            "Epoch: [27/1000], Step: [100/301], Loss: 0.4140, Dev: 0.7040\n",
            "Epoch: [27/1000], Step: [200/301], Loss: 0.4943, Dev: 0.6390\n",
            "Epoch: [27/1000], Step: [300/301], Loss: 0.4787, Dev: 0.6720\n",
            "Epoch: [28/1000], Step: [100/301], Loss: 0.6499, Dev: 0.6980\n",
            "Epoch: [28/1000], Step: [200/301], Loss: 0.4336, Dev: 0.6750\n",
            "Epoch: [28/1000], Step: [300/301], Loss: 0.4589, Dev: 0.6660\n",
            "Epoch: [29/1000], Step: [100/301], Loss: 0.4516, Dev: 0.6530\n",
            "Epoch: [29/1000], Step: [200/301], Loss: 0.6651, Dev: 0.6760\n",
            "Epoch: [29/1000], Step: [300/301], Loss: 0.4116, Dev: 0.6610\n",
            "Epoch: [30/1000], Step: [100/301], Loss: 0.3878, Dev: 0.6850\n",
            "Epoch: [30/1000], Step: [200/301], Loss: 0.5761, Dev: 0.7150\n",
            "Epoch: [30/1000], Step: [300/301], Loss: 0.3662, Dev: 0.6520\n",
            "Epoch: [31/1000], Step: [100/301], Loss: 0.4652, Dev: 0.6880\n",
            "Epoch: [31/1000], Step: [200/301], Loss: 0.3962, Dev: 0.6860\n",
            "Epoch: [31/1000], Step: [300/301], Loss: 0.3579, Dev: 0.6930\n",
            "Epoch: [32/1000], Step: [100/301], Loss: 0.4504, Dev: 0.6490\n",
            "Epoch: [32/1000], Step: [200/301], Loss: 0.5553, Dev: 0.6740\n",
            "Epoch: [32/1000], Step: [300/301], Loss: 0.3552, Dev: 0.6920\n",
            "Epoch: [33/1000], Step: [100/301], Loss: 0.5191, Dev: 0.6770\n",
            "Epoch: [33/1000], Step: [200/301], Loss: 0.5190, Dev: 0.6460\n",
            "Epoch: [33/1000], Step: [300/301], Loss: 0.5840, Dev: 0.6740\n",
            "Epoch: [34/1000], Step: [100/301], Loss: 0.3857, Dev: 0.6680\n",
            "Epoch: [34/1000], Step: [200/301], Loss: 0.4579, Dev: 0.6720\n",
            "Epoch: [34/1000], Step: [300/301], Loss: 0.4799, Dev: 0.7020\n",
            "Epoch: [35/1000], Step: [100/301], Loss: 0.4174, Dev: 0.6690\n",
            "Epoch: [35/1000], Step: [200/301], Loss: 0.5407, Dev: 0.6320\n",
            "Epoch: [35/1000], Step: [300/301], Loss: 0.6007, Dev: 0.7170\n",
            "Epoch: [36/1000], Step: [100/301], Loss: 0.4575, Dev: 0.7110\n",
            "Epoch: [36/1000], Step: [200/301], Loss: 0.4201, Dev: 0.7100\n",
            "Epoch: [36/1000], Step: [300/301], Loss: 0.5618, Dev: 0.6930\n",
            "Epoch: [37/1000], Step: [100/301], Loss: 0.4987, Dev: 0.7080\n",
            "Epoch: [37/1000], Step: [200/301], Loss: 0.4307, Dev: 0.6900\n",
            "Epoch: [37/1000], Step: [300/301], Loss: 0.4829, Dev: 0.6860\n",
            "Epoch: [38/1000], Step: [100/301], Loss: 0.5823, Dev: 0.7210\n",
            "Epoch: [38/1000], Step: [200/301], Loss: 0.4951, Dev: 0.6760\n",
            "Epoch: [38/1000], Step: [300/301], Loss: 0.3858, Dev: 0.6510\n",
            "Epoch: [39/1000], Step: [100/301], Loss: 0.4237, Dev: 0.7110\n",
            "Epoch: [39/1000], Step: [200/301], Loss: 0.4677, Dev: 0.6640\n",
            "Epoch: [39/1000], Step: [300/301], Loss: 0.4087, Dev: 0.6950\n",
            "Epoch: [40/1000], Step: [100/301], Loss: 0.4597, Dev: 0.6890\n",
            "Epoch: [40/1000], Step: [200/301], Loss: 0.4788, Dev: 0.6960\n",
            "Epoch: [40/1000], Step: [300/301], Loss: 0.5629, Dev: 0.6750\n",
            "Epoch: [41/1000], Step: [100/301], Loss: 0.4857, Dev: 0.7210\n",
            "Epoch: [41/1000], Step: [200/301], Loss: 0.5319, Dev: 0.6820\n",
            "Epoch: [41/1000], Step: [300/301], Loss: 0.3989, Dev: 0.6950\n",
            "Epoch: [42/1000], Step: [100/301], Loss: 0.4123, Dev: 0.6920\n",
            "Epoch: [42/1000], Step: [200/301], Loss: 0.4874, Dev: 0.7280\n",
            "Epoch: [42/1000], Step: [300/301], Loss: 0.3157, Dev: 0.6380\n",
            "Epoch: [1/1000], Step: [100/301], Loss: 2.2833, Dev: 0.4170\n",
            "Epoch: [1/1000], Step: [200/301], Loss: 0.8447, Dev: 0.3310\n",
            "Epoch: [1/1000], Step: [300/301], Loss: 1.5676, Dev: 0.3620\n",
            "Epoch: [2/1000], Step: [100/301], Loss: 0.7374, Dev: 0.3810\n",
            "Epoch: [2/1000], Step: [200/301], Loss: 1.9308, Dev: 0.3690\n",
            "Epoch: [2/1000], Step: [300/301], Loss: 0.7173, Dev: 0.3780\n",
            "Epoch: [3/1000], Step: [100/301], Loss: 1.0714, Dev: 0.4200\n",
            "Epoch: [3/1000], Step: [200/301], Loss: 1.8182, Dev: 0.3740\n",
            "Epoch: [3/1000], Step: [300/301], Loss: 0.8128, Dev: 0.3550\n",
            "Epoch: [4/1000], Step: [100/301], Loss: 1.1124, Dev: 0.4120\n",
            "Epoch: [4/1000], Step: [200/301], Loss: 2.0028, Dev: 0.3930\n",
            "Epoch: [4/1000], Step: [300/301], Loss: 0.5252, Dev: 0.3820\n",
            "Epoch: [5/1000], Step: [100/301], Loss: 1.3812, Dev: 0.4080\n",
            "Epoch: [5/1000], Step: [200/301], Loss: 1.2018, Dev: 0.4070\n",
            "Epoch: [5/1000], Step: [300/301], Loss: 0.6438, Dev: 0.4040\n",
            "Epoch: [6/1000], Step: [100/301], Loss: 2.0966, Dev: 0.3640\n",
            "Epoch: [6/1000], Step: [200/301], Loss: 0.9410, Dev: 0.3980\n",
            "Epoch: [6/1000], Step: [300/301], Loss: 1.7022, Dev: 0.3930\n",
            "Epoch: [7/1000], Step: [100/301], Loss: 1.1250, Dev: 0.4070\n",
            "Epoch: [7/1000], Step: [200/301], Loss: 1.4162, Dev: 0.4200\n",
            "Epoch: [7/1000], Step: [300/301], Loss: 1.2225, Dev: 0.3930\n",
            "Epoch: [8/1000], Step: [100/301], Loss: 0.8251, Dev: 0.3850\n",
            "Epoch: [8/1000], Step: [200/301], Loss: 1.1591, Dev: 0.3760\n",
            "Epoch: [8/1000], Step: [300/301], Loss: 0.9908, Dev: 0.4190\n",
            "Epoch: [9/1000], Step: [100/301], Loss: 1.2978, Dev: 0.3970\n",
            "Epoch: [9/1000], Step: [200/301], Loss: 1.6252, Dev: 0.4250\n",
            "Epoch: [9/1000], Step: [300/301], Loss: 0.5071, Dev: 0.3920\n",
            "Epoch: [10/1000], Step: [100/301], Loss: 0.8954, Dev: 0.4180\n",
            "Epoch: [10/1000], Step: [200/301], Loss: 1.2583, Dev: 0.4210\n",
            "Epoch: [10/1000], Step: [300/301], Loss: 1.0818, Dev: 0.4180\n",
            "Epoch: [11/1000], Step: [100/301], Loss: 0.5975, Dev: 0.4410\n",
            "Epoch: [11/1000], Step: [200/301], Loss: 0.9253, Dev: 0.4490\n",
            "Epoch: [11/1000], Step: [300/301], Loss: 0.7780, Dev: 0.4310\n",
            "Epoch: [12/1000], Step: [100/301], Loss: 1.3232, Dev: 0.4260\n",
            "Epoch: [12/1000], Step: [200/301], Loss: 1.3517, Dev: 0.4560\n",
            "Epoch: [12/1000], Step: [300/301], Loss: 0.7885, Dev: 0.4150\n",
            "Epoch: [13/1000], Step: [100/301], Loss: 0.9924, Dev: 0.4260\n",
            "Epoch: [13/1000], Step: [200/301], Loss: 1.0384, Dev: 0.4180\n",
            "Epoch: [13/1000], Step: [300/301], Loss: 0.8830, Dev: 0.4400\n",
            "Epoch: [14/1000], Step: [100/301], Loss: 0.7928, Dev: 0.4430\n",
            "Epoch: [14/1000], Step: [200/301], Loss: 0.7051, Dev: 0.4270\n",
            "Epoch: [14/1000], Step: [300/301], Loss: 0.9686, Dev: 0.4240\n",
            "Epoch: [15/1000], Step: [100/301], Loss: 0.6011, Dev: 0.4790\n",
            "Epoch: [15/1000], Step: [200/301], Loss: 0.8395, Dev: 0.4310\n",
            "Epoch: [15/1000], Step: [300/301], Loss: 0.8360, Dev: 0.4600\n",
            "Epoch: [16/1000], Step: [100/301], Loss: 0.9041, Dev: 0.4650\n",
            "Epoch: [16/1000], Step: [200/301], Loss: 0.9810, Dev: 0.4710\n",
            "Epoch: [16/1000], Step: [300/301], Loss: 0.5913, Dev: 0.4410\n",
            "Epoch: [17/1000], Step: [100/301], Loss: 1.1059, Dev: 0.4340\n",
            "Epoch: [17/1000], Step: [200/301], Loss: 0.5741, Dev: 0.4470\n",
            "Epoch: [17/1000], Step: [300/301], Loss: 1.0999, Dev: 0.4700\n",
            "Epoch: [18/1000], Step: [100/301], Loss: 0.9925, Dev: 0.4460\n",
            "Epoch: [18/1000], Step: [200/301], Loss: 0.9026, Dev: 0.4040\n",
            "Epoch: [18/1000], Step: [300/301], Loss: 1.2474, Dev: 0.4720\n",
            "Epoch: [19/1000], Step: [100/301], Loss: 0.7881, Dev: 0.4520\n",
            "Epoch: [19/1000], Step: [200/301], Loss: 0.5918, Dev: 0.4540\n",
            "Epoch: [19/1000], Step: [300/301], Loss: 0.6833, Dev: 0.4610\n",
            "Epoch: [20/1000], Step: [100/301], Loss: 0.6765, Dev: 0.4710\n",
            "Epoch: [20/1000], Step: [200/301], Loss: 0.6929, Dev: 0.4350\n",
            "Epoch: [20/1000], Step: [300/301], Loss: 0.7203, Dev: 0.4360\n",
            "Epoch: [21/1000], Step: [100/301], Loss: 0.6113, Dev: 0.4900\n",
            "Epoch: [21/1000], Step: [200/301], Loss: 0.5495, Dev: 0.4390\n",
            "Epoch: [21/1000], Step: [300/301], Loss: 0.7841, Dev: 0.4560\n",
            "Epoch: [22/1000], Step: [100/301], Loss: 0.7975, Dev: 0.4470\n",
            "Epoch: [22/1000], Step: [200/301], Loss: 0.9585, Dev: 0.4400\n",
            "Epoch: [22/1000], Step: [300/301], Loss: 0.5667, Dev: 0.4890\n",
            "Epoch: [23/1000], Step: [100/301], Loss: 0.9468, Dev: 0.4690\n",
            "Epoch: [23/1000], Step: [200/301], Loss: 1.0550, Dev: 0.4630\n",
            "Epoch: [23/1000], Step: [300/301], Loss: 0.8580, Dev: 0.4550\n",
            "Epoch: [24/1000], Step: [100/301], Loss: 1.0113, Dev: 0.4690\n",
            "Epoch: [24/1000], Step: [200/301], Loss: 0.6757, Dev: 0.4620\n",
            "Epoch: [24/1000], Step: [300/301], Loss: 1.0267, Dev: 0.4850\n",
            "Epoch: [25/1000], Step: [100/301], Loss: 0.8190, Dev: 0.4790\n",
            "Epoch: [25/1000], Step: [200/301], Loss: 0.8994, Dev: 0.4620\n",
            "Epoch: [25/1000], Step: [300/301], Loss: 0.8831, Dev: 0.4790\n",
            "Epoch: [26/1000], Step: [100/301], Loss: 0.7830, Dev: 0.4570\n",
            "Epoch: [26/1000], Step: [200/301], Loss: 0.7903, Dev: 0.4950\n",
            "Epoch: [26/1000], Step: [300/301], Loss: 0.7330, Dev: 0.4580\n",
            "Epoch: [27/1000], Step: [100/301], Loss: 0.7939, Dev: 0.4870\n",
            "Epoch: [27/1000], Step: [200/301], Loss: 0.5679, Dev: 0.4440\n",
            "Epoch: [27/1000], Step: [300/301], Loss: 0.8622, Dev: 0.4570\n",
            "Epoch: [1/1000], Step: [100/301], Loss: 1.3716, Dev: 0.5480\n",
            "Epoch: [1/1000], Step: [200/301], Loss: 1.7820, Dev: 0.5440\n",
            "Epoch: [1/1000], Step: [300/301], Loss: 1.3925, Dev: 0.5110\n",
            "Epoch: [2/1000], Step: [100/301], Loss: 1.5341, Dev: 0.5530\n",
            "Epoch: [2/1000], Step: [200/301], Loss: 1.6060, Dev: 0.5430\n",
            "Epoch: [2/1000], Step: [300/301], Loss: 1.2902, Dev: 0.5370\n",
            "Epoch: [3/1000], Step: [100/301], Loss: 1.8246, Dev: 0.5400\n",
            "Epoch: [3/1000], Step: [200/301], Loss: 1.0532, Dev: 0.5210\n",
            "Epoch: [3/1000], Step: [300/301], Loss: 1.4294, Dev: 0.5170\n",
            "Epoch: [4/1000], Step: [100/301], Loss: 0.8824, Dev: 0.5690\n",
            "Epoch: [4/1000], Step: [200/301], Loss: 0.8956, Dev: 0.5290\n",
            "Epoch: [4/1000], Step: [300/301], Loss: 1.3017, Dev: 0.6150\n",
            "Epoch: [5/1000], Step: [100/301], Loss: 0.9146, Dev: 0.5380\n",
            "Epoch: [5/1000], Step: [200/301], Loss: 0.7304, Dev: 0.5540\n",
            "Epoch: [5/1000], Step: [300/301], Loss: 0.8577, Dev: 0.5050\n",
            "Epoch: [6/1000], Step: [100/301], Loss: 1.0287, Dev: 0.5420\n",
            "Epoch: [6/1000], Step: [200/301], Loss: 0.9251, Dev: 0.5190\n",
            "Epoch: [6/1000], Step: [300/301], Loss: 1.6110, Dev: 0.5450\n",
            "Epoch: [7/1000], Step: [100/301], Loss: 1.2177, Dev: 0.5780\n",
            "Epoch: [7/1000], Step: [200/301], Loss: 2.3051, Dev: 0.5530\n",
            "Epoch: [7/1000], Step: [300/301], Loss: 1.7947, Dev: 0.5330\n",
            "Epoch: [8/1000], Step: [100/301], Loss: 0.7553, Dev: 0.5920\n",
            "Epoch: [8/1000], Step: [200/301], Loss: 0.7974, Dev: 0.5750\n",
            "Epoch: [8/1000], Step: [300/301], Loss: 0.8848, Dev: 0.5480\n",
            "Epoch: [9/1000], Step: [100/301], Loss: 1.4382, Dev: 0.5830\n",
            "Epoch: [9/1000], Step: [200/301], Loss: 1.1430, Dev: 0.5610\n",
            "Epoch: [9/1000], Step: [300/301], Loss: 0.7004, Dev: 0.6190\n",
            "Epoch: [10/1000], Step: [100/301], Loss: 1.0208, Dev: 0.5670\n",
            "Epoch: [10/1000], Step: [200/301], Loss: 1.4989, Dev: 0.5380\n",
            "Epoch: [10/1000], Step: [300/301], Loss: 1.0014, Dev: 0.6000\n",
            "Epoch: [11/1000], Step: [100/301], Loss: 0.5659, Dev: 0.6180\n",
            "Epoch: [11/1000], Step: [200/301], Loss: 1.3869, Dev: 0.5920\n",
            "Epoch: [11/1000], Step: [300/301], Loss: 0.8757, Dev: 0.5670\n",
            "Epoch: [12/1000], Step: [100/301], Loss: 0.8404, Dev: 0.5450\n",
            "Epoch: [12/1000], Step: [200/301], Loss: 1.0933, Dev: 0.5650\n",
            "Epoch: [12/1000], Step: [300/301], Loss: 0.6485, Dev: 0.6330\n",
            "Epoch: [13/1000], Step: [100/301], Loss: 0.9891, Dev: 0.5920\n",
            "Epoch: [13/1000], Step: [200/301], Loss: 1.2527, Dev: 0.6020\n",
            "Epoch: [13/1000], Step: [300/301], Loss: 0.7975, Dev: 0.5800\n",
            "Epoch: [14/1000], Step: [100/301], Loss: 1.0431, Dev: 0.5950\n",
            "Epoch: [14/1000], Step: [200/301], Loss: 0.7195, Dev: 0.6080\n",
            "Epoch: [14/1000], Step: [300/301], Loss: 0.5628, Dev: 0.5660\n",
            "Epoch: [15/1000], Step: [100/301], Loss: 1.4215, Dev: 0.6090\n",
            "Epoch: [15/1000], Step: [200/301], Loss: 0.7456, Dev: 0.5950\n",
            "Epoch: [15/1000], Step: [300/301], Loss: 0.9655, Dev: 0.5970\n",
            "Epoch: [16/1000], Step: [100/301], Loss: 1.1064, Dev: 0.5610\n",
            "Epoch: [16/1000], Step: [200/301], Loss: 0.6200, Dev: 0.5800\n",
            "Epoch: [16/1000], Step: [300/301], Loss: 1.2160, Dev: 0.6140\n",
            "Epoch: [17/1000], Step: [100/301], Loss: 1.0791, Dev: 0.6150\n",
            "Epoch: [17/1000], Step: [200/301], Loss: 0.6533, Dev: 0.6180\n",
            "Epoch: [17/1000], Step: [300/301], Loss: 0.7939, Dev: 0.6110\n",
            "Epoch: [18/1000], Step: [100/301], Loss: 0.4211, Dev: 0.5950\n",
            "Epoch: [18/1000], Step: [200/301], Loss: 1.2564, Dev: 0.6020\n",
            "Epoch: [18/1000], Step: [300/301], Loss: 1.5880, Dev: 0.6100\n",
            "Epoch: [19/1000], Step: [100/301], Loss: 0.7587, Dev: 0.6270\n",
            "Epoch: [19/1000], Step: [200/301], Loss: 0.9292, Dev: 0.5970\n",
            "Epoch: [19/1000], Step: [300/301], Loss: 0.8000, Dev: 0.5750\n",
            "Epoch: [20/1000], Step: [100/301], Loss: 0.5195, Dev: 0.6220\n",
            "Epoch: [20/1000], Step: [200/301], Loss: 0.7330, Dev: 0.6190\n",
            "Epoch: [20/1000], Step: [300/301], Loss: 0.7966, Dev: 0.6140\n",
            "Epoch: [21/1000], Step: [100/301], Loss: 0.5224, Dev: 0.5780\n",
            "Epoch: [21/1000], Step: [200/301], Loss: 0.9993, Dev: 0.6060\n",
            "Epoch: [21/1000], Step: [300/301], Loss: 0.7051, Dev: 0.6230\n",
            "Epoch: [22/1000], Step: [100/301], Loss: 0.9417, Dev: 0.6490\n",
            "Epoch: [22/1000], Step: [200/301], Loss: 0.7781, Dev: 0.6270\n",
            "Epoch: [22/1000], Step: [300/301], Loss: 1.0678, Dev: 0.6380\n",
            "Epoch: [23/1000], Step: [100/301], Loss: 0.3757, Dev: 0.6040\n",
            "Epoch: [23/1000], Step: [200/301], Loss: 1.0310, Dev: 0.6360\n",
            "Epoch: [23/1000], Step: [300/301], Loss: 1.0580, Dev: 0.5590\n",
            "Epoch: [24/1000], Step: [100/301], Loss: 0.5557, Dev: 0.6220\n",
            "Epoch: [24/1000], Step: [200/301], Loss: 0.9322, Dev: 0.6160\n",
            "Epoch: [24/1000], Step: [300/301], Loss: 1.5274, Dev: 0.5910\n",
            "Epoch: [25/1000], Step: [100/301], Loss: 0.5145, Dev: 0.6190\n",
            "Epoch: [25/1000], Step: [200/301], Loss: 0.4640, Dev: 0.6300\n",
            "Epoch: [25/1000], Step: [300/301], Loss: 0.9108, Dev: 0.6190\n",
            "Epoch: [26/1000], Step: [100/301], Loss: 0.6889, Dev: 0.6270\n",
            "Epoch: [26/1000], Step: [200/301], Loss: 0.7944, Dev: 0.6070\n",
            "Epoch: [26/1000], Step: [300/301], Loss: 0.8685, Dev: 0.6400\n",
            "Epoch: [27/1000], Step: [100/301], Loss: 1.1574, Dev: 0.6120\n",
            "Epoch: [27/1000], Step: [200/301], Loss: 0.5250, Dev: 0.6380\n",
            "Epoch: [27/1000], Step: [300/301], Loss: 0.8094, Dev: 0.6270\n",
            "Epoch: [28/1000], Step: [100/301], Loss: 0.6122, Dev: 0.6330\n",
            "Epoch: [28/1000], Step: [200/301], Loss: 0.7931, Dev: 0.6110\n",
            "Epoch: [28/1000], Step: [300/301], Loss: 0.4324, Dev: 0.6470\n",
            "Epoch: [29/1000], Step: [100/301], Loss: 0.7142, Dev: 0.6440\n",
            "Epoch: [29/1000], Step: [200/301], Loss: 0.7250, Dev: 0.6530\n",
            "Epoch: [29/1000], Step: [300/301], Loss: 1.0218, Dev: 0.6340\n",
            "Epoch: [30/1000], Step: [100/301], Loss: 0.6230, Dev: 0.6460\n",
            "Epoch: [30/1000], Step: [200/301], Loss: 0.7362, Dev: 0.6130\n",
            "Epoch: [30/1000], Step: [300/301], Loss: 0.6858, Dev: 0.6390\n",
            "Epoch: [31/1000], Step: [100/301], Loss: 0.8095, Dev: 0.6300\n",
            "Epoch: [31/1000], Step: [200/301], Loss: 0.9689, Dev: 0.6720\n",
            "Epoch: [31/1000], Step: [300/301], Loss: 0.5507, Dev: 0.6170\n",
            "Epoch: [32/1000], Step: [100/301], Loss: 0.6462, Dev: 0.6200\n",
            "Epoch: [32/1000], Step: [200/301], Loss: 1.1034, Dev: 0.6320\n",
            "Epoch: [32/1000], Step: [300/301], Loss: 0.5383, Dev: 0.6230\n",
            "Epoch: [33/1000], Step: [100/301], Loss: 0.8609, Dev: 0.6220\n",
            "Epoch: [33/1000], Step: [200/301], Loss: 0.5568, Dev: 0.6710\n",
            "Epoch: [33/1000], Step: [300/301], Loss: 0.6941, Dev: 0.6400\n",
            "Epoch: [34/1000], Step: [100/301], Loss: 0.6128, Dev: 0.6490\n",
            "Epoch: [34/1000], Step: [200/301], Loss: 0.6143, Dev: 0.6480\n",
            "Epoch: [34/1000], Step: [300/301], Loss: 0.6329, Dev: 0.6370\n",
            "Epoch: [35/1000], Step: [100/301], Loss: 0.8498, Dev: 0.6720\n",
            "Epoch: [35/1000], Step: [200/301], Loss: 0.5445, Dev: 0.6650\n",
            "Epoch: [35/1000], Step: [300/301], Loss: 1.0130, Dev: 0.6430\n",
            "Epoch: [36/1000], Step: [100/301], Loss: 1.7724, Dev: 0.6170\n",
            "Epoch: [36/1000], Step: [200/301], Loss: 1.0511, Dev: 0.6640\n",
            "Epoch: [36/1000], Step: [300/301], Loss: 0.4408, Dev: 0.6520\n",
            "Epoch: [37/1000], Step: [100/301], Loss: 0.6601, Dev: 0.6540\n",
            "Epoch: [37/1000], Step: [200/301], Loss: 0.4751, Dev: 0.6560\n",
            "Epoch: [37/1000], Step: [300/301], Loss: 1.3548, Dev: 0.6240\n",
            "Epoch: [38/1000], Step: [100/301], Loss: 0.6441, Dev: 0.6500\n",
            "Epoch: [38/1000], Step: [200/301], Loss: 0.7685, Dev: 0.6410\n",
            "Epoch: [38/1000], Step: [300/301], Loss: 0.4406, Dev: 0.6590\n"
          ],
          "name": "stdout"
        }
      ]
    },
    {
      "cell_type": "markdown",
      "metadata": {
        "id": "jRUlRGIWiqW9"
      },
      "source": [
        "# Evaluation"
      ]
    },
    {
      "cell_type": "markdown",
      "metadata": {
        "id": "6zDrPphzsTBf"
      },
      "source": [
        "## Validity Check\n",
        "This is a way for you to check whether you accidentially renamed answer variables or functions that we will use for automatic evaluation. Note that this is not a comprehensive list and we do not check here whether you accidentially changed the function signatures, so failing this validity check is only a sufficient condition for telling you something went wrong."
      ]
    },
    {
      "cell_type": "code",
      "metadata": {
        "id": "VEnoXoVjsVQ_"
      },
      "source": [
        "for answer in [Q1, Q2, Q3, Q4, Q5, Q6, Q7, Q8, Q9, Q10, QFormulation]:\n",
        "  assert isinstance(answer, str)\n",
        "\n",
        "for fun in [\n",
        "    construct_scaled_identity, \n",
        "    mean_diagonal, \n",
        "    bottom_right_matrix,\n",
        "    transpose_sum,\n",
        "    matrixvector1,\n",
        "    matrixvector2,\n",
        "    matrixvector3,\n",
        "    matrixvector4,\n",
        "    matrixvector5,\n",
        "    fw,\n",
        "    bw,\n",
        "    SortBy,\n",
        "    collapse_mr_dot,\n",
        "    LogisticRegressionMeanPooling,\n",
        "    add_features,\n",
        "    accuracy,\n",
        "    training_loop\n",
        "    ]:\n",
        "  assert callable(fun)"
      ],
      "execution_count": 21,
      "outputs": []
    },
    {
      "cell_type": "code",
      "metadata": {
        "id": "wKyuktsCfKZK"
      },
      "source": [
        ""
      ],
      "execution_count": 21,
      "outputs": []
    }
  ]
}