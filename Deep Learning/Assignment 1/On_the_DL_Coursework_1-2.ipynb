{
 "cells": [
  {
   "cell_type": "markdown",
   "metadata": {
    "id": "zYLTn977KQrK"
   },
   "source": [
    "\n",
    "\n",
    "```\n",
    "`# This is formatted as code`\n",
    "```\n",
    "\n",
    "# Assignment 1, \"Bag, not bag\""
   ]
  },
  {
   "cell_type": "markdown",
   "metadata": {
    "id": "i7zWs1pHOjnZ"
   },
   "source": [
    "**On the DL group details**\n",
    "\n",
    "Sahil Shah: 20194624, sahil.shah.20@ucl.ac.uk\n",
    "\n",
    "Akshaya Natarajan: 20069959, akshaya.natarajan.20@ucl.ac.uk\n",
    "\n",
    "Kamiylah Charles: 20092484, kamiylah.charles.20@ucl.ac.uk\n",
    "\n",
    "Akshay Parmar: 20153279, akshay.parmar.20@ucl.ac.uk\n",
    "\n",
    "Chanel Sadrettin-Brown, 16050121, chanel.sadrettin-brown.20@ucl.ac.uk"
   ]
  },
  {
   "cell_type": "markdown",
   "metadata": {
    "id": "hWEDqNWPEEOB"
   },
   "source": [
    "3.1 A memory-efficient voted perceptron"
   ]
  },
  {
   "cell_type": "code",
   "execution_count": null,
   "metadata": {
    "id": "bx2lCkodEqjR"
   },
   "outputs": [],
   "source": [
    "import numpy as np\n",
    "import matplotlib.pyplot as plt\n",
    "\n",
    "# Take off data\n",
    "dev_images = np.load(\"fashion-dev-imgs.npz\").reshape(784, 1000)\n",
    "dev_labels = np.load(\"fashion-dev-labels.npz\")\n",
    "test_images = np.load(\"fashion-test-imgs.npz\").reshape(784, 1000)\n",
    "test_labels = np.load(\"fashion-test-labels.npz\")\n",
    "train_images = np.load(\"fashion-train-imgs.npz\").reshape(784, 12000)\n",
    "train_labels = np.load(\"fashion-train-labels.npz\")"
   ]
  },
  {
   "cell_type": "code",
   "execution_count": null,
   "metadata": {
    "id": "cN5axlFIjwMH"
   },
   "outputs": [],
   "source": [
    "w = np.zeros(784)\n",
    "mean_w = np.zeros(784)\n",
    "c = 1"
   ]
  },
  {
   "cell_type": "code",
   "execution_count": null,
   "metadata": {
    "id": "XPoky3zLjwHP"
   },
   "outputs": [],
   "source": [
    "no_epochs = 100\n",
    "accuracies = []\n",
    "dev_accuracies = []\n",
    "\n",
    "for l in range(no_epochs):\n",
    "    accuracy = 0\n",
    "    for i in range(len(train_labels)):\n",
    "        x = train_images.T[i].flatten()\n",
    "        if w@x >= 0:\n",
    "            pred_labels = 1\n",
    "        else:\n",
    "            pred_labels = 0\n",
    "        if pred_labels == train_labels[i]:\n",
    "            c += 1\n",
    "        else:\n",
    "            mean_w = np.add(mean_w, w*c)\n",
    "            w = w + (train_labels[i] - pred_labels) * x\n",
    "            c = 1\n",
    "    \n",
    "    pred_train_labels=np.zeros(len(train_labels))\n",
    "    for i in range(len(train_labels)):\n",
    "        if mean_w @ train_images[:,i] >= 0:\n",
    "            pred_train_labels[i] = 1\n",
    "        else:\n",
    "            pred_train_labels[i] = 0\n",
    "    train_count = sum(map(lambda x : x==0.0, abs(train_labels - pred_train_labels)))\n",
    "    accuracies.append(train_count/len(train_labels))\n",
    "     \n",
    "    pred_dev_labels=np.zeros(len(dev_labels))\n",
    "    for i in range(len(dev_labels)):\n",
    "        if mean_w @ dev_images[:,i] >= 0:\n",
    "            pred_dev_labels[i] = 1\n",
    "        else:\n",
    "            pred_dev_labels[i] = 0\n",
    "    dev_count = sum(map(lambda x : x==0.0, abs(dev_labels - pred_dev_labels)))\n",
    "    dev_accuracies.append(dev_count/len(dev_labels))"
   ]
  },
  {
   "cell_type": "code",
   "execution_count": null,
   "metadata": {
    "colab": {
     "base_uri": "https://localhost:8080/",
     "height": 265
    },
    "id": "HLqoPU1vjv_Q",
    "outputId": "fae8cb53-92fc-420f-f977-4debfe307467"
   },
   "outputs": [
    {
     "data": {
      "image/png": "[encoded data removed]",
      "text/plain": [
       "<Figure size 432x288 with 1 Axes>"
      ]
     },
     "metadata": {
      "needs_background": "light",
      "tags": []
     },
     "output_type": "display_data"
    }
   ],
   "source": [
    "plt.plot(accuracies, label=\"Training\")\n",
    "plt.plot(dev_accuracies, label=\"Validation\")\n",
    "plt.legend()\n",
    "plt.show()"
   ]
  },
  {
   "cell_type": "code",
   "execution_count": null,
   "metadata": {
    "colab": {
     "base_uri": "https://localhost:8080/"
    },
    "id": "JRPetMEEfuhW",
    "outputId": "1b4dbec2-0b41-4fec-f7af-d211f57efaf2"
   },
   "outputs": [
    {
     "name": "stdout",
     "output_type": "stream",
     "text": [
      "Epoch with max validation accuracy:  2\n",
      "Validation accuracy at epoch 2  = 0.978\n",
      "Training accuracy at epoch 2  = 0.97\n"
     ]
    }
   ],
   "source": [
    "best_epoch = np.argmax(dev_accuracies)\n",
    "print('Epoch with max validation accuracy: ', best_epoch)\n",
    "print('Validation accuracy at epoch', best_epoch,' =', dev_accuracies[best_epoch])\n",
    "print('Training accuracy at epoch', best_epoch,' =', accuracies[best_epoch])"
   ]
  },
  {
   "cell_type": "markdown",
   "metadata": {
    "id": "GTl87XbxEVg-"
   },
   "source": [
    "3.2 Mean squared-loss logistic regression"
   ]
  },
  {
   "cell_type": "code",
   "execution_count": null,
   "metadata": {
    "id": "kGqvM4FUErMP"
   },
   "outputs": [],
   "source": [
    "import numpy as np\n",
    "import matplotlib.pyplot as plt\n",
    "%matplotlib inline"
   ]
  },
  {
   "cell_type": "code",
   "execution_count": null,
   "metadata": {
    "id": "kyrn9M0Wjy9a"
   },
   "outputs": [],
   "source": [
    "def logistic(x):\n",
    "    \"Produce the logistic function\"\n",
    "    return (1/(1+np.exp(-x)))"
   ]
  },
  {
   "cell_type": "code",
   "execution_count": null,
   "metadata": {
    "id": "pMqH4u0gjy4K"
   },
   "outputs": [],
   "source": [
    "def logistic_derivative(x):\n",
    "    \"Produce the derivative of the logistic function\"\n",
    "    return np.multiply(logistic(x),(1-logistic(x)))"
   ]
  },
  {
   "cell_type": "code",
   "execution_count": null,
   "metadata": {
    "id": "czv2Cg2Bjyu2"
   },
   "outputs": [],
   "source": [
    "def grad_w(y, w, X, b):\n",
    "    \"Differentiate with respect to w\"\n",
    "    return (-1/y.shape[1])*np.multiply((y-logistic(w.T@X+ b)),logistic_derivative(w.T@X+b))@X.T"
   ]
  },
  {
   "cell_type": "code",
   "execution_count": null,
   "metadata": {
    "id": "IJlVm9hYorZb"
   },
   "outputs": [],
   "source": [
    "def summed_grad_w(y, w, X, b):\n",
    "    \"Differentiate with respect to w\"\n",
    "    return (-1/y.shape[1])*np.sum(np.multiply((y-logistic(w.T@X+ b)),logistic_derivative(w.T@X+b))@X.T)"
   ]
  },
  {
   "cell_type": "code",
   "execution_count": null,
   "metadata": {
    "id": "dui2ipAZjymG"
   },
   "outputs": [],
   "source": [
    "def grad_b(y, w, X, b):\n",
    "    \"Differentiate with respect to b\"\n",
    "    return (-1/y.shape[1])*np.sum(np.multiply((y-logistic(w.T@X + b)),logistic_derivative(w.T@X+b)))"
   ]
  },
  {
   "cell_type": "code",
   "execution_count": null,
   "metadata": {
    "id": "FOkZ_HsKjycC"
   },
   "outputs": [],
   "source": [
    "def loss(y, w, X, b):\n",
    "    \"Provide mean square loss function\"\n",
    "    #n = np.asarray(y).reshape(1,1)\n",
    "    return (1/(2*y.shape[1]))*np.sum((y-logistic(w.T@X + b))**2)"
   ]
  },
  {
   "cell_type": "code",
   "execution_count": null,
   "metadata": {
    "id": "k2O_0BY_jyTt"
   },
   "outputs": [],
   "source": [
    "def finite_difference_w(y, w, X, b, e):\n",
    "    \"Finite differences gradient with respect to w\"\n",
    "    return ((loss(y, w + 0.5*e, X, b)) - (loss(y, w - 0.5*e, X, b)))/e"
   ]
  },
  {
   "cell_type": "code",
   "execution_count": null,
   "metadata": {
    "id": "DKyEA-6ljyHF"
   },
   "outputs": [],
   "source": [
    "def finite_difference_b(y, w, X, b, e):\n",
    "    \"Finite differences gradient with respect to b\"\n",
    "    return ((loss(y, w, X, b + 0.5*e)) - (loss(y, w, X, b - 0.5*e)))/e"
   ]
  },
  {
   "cell_type": "code",
   "execution_count": null,
   "metadata": {
    "id": "6nbWZrRYjx9_"
   },
   "outputs": [],
   "source": [
    "dev_images = np.load('/content/fashion-dev-imgs.npz').reshape(784, 1000)\n",
    "dev_labels = np.load('/content/fashion-dev-labels.npz').reshape(1,-1)\n",
    "test_images = np.load('/content/fashion-test-imgs.npz').reshape(784, 1000)\n",
    "test_labels = np.load('/content/fashion-test-labels.npz')\n",
    "train_images = np.load('/content/fashion-train-imgs.npz').reshape(784, 12000)\n",
    "train_labels = np.load('/content/fashion-train-labels.npz').reshape(1,-1)"
   ]
  },
  {
   "cell_type": "code",
   "execution_count": null,
   "metadata": {
    "id": "Fu0HLnrpjx3M"
   },
   "outputs": [],
   "source": [
    "w = np.random.randn(784).reshape(-1, 1)\n",
    "b = 0"
   ]
  },
  {
   "cell_type": "code",
   "execution_count": null,
   "metadata": {
    "colab": {
     "base_uri": "https://localhost:8080/"
    },
    "id": "vut9eNd5jxoW",
    "outputId": "6f3caf5c-3ce9-4008-fa36-cfb975f90878"
   },
   "outputs": [
    {
     "data": {
      "text/plain": [
       "0.0009378076158856876"
      ]
     },
     "execution_count": 166,
     "metadata": {
      "tags": []
     },
     "output_type": "execute_result"
    }
   ],
   "source": [
    "# gradient checking using finite differences for first sample\n",
    "X1 = train_images[:,1000].reshape(784,1)\n",
    "Y1 = train_labels[:,1000].reshape(1,1)\n",
    "grad_b(Y1, w, X1, b) "
   ]
  },
  {
   "cell_type": "code",
   "execution_count": null,
   "metadata": {
    "colab": {
     "base_uri": "https://localhost:8080/"
    },
    "id": "s3mgvj-BjxgB",
    "outputId": "96ab254b-5d33-4fbb-d972-80796d553d2a"
   },
   "outputs": [
    {
     "data": {
      "text/plain": [
       "0.0009378114904257107"
      ]
     },
     "execution_count": 167,
     "metadata": {
      "tags": []
     },
     "output_type": "execute_result"
    }
   ],
   "source": [
    "finite_difference_b(Y1, w, X1, b, 0.01)"
   ]
  },
  {
   "cell_type": "code",
   "execution_count": null,
   "metadata": {
    "colab": {
     "base_uri": "https://localhost:8080/"
    },
    "id": "r_-BWuGgjxZr",
    "outputId": "7510ec76-5638-40a5-d96d-d6aabfee4036"
   },
   "outputs": [
    {
     "name": "stdout",
     "output_type": "stream",
     "text": [
      "Good bias approximation\n"
     ]
    }
   ],
   "source": [
    "if abs(grad_b(Y1, w, X1, b) - finite_difference_b(Y1, w, X1, b, 0.01)) <= 1e-7:\n",
    "    print('Good bias approximation') "
   ]
  },
  {
   "cell_type": "code",
   "execution_count": null,
   "metadata": {
    "colab": {
     "base_uri": "https://localhost:8080/"
    },
    "id": "_nKh3W4WRm4j",
    "outputId": "a3868b20-44e9-4337-fb98-627e87112bcc"
   },
   "outputs": [
    {
     "data": {
      "text/plain": [
       "0.11449496391839173"
      ]
     },
     "execution_count": 169,
     "metadata": {
      "tags": []
     },
     "output_type": "execute_result"
    }
   ],
   "source": [
    "summed_grad_w(Y1, w, X1, b)"
   ]
  },
  {
   "cell_type": "code",
   "execution_count": null,
   "metadata": {
    "colab": {
     "base_uri": "https://localhost:8080/"
    },
    "id": "fR-FBKqsRmqC",
    "outputId": "cc0b74b9-da66-4449-b99d-22754d14b27c"
   },
   "outputs": [
    {
     "data": {
      "text/plain": [
       "0.11449496389870362"
      ]
     },
     "execution_count": 170,
     "metadata": {
      "tags": []
     },
     "output_type": "execute_result"
    }
   ],
   "source": [
    "finite_difference_w(Y1, w, X1, b, 0.000001)"
   ]
  },
  {
   "cell_type": "code",
   "execution_count": null,
   "metadata": {
    "colab": {
     "base_uri": "https://localhost:8080/"
    },
    "id": "Udxgr-c7RmUX",
    "outputId": "527a1c63-448f-4dfb-8915-62eb34d94262"
   },
   "outputs": [
    {
     "name": "stdout",
     "output_type": "stream",
     "text": [
      "Good weight approximation\n"
     ]
    }
   ],
   "source": [
    "if abs(summed_grad_w(Y1, w, X1, b) - finite_difference_w(Y1, w, X1, b, 0.000001)) <= 1e-7:\n",
    "    print('Good weight approximation')"
   ]
  },
  {
   "cell_type": "code",
   "execution_count": null,
   "metadata": {
    "colab": {
     "base_uri": "https://localhost:8080/"
    },
    "id": "LH0Bo4qns5wq",
    "outputId": "9bcf3299-ae4d-4382-ac5e-32b8be1873de"
   },
   "outputs": [
    {
     "data": {
      "text/plain": [
       "-0.0008555373479266501"
      ]
     },
     "execution_count": 172,
     "metadata": {
      "tags": []
     },
     "output_type": "execute_result"
    }
   ],
   "source": [
    "# gradient checking using finite differences for second sample\n",
    "X2 = train_images[:,2].reshape(784,1)\n",
    "Y2 = train_labels[:,2].reshape(1,1)\n",
    "grad_b(Y2, w, X2, b) "
   ]
  },
  {
   "cell_type": "code",
   "execution_count": null,
   "metadata": {
    "colab": {
     "base_uri": "https://localhost:8080/"
    },
    "id": "qbqifqQSlJ3b",
    "outputId": "9b3d05a2-8607-469e-9874-374818a3828c"
   },
   "outputs": [
    {
     "data": {
      "text/plain": [
       "-0.0008555500568905379"
      ]
     },
     "execution_count": 173,
     "metadata": {
      "tags": []
     },
     "output_type": "execute_result"
    }
   ],
   "source": [
    "finite_difference_b(Y2, w, X2, b, 0.01)"
   ]
  },
  {
   "cell_type": "code",
   "execution_count": null,
   "metadata": {
    "colab": {
     "base_uri": "https://localhost:8080/"
    },
    "id": "yGlyGw_hlJtT",
    "outputId": "2f076edc-dc7c-4f05-b781-9b7c3d62d58b"
   },
   "outputs": [
    {
     "name": "stdout",
     "output_type": "stream",
     "text": [
      "Good bias approximation\n"
     ]
    }
   ],
   "source": [
    "if abs(grad_b(Y2, w, X2, b) - finite_difference_b(Y2, w, X2, b, 0.01)) <= 1e-7:\n",
    "    print('Good bias approximation')"
   ]
  },
  {
   "cell_type": "code",
   "execution_count": null,
   "metadata": {
    "colab": {
     "base_uri": "https://localhost:8080/"
    },
    "id": "Wqj3m-9KsQF6",
    "outputId": "bf8ec90d-6c62-4075-cea2-31a22b2ca56b"
   },
   "outputs": [
    {
     "data": {
      "text/plain": [
       "-0.1940856131384656"
      ]
     },
     "execution_count": 178,
     "metadata": {
      "tags": []
     },
     "output_type": "execute_result"
    }
   ],
   "source": [
    "summed_grad_w(Y2, w, X2, b) "
   ]
  },
  {
   "cell_type": "code",
   "execution_count": null,
   "metadata": {
    "colab": {
     "base_uri": "https://localhost:8080/"
    },
    "id": "B-pMmCLtsP5i",
    "outputId": "34a25bf0-bc06-4a4e-cf2b-d622c5fb7228"
   },
   "outputs": [
    {
     "data": {
      "text/plain": [
       "-0.19408561462630133"
      ]
     },
     "execution_count": 179,
     "metadata": {
      "tags": []
     },
     "output_type": "execute_result"
    }
   ],
   "source": [
    "finite_difference_w(Y2, w, X2, b, 0.000001)"
   ]
  },
  {
   "cell_type": "code",
   "execution_count": null,
   "metadata": {
    "colab": {
     "base_uri": "https://localhost:8080/"
    },
    "id": "ZB2YpNI0sPn7",
    "outputId": "d41cd1bc-60cf-4077-b4f5-b0b8887f3440"
   },
   "outputs": [
    {
     "name": "stdout",
     "output_type": "stream",
     "text": [
      "Good weight approximation\n"
     ]
    }
   ],
   "source": [
    "if abs(summed_grad_w(Y2, w, X2, b) - finite_difference_w(Y2, w, X2, b, 0.000001)) <= 1e-7:\n",
    "    print('Good weight approximation')"
   ]
  },
  {
   "cell_type": "code",
   "execution_count": null,
   "metadata": {
    "id": "l9urDq5UlJin"
   },
   "outputs": [],
   "source": [
    "epoch_no = 1000\n",
    "learning_rate = 0.1\n",
    "training_losses = []\n",
    "training_accuracies = []\n",
    "validation_losses = []\n",
    "validation_accuracies = []\n",
    "w = np.zeros(784).reshape(-1, 1)\n",
    "b = 0\n",
    "\n",
    "for l in range(epoch_no):\n",
    "    accuracy = 0\n",
    "    train_loss = 0\n",
    "    \n",
    "    prev_b = b\n",
    "    b = b - learning_rate*grad_b(train_labels, w, train_images, b)\n",
    "    \n",
    "    prev_w = w\n",
    "    w = w - learning_rate*grad_w(train_labels, w, train_images, prev_b).T\n",
    "\n",
    "    t_count = np.sum((train_labels == ((logistic(w.T@train_images + b) >= 0.5)*1.0))*1.0) \n",
    "    v_count = np.sum((dev_labels == ((logistic(w.T@dev_images + b) >= 0.5)*1.0))*1.0) \n",
    "    \n",
    "    epoch_loss = loss(train_labels, w, train_images, b) \n",
    "    training_losses.append(epoch_loss)\n",
    "    training_accuracies.append(t_count/train_labels.shape[1])\n",
    "    validation_losses.append(loss(dev_labels, w, dev_images, b))\n",
    "    validation_accuracies.append(v_count/dev_labels.shape[1])"
   ]
  },
  {
   "cell_type": "code",
   "execution_count": null,
   "metadata": {
    "colab": {
     "base_uri": "https://localhost:8080/"
    },
    "id": "c1xVKcC-9LTb",
    "outputId": "bd64ab43-a63f-40b7-fc85-03d72edeee12"
   },
   "outputs": [
    {
     "name": "stdout",
     "output_type": "stream",
     "text": [
      "Epoch with max validation accuracy:  896\n",
      "Validation accuracy at epoch 896 = 0.967\n",
      "Training accuracy at epoch 896 = 0.96017\n"
     ]
    }
   ],
   "source": [
    "best_epoch = np.argmax(validation_accuracies)\n",
    "print('Epoch with max validation accuracy: ', best_epoch)\n",
    "print('Validation accuracy at epoch', best_epoch,'=', validation_accuracies[best_epoch])\n",
    "print('Training accuracy at epoch', best_epoch,'=', round(training_accuracies[best_epoch],5))"
   ]
  },
  {
   "cell_type": "code",
   "execution_count": null,
   "metadata": {
    "colab": {
     "base_uri": "https://localhost:8080/",
     "height": 279
    },
    "id": "_fcrlnXblJby",
    "outputId": "e07379f1-c4c8-47b4-af43-4f5179eaea9f"
   },
   "outputs": [
    {
     "data": {
      "image/png": "[encoded data removed]",
      "text/plain": [
       "<Figure size 432x288 with 1 Axes>"
      ]
     },
     "metadata": {
      "needs_background": "light",
      "tags": []
     },
     "output_type": "display_data"
    }
   ],
   "source": [
    "plt.plot(range(1,epoch_no+1), training_losses, label='Training Loss')\n",
    "plt.plot(range(1,epoch_no+1), validation_losses, label = 'Validation Loss')\n",
    "plt.ylabel(\"Mean Square Loss\")\n",
    "plt.xlabel(\"Epoch No.\")\n",
    "plt.legend()\n",
    "plt.show()"
   ]
  },
  {
   "cell_type": "code",
   "execution_count": null,
   "metadata": {
    "colab": {
     "base_uri": "https://localhost:8080/",
     "height": 279
    },
    "id": "hXl704Y_lJP_",
    "outputId": "9d6d2ff3-770f-4ae3-ed47-8adbd67086d5"
   },
   "outputs": [
    {
     "data": {
      "image/png": "[encoded data removed]",
      "text/plain": [
       "<Figure size 432x288 with 1 Axes>"
      ]
     },
     "metadata": {
      "needs_background": "light",
      "tags": []
     },
     "output_type": "display_data"
    }
   ],
   "source": [
    "plt.plot(range(1,epoch_no+1), training_accuracies, label='Training Accuracy')\n",
    "plt.plot(range(1,epoch_no+1), validation_accuracies, label='Validation Accuracy')\n",
    "plt.legend()\n",
    "plt.ylabel(\"Accuracy\")\n",
    "plt.xlabel(\"Epoch No.\")\n",
    "plt.show()"
   ]
  },
  {
   "cell_type": "markdown",
   "metadata": {
    "id": "ubsRB-ONEWg0"
   },
   "source": [
    "3.3 Three-layer multi-layer perceptron"
   ]
  },
  {
   "cell_type": "code",
   "execution_count": null,
   "metadata": {
    "id": "QwEqjdP4E0Fd"
   },
   "outputs": [],
   "source": [
    "import numpy as np\n",
    "import matplotlib.pyplot as plt\n",
    "%matplotlib inline"
   ]
  },
  {
   "cell_type": "code",
   "execution_count": null,
   "metadata": {
    "id": "5EXv6xFlENsf"
   },
   "outputs": [],
   "source": [
    "#extract data from dataset\n",
    "x_train = np.load('/content/fashion-train-imgs.npz')\n",
    "y_train = np.load('/content/fashion-train-labels.npz')\n",
    "\n",
    "x_test = np.load('/content/fashion-test-imgs.npz')\n",
    "y_test = np.load('/content/fashion-test-labels.npz')\n",
    "\n",
    "x_val = np.load('/content/fashion-dev-imgs.npz')\n",
    "y_val = np.load('/content/fashion-dev-labels.npz')"
   ]
  },
  {
   "cell_type": "code",
   "execution_count": null,
   "metadata": {
    "colab": {
     "base_uri": "https://localhost:8080/",
     "height": 282
    },
    "id": "ZImQpTASENF9",
    "outputId": "10dcde61-3985-42a6-e5a2-7c3f45c60c0a"
   },
   "outputs": [
    {
     "name": "stdout",
     "output_type": "stream",
     "text": [
      "(28, 28)\n"
     ]
    },
    {
     "data": {
      "image/png": "[encoded data removed]",
      "text/plain": [
       "<Figure size 432x288 with 1 Axes>"
      ]
     },
     "metadata": {
      "needs_background": "light",
      "tags": []
     },
     "output_type": "display_data"
    }
   ],
   "source": [
    "# viewing a sample\n",
    "sample = 1\n",
    "\n",
    "image = x_train[:,:,sample]\n",
    "print(image.shape)\n",
    "\n",
    "fig = plt.figure\n",
    "plt.imshow(image)\n",
    "plt.show()"
   ]
  },
  {
   "cell_type": "code",
   "execution_count": null,
   "metadata": {
    "colab": {
     "base_uri": "https://localhost:8080/"
    },
    "id": "mLFjpwQlENAn",
    "outputId": "bf6622f1-8de9-405e-ea94-92c62d25208e"
   },
   "outputs": [
    {
     "name": "stdout",
     "output_type": "stream",
     "text": [
      "X_train =  (784, 12000)\n",
      "Y_train =  (1, 12000)\n",
      "X_val =  (784, 1000)\n",
      "Y_val =  (1, 1000)\n",
      "X_test =  (784, 1000)\n",
      "Y_test =  (1, 1000)\n"
     ]
    }
   ],
   "source": [
    "# Reshaping and checking dimensions\n",
    "\n",
    "X_train = x_train.reshape(x_train.shape[0] * x_train.shape[1], x_train.shape[2]) \n",
    "print('X_train = ', X_train.shape)\n",
    "\n",
    "assert X_train.shape == (784,12000)\n",
    "\n",
    "Y_train = y_train.reshape(1, y_train.shape[0])\n",
    "print('Y_train = ', Y_train.shape)\n",
    "\n",
    "assert Y_train.shape == (1,12000)\n",
    "\n",
    "X_val = x_val.reshape(x_val.shape[0]*x_val.shape[1],x_val.shape[2])\n",
    "print('X_val = ', X_val.shape)\n",
    "\n",
    "assert X_val.shape == (784,1000)\n",
    "\n",
    "Y_val = y_val.reshape(1, y_val.shape[0])\n",
    "print('Y_val = ', Y_val.shape)\n",
    "\n",
    "assert Y_val.shape == (1,1000)\n",
    "\n",
    "X_test = x_test.reshape(x_test.shape[0]*x_test.shape[1],x_test.shape[2])\n",
    "print('X_test = ', X_test.shape)\n",
    "\n",
    "assert X_test.shape == (784,1000)\n",
    "\n",
    "Y_test = y_test.reshape(1, y_test.shape[0])\n",
    "print('Y_test = ', Y_test.shape)\n",
    "\n",
    "assert Y_test.shape == (1,1000)"
   ]
  },
  {
   "cell_type": "code",
   "execution_count": null,
   "metadata": {
    "id": "HX1q-P8YFNZO"
   },
   "outputs": [],
   "source": [
    "# defining the sigmoid activation function and it's derivative\n",
    "def sigmoid_gradient(z):\n",
    "    sigp = sigmoid(z) * (1-sigmoid(z))\n",
    "    return sigp\n",
    "\n",
    "def sigmoid(z):\n",
    "    sig = 1/ (1 + np.exp(-z))\n",
    "    return sig"
   ]
  },
  {
   "cell_type": "code",
   "execution_count": null,
   "metadata": {
    "id": "mPIpui_0FO6J"
   },
   "outputs": [],
   "source": [
    "# set up random weights and zero biases to initialize before optimization on training set\n",
    "def initial_parameters(input_size, h1, h2, output_size):\n",
    "    \n",
    "    W3 = np.random.randn(output_size,h2)\n",
    "    W2 = np.random.randn(h2,h1)\n",
    "    W1 = np.random.randn(h1,input_size)\n",
    "\n",
    "    b3 = np.zeros((output_size,1))\n",
    "    b2 = np.zeros((h2,1))\n",
    "    b1 = np.zeros((h1,1))\n",
    "    \n",
    "    parameters = (W1, b1 , W2 , b2 , W3 ,b3)\n",
    "    \n",
    "    return parameters "
   ]
  },
  {
   "cell_type": "code",
   "execution_count": null,
   "metadata": {
    "id": "R7IA9t6MmvMd"
   },
   "outputs": [],
   "source": [
    "# loss function \n",
    "def log_like(y_true, y_pred):\n",
    "    log_l = np.multiply(-np.log(y_pred),y_true) + np.multiply(-np.log(1 - y_pred), 1 - y_true)\n",
    "    return log_l"
   ]
  },
  {
   "cell_type": "code",
   "execution_count": null,
   "metadata": {
    "id": "bVGml0oFmvAX"
   },
   "outputs": [],
   "source": [
    "# calculating accuracy\n",
    "def accuracy(y_true, y_pred):\n",
    "    sim = 0\n",
    "    y_pred = np.array(y_pred).reshape(1,len(y_pred))\n",
    "    for k in range(y_true.shape[1]):\n",
    "        if y_true[0][k] == y_pred[0][k]:\n",
    "            sim += 1\n",
    "\n",
    "    return (sim/y_true.shape[1])\n",
    "\n",
    "# mapping y_pred < 0.5 to 0 and else 1        \n",
    "def threshold_func(y_pred):\n",
    "    y_pred_mapped =[]\n",
    "    for l in range(y_pred.shape[1]):\n",
    "        if y_pred[0][l] >= 0.5:\n",
    "            y_pred_mapped.append(1)\n",
    "        else:\n",
    "            y_pred_mapped.append(0)\n",
    "    return y_pred_mapped"
   ]
  },
  {
   "cell_type": "code",
   "execution_count": null,
   "metadata": {
    "id": "5oYV5FRQmuxK"
   },
   "outputs": [],
   "source": [
    "# finite difference helper functions for gradient_check_n from Andrew Ng Deep Learning Specialization course - Coursera\n",
    "def dictionary_to_vector(parameters):\n",
    "    keys = []\n",
    "    count = 0\n",
    "    W1, b1 , W2 , b2 , W3 , b3 = parameters\n",
    "    params = {}\n",
    "    params['W1'] = W1\n",
    "    params['b1'] = b1\n",
    "    params['W2'] = W2\n",
    "    params['b2'] = b2\n",
    "    params['W3'] = W3\n",
    "    params['b3'] = b3\n",
    "    \n",
    "    for key in [\"W1\", \"b1\", \"W2\", \"b2\", \"W3\", \"b3\"]:\n",
    "        \n",
    "        # flatten parameter\n",
    "        new_vector = np.reshape(params[key], (-1,1))\n",
    "        keys = keys + [key]*new_vector.shape[0]\n",
    "        \n",
    "        if count == 0:\n",
    "            theta = new_vector\n",
    "        else:\n",
    "            theta = np.concatenate((theta, new_vector), axis=0)\n",
    "        count = count + 1\n",
    "\n",
    "    return theta, keys\n",
    "\n",
    "def vector_to_dictionary(theta):\n",
    "    \n",
    "    W1 = theta[:7840].reshape((10,784))\n",
    "    b1 = theta[7840:7850].reshape((10,1))\n",
    "    W2 = theta[7850:7950].reshape((10,10))\n",
    "    b2 = theta[7950:7960].reshape((10,1))\n",
    "    W3 = theta[7960:7970].reshape((1,10))\n",
    "    b3 = theta[7970:7971].reshape((1,1))\n",
    "    \n",
    "    parameters = (W1, b1 , W2 , b2 , W3 ,b3)\n",
    "\n",
    "    return parameters\n",
    "\n",
    "def gradients_to_vector(gradients):\n",
    "    count = 0\n",
    "    dZ3, dW3, db3, dA2, dZ2, dW2, db2, dA1, dZ1, dW1, db1 = gradients\n",
    "\n",
    "    grads = {}\n",
    "\n",
    "    grads['dW1'] = dW1\n",
    "    grads['db1'] = db1\n",
    "    grads['dW2'] = dW2\n",
    "    grads['db2'] = db2\n",
    "    grads['dW3'] = dW3\n",
    "    grads['db3'] = db3\n",
    "\n",
    "    for key in ['dW1', 'db1', 'dW2', 'db2', 'dW3', 'db3']:\n",
    "        # flatten parameter\n",
    "        new_vector = np.reshape(grads[key], (-1,1))\n",
    "        \n",
    "        if count == 0:\n",
    "            theta = new_vector\n",
    "        else:\n",
    "            theta = np.concatenate((theta, new_vector), axis=0)\n",
    "        count = count + 1\n",
    "\n",
    "    return theta"
   ]
  },
  {
   "cell_type": "code",
   "execution_count": null,
   "metadata": {
    "id": "BcWs54JWmunN"
   },
   "outputs": [],
   "source": [
    "# function to calculate forward propogation\n",
    "def forward_prop(X, parameters):\n",
    "    \n",
    "    m = X.shape[1]\n",
    "    W1, b1 , W2 , b2 , W3 , b3 = parameters\n",
    "\n",
    "    Z1 = W1 @ X + b1\n",
    "    A1 = sigmoid(Z1)\n",
    "    Z2 = W2 @ A1 + b2\n",
    "    A2 = sigmoid(Z2)\n",
    "    Z3 = W3 @ A2 + b3\n",
    "    A3 = sigmoid(Z3)\n",
    "\n",
    "    forward_pass = (Z1, A1, W1, b1, Z2, A2, W2, b2, Z3, A3, W3, b3)\n",
    "    \n",
    "    return A3, forward_pass"
   ]
  },
  {
   "cell_type": "code",
   "execution_count": null,
   "metadata": {
    "id": "4qR2_4IWmucl"
   },
   "outputs": [],
   "source": [
    "#function to calculate back propogation\n",
    "def back_prop(X, Y, forward_pass):\n",
    "    \n",
    "    m = X.shape[1]\n",
    "    (Z1, A1, W1, b1, Z2, A2, W2, b2, Z3, A3, W3, b3) = forward_pass\n",
    "\n",
    "    dZ3 = (A3 - Y)\n",
    "    dW3 = ((dZ3@A2.T))/m\n",
    "    db3 = (np.sum(dZ3,axis=1,keepdims=True))/m\n",
    "   \n",
    "    dA2 = W3.T@dZ3\n",
    "    \n",
    "    dZ2=  ((dA2) * sigmoid_gradient(Z2))\n",
    "    dW2 = ((dZ2@A1.T))/m\n",
    "    db2 = (np.sum(dZ2,axis=1,keepdims=True))/m\n",
    "    \n",
    "    dA1 = W2.T@dZ2\n",
    "    \n",
    "    dZ1 = ((dA1) * sigmoid_gradient(Z1))\n",
    "    dW1 = ((dZ1@X.T))/m\n",
    "    db1 = (np.sum(dZ1,axis=1,keepdims=True))/m\n",
    "\n",
    "    gradients = (dZ3, dW3, db3, dA2, dZ2, dW2, db2, dA1, dZ1, dW1, db1)\n",
    "    \n",
    "    return gradients"
   ]
  },
  {
   "cell_type": "code",
   "execution_count": null,
   "metadata": {
    "id": "nOSy8T8nmuSZ"
   },
   "outputs": [],
   "source": [
    "# function performing full batch gradient descent\n",
    "def gradient_descent(parameters, gradients, learning_rate):\n",
    "    \n",
    "    # information from forward and backprop\n",
    "    \n",
    "    dZ3, dW3, db3, dA2, dZ2, dW2, db2, dA1, dZ1, dW1, db1 = gradients\n",
    "    W1, b1 , W2 , b2 , W3 ,b3 = parameters\n",
    "\n",
    "    # updating weights and biases\n",
    "    W3 -= learning_rate * dW3\n",
    "    W2 -= learning_rate * dW2\n",
    "    W1 -= learning_rate * dW1\n",
    "\n",
    "    b3 -= learning_rate * db3\n",
    "    b1 -= learning_rate * db1\n",
    "    b2 -= learning_rate * db2\n",
    "      \n",
    "    parameters = ( W1, b1 , W2 , b2 , W3 ,b3 )\n",
    "\n",
    "    \n",
    "    return parameters"
   ]
  },
  {
   "cell_type": "code",
   "execution_count": null,
   "metadata": {
    "id": "HE6RAHQpmuMF"
   },
   "outputs": [],
   "source": [
    "# main function for training the model\n",
    "def training_model(X, Y, h1, h2, epochs,learning_rate):\n",
    "    m = X.shape[1]\n",
    "    cost_stored = []\n",
    "    accuracies = []\n",
    "    best_val_accuracy = np.zeros((epochs,2))\n",
    "    \n",
    "    # initialization of weights, biases\n",
    "    parameters = initial_parameters(X.shape[0], h1, h2, Y.shape[0])\n",
    "    \n",
    "    for i in range(epochs):\n",
    "        \n",
    "        # forward propogation\n",
    "        y_pred, forward_pass = forward_prop(X, parameters)\n",
    "    \n",
    "        # calculating loss using log likelihood loss function\n",
    "        log_l = log_like(Y, y_pred)\n",
    "        cost = 1./m * np.sum(log_l)\n",
    "        cost_stored.append(cost)\n",
    "               \n",
    "        # training accuracy per epoch\n",
    "        accuracies.append(accuracy(Y, threshold_func(y_pred)))\n",
    "        best_val_accuracy[i][1] = accuracy(Y, threshold_func(y_pred))\n",
    "\n",
    "        # back propogation\n",
    "        gradients = back_prop(X, Y, forward_pass)\n",
    "        \n",
    "        # gradient descent\n",
    "        parameters = gradient_descent(parameters, gradients, learning_rate)\n",
    "        \n",
    "        # validation accuracy per epoch\n",
    "        y_pred_val, forward_pass = forward_prop(X_val, parameters)\n",
    "        y_pred_mapped_val = threshold_func(y_pred_val)\n",
    "        best_val_accuracy[i][0] = accuracy(Y_val, y_pred_mapped_val)\n",
    "        \n",
    "        if i % 10 == 0:\n",
    "            print('Epoch ',i,' - Cost: ', round(cost,5), ' - Accuracy: ', round(accuracies[i],5))\n",
    "            \n",
    "            \n",
    "    # final accuracy\n",
    "    y_hat = threshold_func(y_pred)\n",
    "    print('Final Accuracy is : ', accuracy(Y,y_hat))\n",
    "    \n",
    "    return y_hat, accuracies, cost_stored , best_val_accuracy      "
   ]
  },
  {
   "cell_type": "code",
   "execution_count": null,
   "metadata": {
    "colab": {
     "base_uri": "https://localhost:8080/"
    },
    "id": "Xy-y_J_YmuA9",
    "outputId": "8efa1d85-cd5a-403d-e181-60dc293a1a8b"
   },
   "outputs": [
    {
     "name": "stdout",
     "output_type": "stream",
     "text": [
      "Epoch  0  - Cost:  2.9211  - Accuracy:  0.399\n",
      "Epoch  10  - Cost:  1.18308  - Accuracy:  0.69192\n",
      "Epoch  20  - Cost:  0.8365  - Accuracy:  0.77\n",
      "Epoch  30  - Cost:  0.66966  - Accuracy:  0.81017\n",
      "Epoch  40  - Cost:  0.56971  - Accuracy:  0.83292\n",
      "Epoch  50  - Cost:  0.504  - Accuracy:  0.85242\n",
      "Epoch  60  - Cost:  0.45756  - Accuracy:  0.86692\n",
      "Epoch  70  - Cost:  0.42272  - Accuracy:  0.87792\n",
      "Epoch  80  - Cost:  0.39536  - Accuracy:  0.88442\n",
      "Epoch  90  - Cost:  0.37312  - Accuracy:  0.88925\n",
      "Epoch  100  - Cost:  0.35457  - Accuracy:  0.89417\n",
      "Epoch  110  - Cost:  0.33876  - Accuracy:  0.89817\n",
      "Epoch  120  - Cost:  0.32505  - Accuracy:  0.9015\n",
      "Epoch  130  - Cost:  0.31301  - Accuracy:  0.90533\n",
      "Epoch  140  - Cost:  0.3023  - Accuracy:  0.9095\n",
      "Epoch  150  - Cost:  0.29268  - Accuracy:  0.91167\n",
      "Epoch  160  - Cost:  0.28397  - Accuracy:  0.91458\n",
      "Epoch  170  - Cost:  0.27603  - Accuracy:  0.91708\n",
      "Epoch  180  - Cost:  0.26875  - Accuracy:  0.919\n",
      "Epoch  190  - Cost:  0.26205  - Accuracy:  0.92067\n",
      "Epoch  200  - Cost:  0.25585  - Accuracy:  0.92192\n",
      "Epoch  210  - Cost:  0.25009  - Accuracy:  0.92367\n",
      "Epoch  220  - Cost:  0.24472  - Accuracy:  0.92433\n",
      "Epoch  230  - Cost:  0.2397  - Accuracy:  0.92583\n",
      "Epoch  240  - Cost:  0.235  - Accuracy:  0.92817\n",
      "Epoch  250  - Cost:  0.23058  - Accuracy:  0.92867\n",
      "Epoch  260  - Cost:  0.22641  - Accuracy:  0.92992\n",
      "Epoch  270  - Cost:  0.22248  - Accuracy:  0.93158\n",
      "Epoch  280  - Cost:  0.21875  - Accuracy:  0.93267\n",
      "Epoch  290  - Cost:  0.21521  - Accuracy:  0.93392\n",
      "Epoch  300  - Cost:  0.21185  - Accuracy:  0.93467\n",
      "Epoch  310  - Cost:  0.20865  - Accuracy:  0.93558\n",
      "Epoch  320  - Cost:  0.2056  - Accuracy:  0.9365\n",
      "Epoch  330  - Cost:  0.20268  - Accuracy:  0.93742\n",
      "Epoch  340  - Cost:  0.19988  - Accuracy:  0.93817\n",
      "Epoch  350  - Cost:  0.1972  - Accuracy:  0.93883\n",
      "Epoch  360  - Cost:  0.19463  - Accuracy:  0.94008\n",
      "Epoch  370  - Cost:  0.19216  - Accuracy:  0.94092\n",
      "Epoch  380  - Cost:  0.18977  - Accuracy:  0.94108\n",
      "Epoch  390  - Cost:  0.18748  - Accuracy:  0.94158\n",
      "Epoch  400  - Cost:  0.18526  - Accuracy:  0.94242\n",
      "Epoch  410  - Cost:  0.18312  - Accuracy:  0.94367\n",
      "Epoch  420  - Cost:  0.18104  - Accuracy:  0.94442\n",
      "Epoch  430  - Cost:  0.17904  - Accuracy:  0.94542\n",
      "Epoch  440  - Cost:  0.17709  - Accuracy:  0.94633\n",
      "Epoch  450  - Cost:  0.1752  - Accuracy:  0.94683\n",
      "Epoch  460  - Cost:  0.17337  - Accuracy:  0.94733\n",
      "Epoch  470  - Cost:  0.17159  - Accuracy:  0.94733\n",
      "Epoch  480  - Cost:  0.16985  - Accuracy:  0.94767\n",
      "Epoch  490  - Cost:  0.16817  - Accuracy:  0.94858\n",
      "Epoch  500  - Cost:  0.16652  - Accuracy:  0.949\n",
      "Epoch  510  - Cost:  0.16492  - Accuracy:  0.94942\n",
      "Epoch  520  - Cost:  0.16335  - Accuracy:  0.94967\n",
      "Epoch  530  - Cost:  0.16183  - Accuracy:  0.94983\n",
      "Epoch  540  - Cost:  0.16033  - Accuracy:  0.95067\n",
      "Epoch  550  - Cost:  0.15887  - Accuracy:  0.95083\n",
      "Epoch  560  - Cost:  0.15745  - Accuracy:  0.95108\n",
      "Epoch  570  - Cost:  0.15605  - Accuracy:  0.95142\n",
      "Epoch  580  - Cost:  0.15469  - Accuracy:  0.95175\n",
      "Epoch  590  - Cost:  0.15335  - Accuracy:  0.95242\n",
      "Epoch  600  - Cost:  0.15204  - Accuracy:  0.953\n",
      "Epoch  610  - Cost:  0.15076  - Accuracy:  0.95317\n",
      "Epoch  620  - Cost:  0.1495  - Accuracy:  0.95342\n",
      "Epoch  630  - Cost:  0.14827  - Accuracy:  0.95408\n",
      "Epoch  640  - Cost:  0.14706  - Accuracy:  0.95417\n",
      "Epoch  650  - Cost:  0.14588  - Accuracy:  0.95475\n",
      "Epoch  660  - Cost:  0.14472  - Accuracy:  0.95492\n",
      "Epoch  670  - Cost:  0.14358  - Accuracy:  0.95517\n",
      "Epoch  680  - Cost:  0.14247  - Accuracy:  0.95542\n",
      "Epoch  690  - Cost:  0.14137  - Accuracy:  0.95558\n",
      "Epoch  700  - Cost:  0.1403  - Accuracy:  0.95575\n",
      "Epoch  710  - Cost:  0.13925  - Accuracy:  0.95592\n",
      "Epoch  720  - Cost:  0.13822  - Accuracy:  0.9565\n",
      "Epoch  730  - Cost:  0.13721  - Accuracy:  0.95717\n",
      "Epoch  740  - Cost:  0.13622  - Accuracy:  0.95733\n",
      "Epoch  750  - Cost:  0.13524  - Accuracy:  0.95775\n",
      "Epoch  760  - Cost:  0.13429  - Accuracy:  0.958\n",
      "Epoch  770  - Cost:  0.13335  - Accuracy:  0.95817\n",
      "Epoch  780  - Cost:  0.13242  - Accuracy:  0.95842\n",
      "Epoch  790  - Cost:  0.13152  - Accuracy:  0.95842\n",
      "Epoch  800  - Cost:  0.13063  - Accuracy:  0.95867\n",
      "Epoch  810  - Cost:  0.12975  - Accuracy:  0.959\n",
      "Epoch  820  - Cost:  0.12889  - Accuracy:  0.95925\n",
      "Epoch  830  - Cost:  0.12804  - Accuracy:  0.95975\n",
      "Epoch  840  - Cost:  0.12721  - Accuracy:  0.96\n",
      "Epoch  850  - Cost:  0.12639  - Accuracy:  0.96008\n",
      "Epoch  860  - Cost:  0.12558  - Accuracy:  0.96042\n",
      "Epoch  870  - Cost:  0.12478  - Accuracy:  0.96075\n",
      "Epoch  880  - Cost:  0.124  - Accuracy:  0.961\n",
      "Epoch  890  - Cost:  0.12323  - Accuracy:  0.96125\n",
      "Epoch  900  - Cost:  0.12247  - Accuracy:  0.96158\n",
      "Epoch  910  - Cost:  0.12172  - Accuracy:  0.96158\n",
      "Epoch  920  - Cost:  0.12099  - Accuracy:  0.96158\n",
      "Epoch  930  - Cost:  0.12026  - Accuracy:  0.96175\n",
      "Epoch  940  - Cost:  0.11954  - Accuracy:  0.96225\n",
      "Epoch  950  - Cost:  0.11883  - Accuracy:  0.96242\n",
      "Epoch  960  - Cost:  0.11814  - Accuracy:  0.96258\n",
      "Epoch  970  - Cost:  0.11745  - Accuracy:  0.96275\n",
      "Epoch  980  - Cost:  0.11677  - Accuracy:  0.96283\n",
      "Epoch  990  - Cost:  0.1161  - Accuracy:  0.963\n",
      "Final Accuracy is :  0.96325\n"
     ]
    }
   ],
   "source": [
    "y_hat, accuracies, cost_stored, best_val_accuracy = training_model(X_train, Y_train, 300, 300, 1000, 0.1)"
   ]
  },
  {
   "cell_type": "code",
   "execution_count": null,
   "metadata": {
    "colab": {
     "base_uri": "https://localhost:8080/"
    },
    "id": "iGskDHYSmtzV",
    "outputId": "b160eaf5-c5b3-4991-b820-5de9197d7076"
   },
   "outputs": [
    {
     "name": "stdout",
     "output_type": "stream",
     "text": [
      "Epoch with best validation accuracy:  630\n",
      "Training accuracy:  0.9540833333333333\n",
      "Validation accuracy:  0.941\n"
     ]
    }
   ],
   "source": [
    "#best epoch\n",
    "best_idx, _ = np.argmax(best_val_accuracy, axis=0)\n",
    "print('Epoch with best validation accuracy: ', best_idx)\n",
    "print('Training accuracy: ',best_val_accuracy[best_idx][1])\n",
    "print('Validation accuracy: ',best_val_accuracy[best_idx][0])"
   ]
  },
  {
   "cell_type": "code",
   "execution_count": null,
   "metadata": {
    "colab": {
     "base_uri": "https://localhost:8080/",
     "height": 295
    },
    "id": "xHhpxKz-mtn5",
    "outputId": "e8a080b4-5e6e-477b-fd49-b791350ee244"
   },
   "outputs": [
    {
     "data": {
      "image/png": "[encoded data removed]",
      "text/plain": [
       "<Figure size 432x288 with 1 Axes>"
      ]
     },
     "metadata": {
      "needs_background": "light",
      "tags": []
     },
     "output_type": "display_data"
    }
   ],
   "source": [
    "plt.plot(list(range(len(cost_stored))),cost_stored) # plot against number of epochs\n",
    "plt.title(\"Loss Plot (Training Set)\")\n",
    "plt.ylabel(\"Log-likelihood Loss\")\n",
    "plt.xlabel(\"Epoch no.\")\n",
    "plt.show()"
   ]
  },
  {
   "cell_type": "code",
   "execution_count": null,
   "metadata": {
    "colab": {
     "base_uri": "https://localhost:8080/",
     "height": 295
    },
    "id": "EpgcgBMFmtdC",
    "outputId": "7f735f58-b485-4864-8b13-e3c1c3b54bfc"
   },
   "outputs": [
    {
     "data": {
      "image/png": "[encoded data removed]",
      "text/plain": [
       "<Figure size 432x288 with 1 Axes>"
      ]
     },
     "metadata": {
      "needs_background": "light",
      "tags": []
     },
     "output_type": "display_data"
    }
   ],
   "source": [
    "plt.plot(list(range(len(accuracies))),accuracies)\n",
    "plt.title(\"Accuracy Plot (Training Set)\")\n",
    "plt.ylabel(\"Accuracy\")\n",
    "plt.xlabel(\"Epoch no.\")\n",
    "plt.show()"
   ]
  },
  {
   "cell_type": "code",
   "execution_count": null,
   "metadata": {
    "id": "irV5l_yrmtWP"
   },
   "outputs": [],
   "source": [
    "def gradient_check_n(parameters, gradients, X, Y, epsilon = 1e-7):\n",
    "   \n",
    "    # Set-up variables\n",
    "    parameters_values, _ = dictionary_to_vector(parameters)\n",
    "    grad = gradients_to_vector(gradients)\n",
    "    num_parameters = parameters_values.shape[0]\n",
    "    J_plus = np.zeros((num_parameters, 1))\n",
    "    J_minus = np.zeros((num_parameters, 1))\n",
    "    gradapprox = np.zeros((num_parameters, 1))\n",
    "    \n",
    "    # Compute gradapprox\n",
    "    for i in range(num_parameters):\n",
    "        thetaplus = np.copy(parameters_values)\n",
    "        thetaplus[i][0] =   thetaplus[i][0] +  epsilon\n",
    "        y_pred_p , _ =  forward_prop(X, vector_to_dictionary(thetaplus))\n",
    "        log_l = log_like(Y, y_pred_p)\n",
    "        J_plus[i] = 1./1 * np.sum(log_l)\n",
    "        \n",
    "        thetaminus = np.copy(parameters_values)\n",
    "        thetaminus[i][0] = thetaminus[i][0] -  epsilon\n",
    "        y_pred_m, _ = forward_prop(X, vector_to_dictionary(thetaminus))\n",
    "        log_l = log_like(Y, y_pred_m)\n",
    "        J_minus[i] = 1./1 * np.sum(log_l)\n",
    "        \n",
    "        gradapprox[i] = (J_plus[i] - J_minus[i])/(2* epsilon)\n",
    "        \n",
    "    \n",
    "\n",
    "    numerator = np.linalg.norm(gradapprox - grad)\n",
    "    denominator = np.linalg.norm(gradapprox ) + np.linalg.norm( grad)\n",
    "    difference =  numerator/denominator\n",
    "\n",
    "    if difference >= 1e-7:\n",
    "        print(\"Backward propagation doesn't work = \" + str(difference))\n",
    "    else:\n",
    "        print (\"Backward propagation works prerfectly = \" + str(difference))\n",
    "    \n",
    "    return difference"
   ]
  },
  {
   "cell_type": "code",
   "execution_count": null,
   "metadata": {
    "colab": {
     "base_uri": "https://localhost:8080/"
    },
    "id": "fSZE6CyTmtIi",
    "outputId": "9599b748-9440-489b-f666-53eb21ad779c"
   },
   "outputs": [
    {
     "name": "stdout",
     "output_type": "stream",
     "text": [
      "Backward propagation works prerfectly = 2.4478192060508723e-08\n"
     ]
    }
   ],
   "source": [
    "X1 = X_train[:,2]\n",
    "X1 = X1.reshape(784,1)\n",
    "Y1 = Y_train[:,2]\n",
    "Y1 = Y1.reshape(1,1)\n",
    "\n",
    "parameters = initial_parameters(X1.shape[0],10,10,Y1.shape[0])\n",
    "\n",
    "_, forward_pass = forward_prop(X1, parameters)\n",
    "gradients = back_prop(X1, Y1, forward_pass)\n",
    "difference = gradient_check_n(parameters, gradients, X1, Y1)"
   ]
  },
  {
   "cell_type": "code",
   "execution_count": null,
   "metadata": {
    "colab": {
     "base_uri": "https://localhost:8080/"
    },
    "id": "SUBypRvpms0l",
    "outputId": "18e9b413-cae7-4339-c0cc-5cda22d912c3"
   },
   "outputs": [
    {
     "name": "stdout",
     "output_type": "stream",
     "text": [
      "Backward propagation works prerfectly = 2.4922508808167634e-08\n"
     ]
    }
   ],
   "source": [
    "X2 = X_train[:,1]\n",
    "X2 = X2.reshape(784,1)\n",
    "Y2 = Y_train[:,1]\n",
    "Y2 = Y2.reshape(1,1)\n",
    "\n",
    "_, forward_pass = forward_prop(X2, parameters)\n",
    "gradients = back_prop(X2, Y2, forward_pass)\n",
    "difference = gradient_check_n(parameters, gradients, X2, Y2)"
   ]
  },
  {
   "cell_type": "code",
   "execution_count": null,
   "metadata": {
    "colab": {
     "base_uri": "https://localhost:8080/"
    },
    "id": "oawPPvLdnpRh",
    "outputId": "3f6d8532-3250-4546-fc8c-6b8c934c97bc"
   },
   "outputs": [
    {
     "name": "stdout",
     "output_type": "stream",
     "text": [
      "Backward propagation works prerfectly = 2.7988767565142717e-08\n"
     ]
    }
   ],
   "source": [
    "X3 = X_train[:,1000]\n",
    "X3 = X3.reshape(784,1)\n",
    "Y3 = Y_train[:,1]\n",
    "Y3 = Y3.reshape(1,1)\n",
    "\n",
    "_, forward_pass = forward_prop(X3, parameters)\n",
    "gradients = back_prop(X3, Y3, forward_pass)\n",
    "difference = gradient_check_n(parameters, gradients, X3, Y3)"
   ]
  },
  {
   "cell_type": "markdown",
   "metadata": {
    "id": "AxKqORq_EdQm"
   },
   "source": [
    "3.4 Hyperparameter tuning"
   ]
  },
  {
   "cell_type": "code",
   "execution_count": null,
   "metadata": {
    "id": "yctZG1nM0jO2"
   },
   "outputs": [],
   "source": [
    "x_train = np.load('fashion-train-imgs.npz')\n",
    "y_train = np.load('fashion-train-labels.npz')\n",
    "\n",
    "x_test = np.load('fashion-test-imgs.npz')\n",
    "y_test = np.load('fashion-test-labels.npz')\n",
    "\n",
    "x_val = np.load('fashion-dev-imgs.npz')\n",
    "y_val = np.load('fashion-dev-labels.npz')\n",
    "\n",
    "# Reshaping and checking dimensions\n",
    "\n",
    "X_train = x_train.reshape(x_train.shape[0] * x_train.shape[1], x_train.shape[2]) \n",
    "assert X_train.shape == (784,12000)\n",
    "\n",
    "Y_train = y_train.reshape(1, y_train.shape[0])\n",
    "assert Y_train.shape == (1,12000)\n",
    "\n",
    "X_test = x_test.reshape(x_test.shape[0]*x_test.shape[1],x_test.shape[2])\n",
    "assert X_test.shape == (784,1000)\n",
    "\n",
    "Y_test = y_test.reshape(1, y_test.shape[0])\n",
    "assert Y_test.shape == (1,1000)\n",
    "\n",
    "X_val = x_val.reshape(x_val.shape[0]*x_val.shape[1],x_val.shape[2])\n",
    "assert X_val.shape == (784,1000)\n",
    "\n",
    "Y_val = y_val.reshape(1, y_val.shape[0])\n",
    "assert Y_val.shape == (1,1000)"
   ]
  },
  {
   "cell_type": "code",
   "execution_count": null,
   "metadata": {
    "id": "qe0DmCr6-6qg"
   },
   "outputs": [],
   "source": [
    "# logistic sigmoid function\n",
    "\n",
    "def sigmoid(z):\n",
    "    sig = 1/(1+np.exp(-z))\n",
    "  \n",
    "    return sig\n",
    "\n",
    "# derivative of the logistic sigmoid function\n",
    "\n",
    "def sig_prime(z):\n",
    "    sig_dev = sigmoid(z) * (1-sigmoid(z))\n",
    "\n",
    "    return sig_dev\n",
    "\n",
    "# set up random weights and zero biases to initialize before optimization on training set\n",
    "\n",
    "def initial_parameters(input_size, h1, output_size):\n",
    "    \n",
    "    W2 = np.random.randn(output_size,h1)\n",
    "    W1 = np.random.randn(h1,input_size)\n",
    "    \n",
    "    b2 = np.zeros((output_size,1))\n",
    "    b1 = np.zeros((h1,1))\n",
    "    \n",
    "    parameters = (W2, b2, W1, b1)\n",
    "    return parameters\n",
    "\n",
    "\n",
    "def forward_prop(X, parameters):\n",
    "    \n",
    "    W2, b2, W1, b1 = parameters\n",
    "    # forward propagation steps to calculate output, the values of y that the model predicts (A3)\n",
    "\n",
    "    Z1 = W1@X + b1\n",
    "    A1 = sigmoid(Z1)\n",
    "    Z2 = W2@A1 + b2\n",
    "    A2 = sigmoid(Z2)\n",
    "\n",
    "    y_pred = A2\n",
    "    forward_pass = (Z2, Z1, A2, A1)\n",
    "    \n",
    "    return y_pred, forward_pass\n",
    "\n",
    "\n",
    "# define cost function that needs to be minimized, log likelihood\n",
    "\n",
    "def cost_loss(y_pred, y_true, parameters):\n",
    "    \n",
    "    m_samples = y_true.shape[1]  # total number of samples in set being tested\n",
    "    loss_func = (y_true * np.log(y_pred)) + ((1-y_true) * np.log(1 - y_pred)) # could be an issue with shape of this\n",
    "    cost_func = -(1/m_samples) * np.sum(loss_func)  # could be an issue with shape of this\n",
    "    cost = np.squeeze(cost_func) # to get right dim\n",
    "    \n",
    "    return cost\n",
    "\n",
    "# implementation of backpropagation\n",
    "\n",
    "def back_prop(parameters, forward_pass, X, Y):\n",
    "    \n",
    "    m = X.shape[1]\n",
    "    Z2, Z1, A2, A1 = forward_pass\n",
    "    W2, b2, W1, b1 = parameters\n",
    "    y_pred = A2    \n",
    "\n",
    "    dZ2 = (y_pred - Y)\n",
    "    dW2 = ((dZ2@A1.T))/m\n",
    "    db2 = (np.sum(dZ2,axis=1,keepdims=True))/m\n",
    "\n",
    "    dZ1 = ((W2.T@dZ2) * sig_prime(Z1))\n",
    "    dW1 = ((dZ1@X.T))/m\n",
    "    db1 = (np.sum(dZ1,axis=1,keepdims=True))/m\n",
    "    \n",
    "    gradients = (dW2, db2, dW1, db1)\n",
    "    \n",
    "    return gradients\n",
    "\n",
    "def gradient_descent(parameters, gradients, learning_rate):\n",
    "    \n",
    "    # information from forward and backprop\n",
    "    dW2, db2, dW1, db1 = gradients\n",
    "    W2, b2, W1, b1 = parameters\n",
    "\n",
    "    # updating weights and biases\n",
    "    W2 -= learning_rate * dW2\n",
    "    W1 -= learning_rate * dW1\n",
    "\n",
    "    b1 -= learning_rate * db1\n",
    "    b2 -= learning_rate * db2\n",
    "    \n",
    "    parameters = (W2, b2, W1, b1)\n",
    "    \n",
    "    return parameters\n",
    "\n",
    "def accuracy(y_true, y_pred):\n",
    "    sim = 0\n",
    "#     y_pred = y_pred.reshape(1,len(y_pred))\n",
    "#     y_true = y_true.reshape(1,len(y_pred))\n",
    "    for k in range(y_true.shape[1]):\n",
    "        if y_true[0][k] == y_pred[0][k]:\n",
    "            sim += 1\n",
    "\n",
    "    return (sim/y_true.shape[1])\n",
    "\n",
    "def threshold_func(y_pred):\n",
    "    y_pred_mapped = []\n",
    "    for l in range(y_pred.shape[1]):\n",
    "        if y_pred[0][l] >= 0.5:\n",
    "            y_pred_mapped.append(1)\n",
    "        else:\n",
    "            y_pred_mapped.append(0)\n",
    "    y_pred_mapped = np.array(y_pred_mapped).reshape(1, len(y_pred_mapped))\n",
    "    return y_pred_mapped\n",
    "\n",
    "\n",
    "def gradient_descent_momentum(parameters, gradients, learning_rate, momentum, velocity):\n",
    "    \n",
    "    # information from forward and backprop\n",
    "    W2, b2, W1, b1 = parameters\n",
    "    vdw1, vdb1, vdw2, vdb2 = velocity\n",
    "    dW2, db2, dW1, db1 = gradients\n",
    "    \n",
    "    \n",
    "    # updating weights and biases\n",
    "\n",
    "    vdw1 = momentum * vdw1 - learning_rate * dW1\n",
    "    vdw2 = momentum * vdw2 - learning_rate * dW2\n",
    "    vdb1 = momentum * vdb1 - learning_rate * db1\n",
    "    vdb2 = momentum * vdb2 - learning_rate * db2\n",
    "    \n",
    "    W1 += vdw1\n",
    "    W2 += vdw2\n",
    "    b1 += vdb1\n",
    "    b2 += vdb2\n",
    "\n",
    "    parameters = (W2, b2, W1, b1)\n",
    "    velocity = (vdw1, vdb1, vdw2, vdb2)\n",
    "    return parameters, velocity\n",
    "    \n",
    "    \n",
    "def initial_parameters_mom(input_size, h1, output_size):\n",
    "    \n",
    "    \n",
    "    W2 = np.random.randn(output_size,h1)\n",
    "    W1 = np.random.randn(h1,input_size)\n",
    "    \n",
    "    b2 = np.zeros((output_size,1))\n",
    "    b1 = np.zeros((h1,1))\n",
    "    \n",
    "    parameters = (W2, b2, W1, b1)\n",
    "    \n",
    "    vdw1 = np.zeros((h1,input_size))\n",
    "    vdw2 = np.zeros((output_size,h1))\n",
    "    vdb1 = np.zeros((h1,1))\n",
    "    vdb2 = np.zeros((output_size,1))\n",
    "#     print(vdw1.shape, vdw2.shape, vdb1.shape, vdb2.shape)\n",
    "    \n",
    "    velocity = (vdw1, vdb1, vdw2, vdb2)\n",
    "    \n",
    "    return parameters, velocity"
   ]
  },
  {
   "cell_type": "markdown",
   "metadata": {
    "id": "MlW4roDF_EaZ"
   },
   "source": [
    "Full-batch Gradient Descent without momentum"
   ]
  },
  {
   "cell_type": "code",
   "execution_count": null,
   "metadata": {
    "id": "XjdxdCj--6gQ"
   },
   "outputs": [],
   "source": [
    "# main function for training the model\n",
    "def full_batch(X, Y, h1, epochs,learning_rate):\n",
    "    m = X.shape[1]\n",
    "    accuracies = np.zeros((epochs,2))\n",
    "    losses = np.zeros((epochs,2))\n",
    "    \n",
    "    # initialization of weights, biases\n",
    "    parameters = initial_parameters(X.shape[0], h1, Y.shape[0])\n",
    "    \n",
    "    for i in range(epochs):\n",
    "        \n",
    "        # forward propogation\n",
    "        y_pred, forward_pass = forward_prop(X, parameters)\n",
    "    \n",
    "        # calculating loss using log likelihood loss function\n",
    "        cost = cost_loss(y_pred, Y, parameters)\n",
    "        \n",
    "        #training loss per epoch\n",
    "        losses[i][1] = cost\n",
    "               \n",
    "        # training accuracy per epoch\n",
    "#         accuracies.append(accuracy(Y, threshold_func(y_pred)))\n",
    "        accuracies[i][1] = accuracy(Y, threshold_func(y_pred)) # 1 for training\n",
    "\n",
    "        # back propogation\n",
    "        gradients = back_prop(parameters, forward_pass, X, Y)     \n",
    "        \n",
    "        # gradient descent\n",
    "        parameters = gradient_descent(parameters, gradients, learning_rate)\n",
    "        \n",
    "        # validation loss & accuracy per epoch\n",
    "        y_pred_val, forward_pass = forward_prop(X_val, parameters)\n",
    "        losses[i][0] = cost_loss(y_pred_val, Y_val, parameters)\n",
    "        y_pred_mapped_val = threshold_func(y_pred_val)\n",
    "        accuracies[i][0] = accuracy(Y_val, y_pred_mapped_val) # 0 for validation\n",
    "        \n",
    "        \n",
    "        if i % 10 == 0:\n",
    "            print('Epoch ',i,'==> Training loss: ', round(losses[i][1],4), '- Train accuracy: ', round(accuracies[i][1],4) , '- Validation loss: ', round(losses[i][0],4), '- Validation accuracy: ', round(accuracies[i][0],4))\n",
    "            \n",
    "            \n",
    "    # final accuracy\n",
    "    y_hat = threshold_func(y_pred)\n",
    "    print('Final Accuracy is : ', accuracy(Y,y_hat))\n",
    "    \n",
    "    return y_hat, losses , accuracies, parameters"
   ]
  },
  {
   "cell_type": "code",
   "execution_count": null,
   "metadata": {
    "colab": {
     "base_uri": "https://localhost:8080/"
    },
    "id": "c9iCXnRG-6R4",
    "outputId": "df18025d-d381-49a1-c9e3-663a3f4e141d"
   },
   "outputs": [
    {
     "name": "stdout",
     "output_type": "stream",
     "text": [
      "Epoch  0 ==> Training loss:  8.9053 - Train accuracy:  0.5002 - Validation loss:  4.7079 - Validation accuracy:  0.488\n",
      "Epoch  10 ==> Training loss:  1.1379 - Train accuracy:  0.6963 - Validation loss:  0.9664 - Validation accuracy:  0.718\n",
      "Epoch  20 ==> Training loss:  0.8179 - Train accuracy:  0.7758 - Validation loss:  0.6925 - Validation accuracy:  0.783\n",
      "Epoch  30 ==> Training loss:  0.6756 - Train accuracy:  0.8142 - Validation loss:  0.5682 - Validation accuracy:  0.821\n",
      "Epoch  40 ==> Training loss:  0.5894 - Train accuracy:  0.8365 - Validation loss:  0.4932 - Validation accuracy:  0.85\n",
      "Epoch  50 ==> Training loss:  0.5295 - Train accuracy:  0.8522 - Validation loss:  0.4418 - Validation accuracy:  0.868\n",
      "Epoch  60 ==> Training loss:  0.4851 - Train accuracy:  0.8631 - Validation loss:  0.4042 - Validation accuracy:  0.874\n",
      "Epoch  70 ==> Training loss:  0.4507 - Train accuracy:  0.8734 - Validation loss:  0.3752 - Validation accuracy:  0.885\n",
      "Epoch  80 ==> Training loss:  0.4231 - Train accuracy:  0.8828 - Validation loss:  0.3521 - Validation accuracy:  0.895\n",
      "Epoch  90 ==> Training loss:  0.4003 - Train accuracy:  0.8888 - Validation loss:  0.3333 - Validation accuracy:  0.904\n",
      "Epoch  100 ==> Training loss:  0.3813 - Train accuracy:  0.8928 - Validation loss:  0.3175 - Validation accuracy:  0.907\n",
      "Epoch  110 ==> Training loss:  0.365 - Train accuracy:  0.897 - Validation loss:  0.3041 - Validation accuracy:  0.909\n",
      "Epoch  120 ==> Training loss:  0.3509 - Train accuracy:  0.9008 - Validation loss:  0.2926 - Validation accuracy:  0.912\n",
      "Epoch  130 ==> Training loss:  0.3386 - Train accuracy:  0.9049 - Validation loss:  0.2826 - Validation accuracy:  0.915\n",
      "Epoch  140 ==> Training loss:  0.3277 - Train accuracy:  0.9077 - Validation loss:  0.2739 - Validation accuracy:  0.922\n",
      "Epoch  150 ==> Training loss:  0.318 - Train accuracy:  0.9112 - Validation loss:  0.2662 - Validation accuracy:  0.922\n",
      "Epoch  160 ==> Training loss:  0.3092 - Train accuracy:  0.9137 - Validation loss:  0.2593 - Validation accuracy:  0.923\n",
      "Epoch  170 ==> Training loss:  0.3013 - Train accuracy:  0.9157 - Validation loss:  0.2531 - Validation accuracy:  0.926\n",
      "Epoch  180 ==> Training loss:  0.2941 - Train accuracy:  0.9177 - Validation loss:  0.2475 - Validation accuracy:  0.926\n",
      "Epoch  190 ==> Training loss:  0.2875 - Train accuracy:  0.9197 - Validation loss:  0.2425 - Validation accuracy:  0.929\n",
      "Final Accuracy is :  0.9205\n"
     ]
    }
   ],
   "source": [
    "y_hat, fb_losses , fb_accuracies, _ = full_batch(X_train, Y_train, 300, 200, 0.1)"
   ]
  },
  {
   "cell_type": "code",
   "execution_count": null,
   "metadata": {
    "colab": {
     "base_uri": "https://localhost:8080/"
    },
    "id": "XOW3pLCF-6Iu",
    "outputId": "89ee571a-961e-4356-c418-3375d008f55d"
   },
   "outputs": [
    {
     "name": "stdout",
     "output_type": "stream",
     "text": [
      "Epoch with max validation accuracy:  194\n",
      "Validation accuracy at epoch 194  = 0.932\n",
      "Training accuracy at epoch 194  = 0.9203333333333333\n"
     ]
    }
   ],
   "source": [
    "best_epoch = np.argmax(fb_accuracies[:,0],axis=0)\n",
    "print('Epoch with max validation accuracy: ', best_epoch)\n",
    "print('Validation accuracy at epoch', best_epoch,' =', fb_accuracies[best_epoch][0])\n",
    "print('Training accuracy at epoch', best_epoch,' =', fb_accuracies[best_epoch][1])"
   ]
  },
  {
   "cell_type": "code",
   "execution_count": null,
   "metadata": {
    "colab": {
     "base_uri": "https://localhost:8080/",
     "height": 295
    },
    "id": "p8_ZqMvp-5_Y",
    "outputId": "c40536d3-ab6d-479d-bf9d-d53eb3e49699"
   },
   "outputs": [
    {
     "data": {
      "image/png": "[encoded data removed]",
      "text/plain": [
       "<Figure size 432x288 with 1 Axes>"
      ]
     },
     "metadata": {
      "needs_background": "light",
      "tags": []
     },
     "output_type": "display_data"
    }
   ],
   "source": [
    "train_accuracies = fb_accuracies[:,1]\n",
    "plt.plot(list(range(len(train_accuracies))),train_accuracies, label='Train')\n",
    "val_accuracies = fb_accuracies[:,0]\n",
    "plt.plot(list(range(len(val_accuracies))),val_accuracies, label = 'Validation')\n",
    "plt.title(\"Train& Validation Accuracy Plot\")\n",
    "plt.ylabel(\"Accuracy\")\n",
    "plt.xlabel(\"Epoch no.\")\n",
    "plt.legend()\n",
    "plt.show()"
   ]
  },
  {
   "cell_type": "code",
   "execution_count": null,
   "metadata": {
    "colab": {
     "base_uri": "https://localhost:8080/",
     "height": 295
    },
    "id": "R8nUVwB3-55z",
    "outputId": "8942d2a7-d4a0-4355-9eec-d179469d59d4"
   },
   "outputs": [
    {
     "data": {
      "image/png": "[encoded data removed]",
      "text/plain": [
       "<Figure size 432x288 with 1 Axes>"
      ]
     },
     "metadata": {
      "needs_background": "light",
      "tags": []
     },
     "output_type": "display_data"
    }
   ],
   "source": [
    "train_losses = fb_losses[:,1]\n",
    "plt.plot(list(range(len(train_losses))),train_losses, label='Train')\n",
    "val_losses = fb_losses[:,0]\n",
    "plt.plot(list(range(len(val_losses))),val_losses, label = 'Validation')\n",
    "plt.title(\"Train & Validation Loss Plot\")\n",
    "plt.ylabel(\"Loss\")\n",
    "plt.xlabel(\"Epoch no.\")\n",
    "plt.legend()\n",
    "plt.show()"
   ]
  },
  {
   "cell_type": "markdown",
   "metadata": {
    "id": "0kOzSo2a_R0g"
   },
   "source": [
    "Full-batch Gradient Descent with momentum"
   ]
  },
  {
   "cell_type": "code",
   "execution_count": null,
   "metadata": {
    "id": "GO9i-_VR-5wh"
   },
   "outputs": [],
   "source": [
    "\n",
    "# main function for training the model\n",
    "def full_batch_momentum(X, Y, h1, epochs, learning_rate, momentum):\n",
    "    \n",
    "    m = X.shape[1]\n",
    "    accuracies = np.zeros((epochs,2))\n",
    "    losses = np.zeros((epochs,2))\n",
    "    \n",
    "    # initialization of weights, biases\n",
    "    parameters, velocity = initial_parameters_mom(X.shape[0], h1, Y.shape[0])\n",
    "\n",
    "    for i in range(epochs):\n",
    "        # forward propogation\n",
    "        y_pred, forward_pass = forward_prop(X, parameters)\n",
    "    \n",
    "        # calculating loss using log likelihood loss function\n",
    "        cost = cost_loss(y_pred, Y, parameters)\n",
    "        losses[i][1] = cost\n",
    "        \n",
    "               \n",
    "        # training accuracy per epoch\n",
    "        accuracies[i][1] = accuracy(Y, threshold_func(y_pred)) # 1 for training accuracy\n",
    "\n",
    "        # back propogation\n",
    "        gradients = back_prop(parameters, forward_pass, X, Y)     \n",
    "        \n",
    "        # gradient descent\n",
    "        parameters, velocity = gradient_descent_momentum(parameters, gradients, learning_rate, momentum, velocity)\n",
    "        \n",
    "        # validation accuracy per epoch\n",
    "        y_pred_val, forward_pass = forward_prop(X_val, parameters)\n",
    "        losses[i][0] = cost_loss(y_pred_val, Y_val, parameters)\n",
    "        y_pred_mapped_val = threshold_func(y_pred_val)\n",
    "        accuracies[i][0] = accuracy(Y_val, y_pred_mapped_val) # 0 for validation accuracy\n",
    "        \n",
    "        if i % 10 == 0:\n",
    "            print('Epoch ',i,'==> Training loss: ', round(losses[i][1],4), '- Train accuracy: ', round(accuracies[i][1],4) , '- Validation loss: ', round(losses[i][0],4), '- Validation accuracy: ', round(accuracies[i][0],4))\n",
    "            \n",
    "            \n",
    "    # final accuracy\n",
    "    y_hat = threshold_func(y_pred)\n",
    "    print('Final Accuracy is : ', accuracy(Y,y_hat))\n",
    "    \n",
    "    return y_hat, losses , accuracies, parameters"
   ]
  },
  {
   "cell_type": "code",
   "execution_count": null,
   "metadata": {
    "colab": {
     "base_uri": "https://localhost:8080/"
    },
    "id": "UolkeqvQ-5jY",
    "outputId": "e231f13b-b5ed-44ca-cd50-f32b908f61ce"
   },
   "outputs": [
    {
     "name": "stdout",
     "output_type": "stream",
     "text": [
      "Epoch  0 ==> Training loss:  3.3131 - Train accuracy:  0.3836 - Validation loss:  2.9742 - Validation accuracy:  0.37\n",
      "Epoch  10 ==> Training loss:  0.6299 - Train accuracy:  0.8428 - Validation loss:  0.5385 - Validation accuracy:  0.856\n",
      "Epoch  20 ==> Training loss:  0.3184 - Train accuracy:  0.924 - Validation loss:  0.2712 - Validation accuracy:  0.93\n",
      "Epoch  30 ==> Training loss:  0.257 - Train accuracy:  0.9405 - Validation loss:  0.221 - Validation accuracy:  0.947\n",
      "Epoch  40 ==> Training loss:  0.2305 - Train accuracy:  0.9446 - Validation loss:  0.2019 - Validation accuracy:  0.95\n",
      "Epoch  50 ==> Training loss:  0.2096 - Train accuracy:  0.9468 - Validation loss:  0.1837 - Validation accuracy:  0.954\n",
      "Epoch  60 ==> Training loss:  0.1931 - Train accuracy:  0.9498 - Validation loss:  0.1683 - Validation accuracy:  0.958\n",
      "Epoch  70 ==> Training loss:  0.1798 - Train accuracy:  0.9524 - Validation loss:  0.1576 - Validation accuracy:  0.96\n",
      "Epoch  80 ==> Training loss:  0.1687 - Train accuracy:  0.9548 - Validation loss:  0.1497 - Validation accuracy:  0.959\n",
      "Epoch  90 ==> Training loss:  0.1596 - Train accuracy:  0.9562 - Validation loss:  0.1435 - Validation accuracy:  0.96\n",
      "Epoch  100 ==> Training loss:  0.1519 - Train accuracy:  0.9581 - Validation loss:  0.1384 - Validation accuracy:  0.959\n",
      "Epoch  110 ==> Training loss:  0.1452 - Train accuracy:  0.9586 - Validation loss:  0.1341 - Validation accuracy:  0.958\n",
      "Epoch  120 ==> Training loss:  0.1393 - Train accuracy:  0.9595 - Validation loss:  0.1304 - Validation accuracy:  0.958\n",
      "Epoch  130 ==> Training loss:  0.134 - Train accuracy:  0.9603 - Validation loss:  0.1273 - Validation accuracy:  0.959\n",
      "Epoch  140 ==> Training loss:  0.1293 - Train accuracy:  0.9613 - Validation loss:  0.1247 - Validation accuracy:  0.96\n",
      "Epoch  150 ==> Training loss:  0.125 - Train accuracy:  0.963 - Validation loss:  0.1224 - Validation accuracy:  0.961\n",
      "Epoch  160 ==> Training loss:  0.121 - Train accuracy:  0.9642 - Validation loss:  0.1205 - Validation accuracy:  0.96\n",
      "Epoch  170 ==> Training loss:  0.1173 - Train accuracy:  0.9652 - Validation loss:  0.1188 - Validation accuracy:  0.96\n",
      "Epoch  180 ==> Training loss:  0.1139 - Train accuracy:  0.9659 - Validation loss:  0.1172 - Validation accuracy:  0.961\n",
      "Epoch  190 ==> Training loss:  0.1107 - Train accuracy:  0.966 - Validation loss:  0.1158 - Validation accuracy:  0.961\n",
      "Final Accuracy is :  0.9664166666666667\n"
     ]
    }
   ],
   "source": [
    "y_hat, fbm_losses , fbm_accuracies, _ = full_batch_momentum(X_train, Y_train, 300, 200, 0.1, 0.9)"
   ]
  },
  {
   "cell_type": "code",
   "execution_count": null,
   "metadata": {
    "colab": {
     "base_uri": "https://localhost:8080/"
    },
    "id": "fN6PY56b-5V7",
    "outputId": "824de6fe-f3fa-4dac-d0ae-ac814ef2ea98"
   },
   "outputs": [
    {
     "name": "stdout",
     "output_type": "stream",
     "text": [
      "Epoch with max validation accuracy:  67\n",
      "Validation accuracy at epoch 67  = 0.962\n",
      "Training accuracy at epoch 67  = 0.95225\n"
     ]
    }
   ],
   "source": [
    "best_epoch = np.argmax(fbm_accuracies[:,0],axis=0)\n",
    "print('Epoch with max validation accuracy: ', best_epoch)\n",
    "print('Validation accuracy at epoch', best_epoch,' =', fbm_accuracies[best_epoch][0])\n",
    "print('Training accuracy at epoch', best_epoch,' =', fbm_accuracies[best_epoch][1])"
   ]
  },
  {
   "cell_type": "code",
   "execution_count": null,
   "metadata": {
    "colab": {
     "base_uri": "https://localhost:8080/",
     "height": 295
    },
    "id": "Vvt_1F7V-5P0",
    "outputId": "3af53fb0-39e9-46fd-e092-71f8039e18bb"
   },
   "outputs": [
    {
     "data": {
      "image/png": "[encoded data removed]",
      "text/plain": [
       "<Figure size 432x288 with 1 Axes>"
      ]
     },
     "metadata": {
      "needs_background": "light",
      "tags": []
     },
     "output_type": "display_data"
    }
   ],
   "source": [
    "train_accuracies = fbm_accuracies[:,1]\n",
    "plt.plot(list(range(len(train_accuracies))),train_accuracies, label='Train')\n",
    "val_accuracies = fbm_accuracies[:,0]\n",
    "plt.plot(list(range(len(val_accuracies))),val_accuracies, label = 'Validation')\n",
    "plt.title(\"Train& Validation Accuracy Plot\")\n",
    "plt.ylabel(\"Accuracy\")\n",
    "plt.xlabel(\"Epoch no.\")\n",
    "plt.legend()\n",
    "plt.show()"
   ]
  },
  {
   "cell_type": "code",
   "execution_count": null,
   "metadata": {
    "colab": {
     "base_uri": "https://localhost:8080/",
     "height": 295
    },
    "id": "F15MNk8l-5JX",
    "outputId": "05fdcafa-7afe-416a-8866-5f1b20706629"
   },
   "outputs": [
    {
     "data": {
      "image/png": "[encoded data removed]",
      "text/plain": [
       "<Figure size 432x288 with 1 Axes>"
      ]
     },
     "metadata": {
      "needs_background": "light",
      "tags": []
     },
     "output_type": "display_data"
    }
   ],
   "source": [
    "train_losses = fbm_losses[:,1]\n",
    "plt.plot(list(range(len(train_losses))),train_losses, label='Train')\n",
    "val_losses = fbm_losses[:,0]\n",
    "plt.plot(list(range(len(val_losses))),val_losses, label = 'Validation')\n",
    "plt.title(\"Train & Validation Loss Plot\")\n",
    "plt.ylabel(\"Loss\")\n",
    "plt.xlabel(\"Epoch no.\")\n",
    "plt.legend()\n",
    "plt.show()"
   ]
  },
  {
   "cell_type": "markdown",
   "metadata": {
    "id": "cOpJOrWe_lg6"
   },
   "source": [
    "Stochastic Gradient Descent without momentum"
   ]
  },
  {
   "cell_type": "code",
   "execution_count": null,
   "metadata": {
    "id": "yvEcbqRG-4-c"
   },
   "outputs": [],
   "source": [
    "def sgd(X, Y, h1, epochs, learning_rate):\n",
    "    m = X.shape[1]\n",
    "    accuracies = np.zeros((epochs,2))\n",
    "    losses = np.zeros((epochs,2))\n",
    "    parameters = initial_parameters(X.shape[0], h1, Y.shape[0])\n",
    "    indexes = np.array([i for i in range(12000)])\n",
    "    \n",
    "    for i in range(epochs):\n",
    "        np.random.shuffle(indexes)\n",
    "        X_epoch = X_train[:, indexes]\n",
    "        Y_epoch = Y_train[:, indexes]\n",
    "        \n",
    "        loss = 0\n",
    "        acc = 0\n",
    "        for k in range(X.shape[1]):\n",
    "            X1 = X_epoch[:,k].reshape(784,1)\n",
    "            Y1 = Y_epoch[:,k].reshape(1,1)\n",
    "            \n",
    "            y_pred, forward_pass = forward_prop(X1, parameters)\n",
    "            \n",
    "            loss += (1/m) * cost_loss(y_pred, Y1, parameters)\n",
    "            \n",
    "            acc += (1/m) * accuracy(threshold_func(y_pred), Y1) \n",
    "            \n",
    "            gradients = back_prop(parameters, forward_pass, X1, Y1)\n",
    "            parameters = gradient_descent(parameters, gradients, learning_rate)\n",
    "            \n",
    "        losses[i][1] = loss\n",
    "        accuracies[i][1] = acc\n",
    "        \n",
    "        # validation accuracy per epoch\n",
    "        y_pred_val, forward_pass = forward_prop(X_val, parameters)\n",
    "        losses[i][0] = cost_loss(y_pred_val, Y_val, parameters)\n",
    "        y_pred_mapped_val = threshold_func(y_pred_val)\n",
    "        accuracies[i][0] = accuracy(Y_val, y_pred_mapped_val) # 0 for validation accuracy\n",
    "        \n",
    "        \n",
    "        if i % 10 == 0:\n",
    "            print('Epoch ',i,'==> Training loss: ', round(losses[i][1],4), '- Train accuracy: ', round(accuracies[i][1],4) , '- Validation loss: ', round(losses[i][0],4), '- Validation accuracy: ', round(accuracies[i][0],4))\n",
    "        \n",
    "    return losses, accuracies, parameters"
   ]
  },
  {
   "cell_type": "code",
   "execution_count": null,
   "metadata": {
    "colab": {
     "base_uri": "https://localhost:8080/"
    },
    "id": "HJmcSH52-40r",
    "outputId": "1df01564-4fc9-4302-d428-b7bbfa2288f1"
   },
   "outputs": [
    {
     "name": "stdout",
     "output_type": "stream",
     "text": [
      "Epoch  0 ==> Training loss:  0.563 - Train accuracy:  0.7767 - Validation loss:  0.3419 - Validation accuracy:  0.86\n",
      "Epoch  10 ==> Training loss:  0.1504 - Train accuracy:  0.95 - Validation loss:  0.1288 - Validation accuracy:  0.953\n",
      "Epoch  20 ==> Training loss:  0.1217 - Train accuracy:  0.9604 - Validation loss:  0.1061 - Validation accuracy:  0.963\n",
      "Epoch  30 ==> Training loss:  0.1073 - Train accuracy:  0.9656 - Validation loss:  0.0951 - Validation accuracy:  0.968\n",
      "Epoch  40 ==> Training loss:  0.0975 - Train accuracy:  0.9693 - Validation loss:  0.088 - Validation accuracy:  0.971\n"
     ]
    }
   ],
   "source": [
    "sgd_losses, sgd_accuracies, _ = sgd(X_train, Y_train, 100, 50, 0.001)"
   ]
  },
  {
   "cell_type": "code",
   "execution_count": null,
   "metadata": {
    "colab": {
     "base_uri": "https://localhost:8080/"
    },
    "id": "FbEqfHqV-4mE",
    "outputId": "610a0b3f-9210-4982-d4fe-46e53e6556d4"
   },
   "outputs": [
    {
     "name": "stdout",
     "output_type": "stream",
     "text": [
      "Epoch with max validation accuracy:  46\n",
      "Validation accuracy at epoch 46  = 0.974\n",
      "Training accuracy at epoch 46  = 0.9709166666665764\n"
     ]
    }
   ],
   "source": [
    "best_epoch = np.argmax(sgd_accuracies[:,0],axis = 0)\n",
    "print('Epoch with max validation accuracy: ', best_epoch)\n",
    "print('Validation accuracy at epoch', best_epoch,' =', sgd_accuracies[best_epoch][0])\n",
    "print('Training accuracy at epoch', best_epoch,' =', sgd_accuracies[best_epoch][1])"
   ]
  },
  {
   "cell_type": "code",
   "execution_count": null,
   "metadata": {
    "colab": {
     "base_uri": "https://localhost:8080/",
     "height": 295
    },
    "id": "bvcppP9w-4gh",
    "outputId": "42a6b063-8bb0-4cc1-cf89-03511582d9f4"
   },
   "outputs": [
    {
     "data": {
      "image/png": "[encoded data removed]",
      "text/plain": [
       "<Figure size 432x288 with 1 Axes>"
      ]
     },
     "metadata": {
      "needs_background": "light",
      "tags": []
     },
     "output_type": "display_data"
    }
   ],
   "source": [
    "train_accuracies = sgd_accuracies[:,1]\n",
    "plt.plot(list(range(len(train_accuracies))),train_accuracies, label='Train')\n",
    "val_accuracies = sgd_accuracies[:,0]\n",
    "plt.plot(list(range(len(val_accuracies))),val_accuracies, label = 'Validation')\n",
    "plt.title(\"Train& Validation Accuracy Plot\")\n",
    "plt.ylabel(\"Accuracy\")\n",
    "plt.xlabel(\"Epoch no.\")\n",
    "plt.legend()\n",
    "plt.show()"
   ]
  },
  {
   "cell_type": "code",
   "execution_count": null,
   "metadata": {
    "colab": {
     "base_uri": "https://localhost:8080/",
     "height": 295
    },
    "id": "76V69e3y-4Xv",
    "outputId": "2c555892-db61-4bd9-fece-3a20e8da843a"
   },
   "outputs": [
    {
     "data": {
      "image/png": "[encoded data removed]",
      "text/plain": [
       "<Figure size 432x288 with 1 Axes>"
      ]
     },
     "metadata": {
      "needs_background": "light",
      "tags": []
     },
     "output_type": "display_data"
    }
   ],
   "source": [
    "train_losses = sgd_losses[:,1]\n",
    "plt.plot(list(range(len(train_losses))),train_losses, label='Train')\n",
    "val_losses = sgd_losses[:,0]\n",
    "plt.plot(list(range(len(val_losses))),val_losses, label = 'Validation')\n",
    "plt.title(\"Train & Validation Loss Plot\")\n",
    "plt.ylabel(\"Loss\")\n",
    "plt.xlabel(\"Epoch no.\")\n",
    "plt.legend()\n",
    "plt.show()"
   ]
  },
  {
   "cell_type": "markdown",
   "metadata": {
    "id": "vQg1O6mTAPlP"
   },
   "source": [
    "Stochastic Gradient Descent with momentum"
   ]
  },
  {
   "cell_type": "code",
   "execution_count": null,
   "metadata": {
    "id": "rdpIq1M4AHw_"
   },
   "outputs": [],
   "source": [
    "# SGD with momentum\n",
    "def sgd_momentum(X, Y, h1, epochs, learning_rate,momentum):\n",
    "    m = X.shape[1]\n",
    "    parameters, velocity = initial_parameters_mom(X.shape[0], h1, Y.shape[0])\n",
    "    accuracies = np.zeros((epochs,2))\n",
    "    losses = np.zeros((epochs,2))\n",
    "    indexes = np.array([i for i in range(12000)])\n",
    "    \n",
    "    for i in range(epochs):\n",
    "        np.random.shuffle(indexes)\n",
    "        X_epoch = X_train[:, indexes]\n",
    "        Y_epoch = Y_train[:, indexes]\n",
    "        \n",
    "        loss = 0\n",
    "        acc = 0\n",
    "        for k in range(X.shape[1]):\n",
    "            X1 = X_epoch[:,k].reshape(784,1)\n",
    "            Y1 = Y_epoch[:,k].reshape(1,1)\n",
    "            \n",
    "            y_pred, forward_pass = forward_prop(X1, parameters)\n",
    "            \n",
    "            loss += (1/m) * cost_loss(y_pred, Y1, parameters)\n",
    "            \n",
    "            acc += (1/m) * accuracy(threshold_func(y_pred), Y1) \n",
    "            \n",
    "            gradients = back_prop(parameters, forward_pass, X1, Y1)\n",
    "            parameters, velocity = gradient_descent_momentum(parameters, gradients, learning_rate, momentum, velocity)\n",
    "            \n",
    "        losses[i][1] = loss\n",
    "        accuracies[i][1] = acc\n",
    "        \n",
    "        # validation accuracy per epoch\n",
    "        y_pred_val, forward_pass = forward_prop(X_val, parameters)\n",
    "        losses[i][0] = cost_loss(y_pred_val, Y_val, parameters)\n",
    "        y_pred_mapped_val = threshold_func(y_pred_val)\n",
    "        accuracies[i][0] = accuracy(Y_val, y_pred_mapped_val) # 0 for validation accuracy\n",
    "        \n",
    "        if i % 10 == 0:\n",
    "            print('Epoch ',i,'==> Training loss: ', round(losses[i][1],4), '- Train accuracy: ', round(accuracies[i][1],4) , '- Validation loss: ', round(losses[i][0],4), '- Validation accuracy: ', round(accuracies[i][0],4))\n",
    "        \n",
    "    return losses, accuracies, parameters"
   ]
  },
  {
   "cell_type": "code",
   "execution_count": null,
   "metadata": {
    "colab": {
     "base_uri": "https://localhost:8080/"
    },
    "id": "JuJpoPz1-4R5",
    "outputId": "d497086c-2b47-457b-b1aa-d7f0e26f8b6b"
   },
   "outputs": [
    {
     "name": "stdout",
     "output_type": "stream",
     "text": [
      "Epoch  0 ==> Training loss:  0.324 - Train accuracy:  0.8809 - Validation loss:  0.1959 - Validation accuracy:  0.933\n",
      "Epoch  10 ==> Training loss:  0.105 - Train accuracy:  0.9657 - Validation loss:  0.1057 - Validation accuracy:  0.962\n",
      "Epoch  20 ==> Training loss:  0.0826 - Train accuracy:  0.9721 - Validation loss:  0.0907 - Validation accuracy:  0.969\n",
      "Epoch  30 ==> Training loss:  0.0688 - Train accuracy:  0.9778 - Validation loss:  0.0844 - Validation accuracy:  0.969\n",
      "Epoch  40 ==> Training loss:  0.0581 - Train accuracy:  0.9813 - Validation loss:  0.0816 - Validation accuracy:  0.971\n"
     ]
    }
   ],
   "source": [
    "sgdm_losses, sgdm_accuracies, _ = sgd_momentum(X_train, Y_train, 100, 50, 0.001, 0.7)"
   ]
  },
  {
   "cell_type": "code",
   "execution_count": null,
   "metadata": {
    "colab": {
     "base_uri": "https://localhost:8080/"
    },
    "id": "Lr98oDbz-4GS",
    "outputId": "10dd27e2-ed43-4700-ecd2-c4cab3d98cf5"
   },
   "outputs": [
    {
     "name": "stdout",
     "output_type": "stream",
     "text": [
      "Epoch with max validation accuracy:  45\n",
      "Validation accuracy at epoch 45  = 0.973\n",
      "Training accuracy at epoch 45  = 0.9824999999999084\n"
     ]
    }
   ],
   "source": [
    "best_epoch = np.argmax(sgdm_accuracies[:,0],axis=0)\n",
    "print('Epoch with max validation accuracy: ', best_epoch)\n",
    "print('Validation accuracy at epoch', best_epoch,' =', sgdm_accuracies[best_epoch][0])\n",
    "print('Training accuracy at epoch', best_epoch,' =', sgdm_accuracies[best_epoch][1])"
   ]
  },
  {
   "cell_type": "code",
   "execution_count": null,
   "metadata": {
    "colab": {
     "base_uri": "https://localhost:8080/",
     "height": 295
    },
    "id": "Q01FfwRA-39p",
    "outputId": "9e13eb2c-c082-469d-9b5f-10f66c627198"
   },
   "outputs": [
    {
     "data": {
      "image/png": "[encoded data removed]",
      "text/plain": [
       "<Figure size 432x288 with 1 Axes>"
      ]
     },
     "metadata": {
      "needs_background": "light",
      "tags": []
     },
     "output_type": "display_data"
    }
   ],
   "source": [
    "train_accuracies = sgdm_accuracies[:,1]\n",
    "plt.plot(list(range(len(train_accuracies))),train_accuracies, label='Train')\n",
    "val_accuracies = sgdm_accuracies[:,0]\n",
    "plt.plot(list(range(len(val_accuracies))),val_accuracies, label = 'Validation')\n",
    "plt.title(\"Train& Validation Accuracy Plot\")\n",
    "plt.ylabel(\"Accuracy\")\n",
    "plt.xlabel(\"Epoch no.\")\n",
    "plt.legend()\n",
    "plt.show()"
   ]
  },
  {
   "cell_type": "code",
   "execution_count": null,
   "metadata": {
    "colab": {
     "base_uri": "https://localhost:8080/",
     "height": 295
    },
    "id": "4e3ZA5Rs-3vm",
    "outputId": "e2e713bb-8240-4a9d-e20d-5d75b46b7d58"
   },
   "outputs": [
    {
     "data": {
      "image/png": "[encoded data removed]",
      "text/plain": [
       "<Figure size 432x288 with 1 Axes>"
      ]
     },
     "metadata": {
      "needs_background": "light",
      "tags": []
     },
     "output_type": "display_data"
    }
   ],
   "source": [
    "train_losses = sgdm_losses[:,1]\n",
    "plt.plot(list(range(len(train_losses))),train_losses, label='Train')\n",
    "val_losses = sgdm_losses[:,0]\n",
    "plt.plot(list(range(len(val_losses))),val_losses, label = 'Validation')\n",
    "plt.title(\"Train & Validation Loss Plot\")\n",
    "plt.ylabel(\"Loss\")\n",
    "plt.xlabel(\"Epoch no.\")\n",
    "plt.legend()\n",
    "plt.show()"
   ]
  },
  {
   "cell_type": "markdown",
   "metadata": {
    "id": "kYlPDxlrAs-w"
   },
   "source": [
    "Mini-batch Gradient Descent without momentum"
   ]
  },
  {
   "cell_type": "code",
   "execution_count": null,
   "metadata": {
    "id": "8UlPDYO1-3pf"
   },
   "outputs": [],
   "source": [
    "#helper functions for mini batch\n",
    "def mini_batches_split(X, Y, batch_size):\n",
    "    minibatches = []\n",
    "\n",
    "    indexes = np.array([i for i in range(12000)])\n",
    "    np.random.shuffle(indexes)\n",
    "    X_epoch = X[indexes, :]\n",
    "    Y_epoch = Y[indexes, :]\n",
    "\n",
    "    for i in range(0, X_epoch.shape[0], batch_size):\n",
    "        X_mini = X_epoch[i:i + batch_size]\n",
    "        Y_mini = Y_epoch[i:i + batch_size]\n",
    "\n",
    "        minibatches.append((X_mini, Y_mini))\n",
    "\n",
    "    return minibatches"
   ]
  },
  {
   "cell_type": "code",
   "execution_count": null,
   "metadata": {
    "id": "J614NLgg-3dA"
   },
   "outputs": [],
   "source": [
    "def mini_batch(X, Y, h1, epochs, learning_rate, batch_size):\n",
    "    \n",
    "    parameters = initial_parameters(X.shape[0], h1, Y.shape[0])\n",
    "    accuracies = np.zeros((epochs,2))\n",
    "    losses = np.zeros((epochs,2))\n",
    "    for i in range(epochs):\n",
    "        loss = 0\n",
    "        acc = 0\n",
    "        mini_batches = mini_batches_split(X.T, Y.T, batch_size)\n",
    "        no_of_batches = len(mini_batches)\n",
    "        for m in mini_batches:\n",
    "            X_mini, Y_mini = m\n",
    "            X_mini = X_mini.T\n",
    "            Y_mini = Y_mini.T\n",
    "            m_sample = X_mini.shape[1]\n",
    "\n",
    "            y_pred, forward_pass = forward_prop(X_mini, parameters)\n",
    "            loss += (1/no_of_batches) * cost_loss(y_pred, Y_mini, parameters)\n",
    "            acc += (1/no_of_batches) * accuracy(threshold_func(y_pred), Y_mini) \n",
    "\n",
    "            gradients = back_prop(parameters, forward_pass, X_mini, Y_mini)\n",
    "            parameters = gradient_descent(parameters, gradients, learning_rate)\n",
    "\n",
    "            \n",
    "        losses[i][1] = loss\n",
    "        accuracies[i][1] = acc\n",
    "        \n",
    "        # validation accuracy per epoch\n",
    "        y_pred_val, forward_pass = forward_prop(X_val, parameters)\n",
    "        losses[i][0] = cost_loss(y_pred_val, Y_val, parameters)\n",
    "        y_pred_mapped_val = threshold_func(y_pred_val)\n",
    "        accuracies[i][0] = accuracy(Y_val, y_pred_mapped_val) # 0 for validation accuracy\n",
    "        \n",
    "        if i % 10 == 0:\n",
    "            print('Epoch ',i,'==> Training loss: ', round(losses[i][1],4), '- Train accuracy: ', round(accuracies[i][1],4) , '- Validation loss: ', round(losses[i][0],4), '- Validation accuracy: ', round(accuracies[i][0],4))\n",
    "    \n",
    "    return losses, accuracies, parameters\n",
    "    "
   ]
  },
  {
   "cell_type": "code",
   "execution_count": null,
   "metadata": {
    "colab": {
     "base_uri": "https://localhost:8080/"
    },
    "id": "fCo1-bon-3Tg",
    "outputId": "850cbf73-b8ae-41bd-eb63-ea94b70445e8"
   },
   "outputs": [
    {
     "name": "stdout",
     "output_type": "stream",
     "text": [
      "Epoch  0 ==> Training loss:  0.6372 - Train accuracy:  0.7742 - Validation loss:  0.3948 - Validation accuracy:  0.855\n",
      "Epoch  10 ==> Training loss:  0.1579 - Train accuracy:  0.9417 - Validation loss:  0.1642 - Validation accuracy:  0.939\n",
      "Epoch  20 ==> Training loss:  0.1268 - Train accuracy:  0.9558 - Validation loss:  0.1386 - Validation accuracy:  0.952\n",
      "Epoch  30 ==> Training loss:  0.1101 - Train accuracy:  0.9611 - Validation loss:  0.1256 - Validation accuracy:  0.956\n",
      "Epoch  40 ==> Training loss:  0.1 - Train accuracy:  0.9652 - Validation loss:  0.1168 - Validation accuracy:  0.957\n"
     ]
    }
   ],
   "source": [
    "mb_losses, mb_accuracies, _ = mini_batch(X_train, Y_train, 100, 50, 0.05, 64)"
   ]
  },
  {
   "cell_type": "code",
   "execution_count": null,
   "metadata": {
    "colab": {
     "base_uri": "https://localhost:8080/"
    },
    "id": "v62OXZXA-3N_",
    "outputId": "e3a9fa91-265e-41a0-cd4b-32cab43e95cb"
   },
   "outputs": [
    {
     "name": "stdout",
     "output_type": "stream",
     "text": [
      "Epoch with max validation accuracy:  44\n",
      "Validation accuracy at epoch 44  = 0.96\n",
      "Training accuracy at epoch 44  = 0.9665890957446809\n"
     ]
    }
   ],
   "source": [
    "best_epoch = np.argmax(mb_accuracies[:,0],axis=0)\n",
    "print('Epoch with max validation accuracy: ', best_epoch)\n",
    "print('Validation accuracy at epoch', best_epoch,' =', mb_accuracies[best_epoch][0])\n",
    "print('Training accuracy at epoch', best_epoch,' =', mb_accuracies[best_epoch][1])"
   ]
  },
  {
   "cell_type": "code",
   "execution_count": null,
   "metadata": {
    "colab": {
     "base_uri": "https://localhost:8080/",
     "height": 295
    },
    "id": "BTiicvHc-3EE",
    "outputId": "035930d1-7d27-49b2-8ebf-7cd4def3c96b"
   },
   "outputs": [
    {
     "data": {
      "image/png": "[encoded data removed]",
      "text/plain": [
       "<Figure size 432x288 with 1 Axes>"
      ]
     },
     "metadata": {
      "needs_background": "light",
      "tags": []
     },
     "output_type": "display_data"
    }
   ],
   "source": [
    "train_accuracies = mb_accuracies[:,1]\n",
    "plt.plot(list(range(len(train_accuracies))),train_accuracies, label='Train')\n",
    "val_accuracies = mb_accuracies[:,0]\n",
    "plt.plot(list(range(len(val_accuracies))),val_accuracies, label = 'Validation')\n",
    "plt.title(\"Train& Validation Accuracy Plot\")\n",
    "plt.ylabel(\"Accuracy\")\n",
    "plt.xlabel(\"Epoch no.\")\n",
    "plt.legend()\n",
    "plt.show()"
   ]
  },
  {
   "cell_type": "code",
   "execution_count": null,
   "metadata": {
    "colab": {
     "base_uri": "https://localhost:8080/",
     "height": 295
    },
    "id": "W0J7BxyS-26B",
    "outputId": "c825c0d4-db66-48be-ce28-e7cf3fb206dd"
   },
   "outputs": [
    {
     "data": {
      "image/png": "[encoded data removed]",
      "text/plain": [
       "<Figure size 432x288 with 1 Axes>"
      ]
     },
     "metadata": {
      "needs_background": "light",
      "tags": []
     },
     "output_type": "display_data"
    }
   ],
   "source": [
    "train_losses = mb_losses[:,1]\n",
    "plt.plot(list(range(len(train_losses))),train_losses, label='Train')\n",
    "val_losses = mb_losses[:,0]\n",
    "plt.plot(list(range(len(val_losses))),val_losses, label = 'Validation')\n",
    "plt.title(\"Train & Validation Loss Plot\")\n",
    "plt.ylabel(\"Loss\")\n",
    "plt.xlabel(\"Epoch no.\")\n",
    "plt.legend()\n",
    "plt.show()"
   ]
  },
  {
   "cell_type": "markdown",
   "metadata": {
    "id": "ekFZASmLrWhn"
   },
   "source": [
    "Mini-batch Gradient Descent with momentum"
   ]
  },
  {
   "cell_type": "code",
   "execution_count": null,
   "metadata": {
    "id": "pjyFi1EiEtQG"
   },
   "outputs": [],
   "source": [
    "def mini_batch_momentum(X, Y, h1, epochs, learning_rate, momentum, batch_size):\n",
    "    \n",
    "    parameters, velocity = initial_parameters_mom(X.shape[0], h1, Y.shape[0])\n",
    "    accuracies = np.zeros((epochs,2))\n",
    "    losses = np.zeros((epochs,2))\n",
    "\n",
    "    for i in range(epochs):\n",
    "        loss = 0\n",
    "        acc = 0\n",
    "        mini_batches = mini_batches_split(X.T, Y.T, 64)\n",
    "        no_of_batches = len(mini_batches)\n",
    "        for m in mini_batches:\n",
    "            X_mini, Y_mini = m\n",
    "            X_mini = X_mini.T\n",
    "            Y_mini = Y_mini.T\n",
    "            m_sample = X_mini.shape[1]\n",
    "\n",
    "            y_pred, forward_pass = forward_prop(X_mini, parameters)\n",
    "            loss += (1/no_of_batches) * cost_loss(y_pred, Y_mini, parameters)\n",
    "            acc += (1/no_of_batches) * accuracy(threshold_func(y_pred), Y_mini) \n",
    "\n",
    "            gradients = back_prop(parameters, forward_pass, X_mini, Y_mini)\n",
    "            parameters, velocity = gradient_descent_momentum(parameters, gradients, learning_rate, momentum, velocity)\n",
    "            \n",
    "        losses[i][1] = loss\n",
    "        accuracies[i][1] = acc\n",
    "        \n",
    "        # validation accuracy per epoch\n",
    "        y_pred_val, forward_pass = forward_prop(X_val, parameters)\n",
    "        losses[i][0] = cost_loss(y_pred_val, Y_val, parameters)\n",
    "        y_pred_mapped_val = threshold_func(y_pred_val)\n",
    "        accuracies[i][0] = accuracy(Y_val, y_pred_mapped_val) # 0 for validation accuracy\n",
    "        \n",
    "        if i % 10 == 0:\n",
    "            print('Epoch ',i,'==> Training loss: ', round(losses[i][1],4), '- Train accuracy: ', round(accuracies[i][1],4) , '- Validation loss: ', round(losses[i][0],4), '- Validation accuracy: ', round(accuracies[i][0],4))\n",
    "\n",
    "    \n",
    "    return losses, accuracies , parameters  "
   ]
  },
  {
   "cell_type": "code",
   "execution_count": null,
   "metadata": {
    "colab": {
     "base_uri": "https://localhost:8080/"
    },
    "id": "hjAsuMZBBCXN",
    "outputId": "4d57543d-7af1-4fbd-ae85-5faa0bb7bdf2"
   },
   "outputs": [
    {
     "name": "stdout",
     "output_type": "stream",
     "text": [
      "Epoch  0 ==> Training loss:  0.4368 - Train accuracy:  0.8656 - Validation loss:  0.1903 - Validation accuracy:  0.922\n",
      "Epoch  10 ==> Training loss:  0.0914 - Train accuracy:  0.9704 - Validation loss:  0.1001 - Validation accuracy:  0.965\n",
      "Epoch  20 ==> Training loss:  0.0709 - Train accuracy:  0.9753 - Validation loss:  0.0889 - Validation accuracy:  0.971\n",
      "Epoch  30 ==> Training loss:  0.0575 - Train accuracy:  0.9802 - Validation loss:  0.0856 - Validation accuracy:  0.973\n",
      "Epoch  40 ==> Training loss:  0.0479 - Train accuracy:  0.984 - Validation loss:  0.0823 - Validation accuracy:  0.974\n"
     ]
    }
   ],
   "source": [
    "mbm_losses, mbm_accuracies, _ = mini_batch_momentum(X_train, Y_train, 100, 50, 0.05, 0.8, 64)"
   ]
  },
  {
   "cell_type": "code",
   "execution_count": null,
   "metadata": {
    "colab": {
     "base_uri": "https://localhost:8080/"
    },
    "id": "zCEy8xjlBCO6",
    "outputId": "4ab04ad8-8767-4a79-94c7-47ebd6e618f1"
   },
   "outputs": [
    {
     "name": "stdout",
     "output_type": "stream",
     "text": [
      "Epoch with max validation accuracy:  37\n",
      "Validation accuracy at epoch 37  = 0.977\n",
      "Training accuracy at epoch 37  = 0.9822140957446809\n"
     ]
    }
   ],
   "source": [
    "best_epoch = np.argmax(mbm_accuracies[:,0],axis=0)\n",
    "print('Epoch with max validation accuracy: ', best_epoch)\n",
    "print('Validation accuracy at epoch', best_epoch,' =', mbm_accuracies[best_epoch][0])\n",
    "print('Training accuracy at epoch', best_epoch,' =', mbm_accuracies[best_epoch][1])"
   ]
  },
  {
   "cell_type": "code",
   "execution_count": null,
   "metadata": {
    "colab": {
     "base_uri": "https://localhost:8080/",
     "height": 295
    },
    "id": "06b7ryrbBCBF",
    "outputId": "588f7c71-91fe-4b7f-d69e-4ecac478e733"
   },
   "outputs": [
    {
     "data": {
      "image/png": "[encoded data removed]",
      "text/plain": [
       "<Figure size 432x288 with 1 Axes>"
      ]
     },
     "metadata": {
      "needs_background": "light",
      "tags": []
     },
     "output_type": "display_data"
    }
   ],
   "source": [
    "train_accuracies = mbm_accuracies[:,1]\n",
    "plt.plot(list(range(len(train_accuracies))),train_accuracies, label='Train')\n",
    "val_accuracies = mbm_accuracies[:,0]\n",
    "plt.plot(list(range(len(val_accuracies))),val_accuracies, label = 'Validation')\n",
    "plt.title(\"Train& Validation Accuracy Plot\")\n",
    "plt.ylabel(\"Accuracy\")\n",
    "plt.xlabel(\"Epoch no.\")\n",
    "plt.legend()\n",
    "plt.show()"
   ]
  },
  {
   "cell_type": "code",
   "execution_count": null,
   "metadata": {
    "colab": {
     "base_uri": "https://localhost:8080/",
     "height": 295
    },
    "id": "fUsT1ZL2BB5S",
    "outputId": "1db0e100-b4c6-471a-e0b2-2ed9da6d5d75"
   },
   "outputs": [
    {
     "data": {
      "image/png": "[encoded data removed]",
      "text/plain": [
       "<Figure size 432x288 with 1 Axes>"
      ]
     },
     "metadata": {
      "needs_background": "light",
      "tags": []
     },
     "output_type": "display_data"
    }
   ],
   "source": [
    "train_losses = mbm_losses[:,1]\n",
    "plt.plot(list(range(len(train_losses))),train_losses, label='Train')\n",
    "val_losses = mbm_losses[:,0]\n",
    "plt.plot(list(range(len(val_losses))),val_losses, label = 'Validation')\n",
    "plt.title(\"Train & Validation Loss Plot\")\n",
    "plt.ylabel(\"Loss\")\n",
    "plt.xlabel(\"Epoch no.\")\n",
    "plt.legend()\n",
    "plt.show()"
   ]
  },
  {
   "cell_type": "markdown",
   "metadata": {
    "id": "T4zzPESSBMpc"
   },
   "source": [
    "Hyperparameter tuning"
   ]
  },
  {
   "cell_type": "code",
   "execution_count": null,
   "metadata": {
    "id": "_3cHQd82BBxg"
   },
   "outputs": [],
   "source": [
    "# Hyperparameter search code for minibatch gradient descent\n",
    "\n",
    "batch_sizes = [64,128,256]\n",
    "learning_rate_range = [0.001, 0.005, 0.01, 0.05, 0.1]\n",
    "momentum_range = [0.7,0.8,0.9]\n",
    "losses = np.zeros((len(learning_rate_range),len(batch_sizes),len(momentum_range)))\n",
    "\n",
    "for lr in range(len(learning_rate_range)):\n",
    "    for b in range(len(batch_sizes)):\n",
    "        for m in range(len(momentum_range)):\n",
    "            _ , _ , parameters = mini_batch_momentum(X_train, Y_train, 100, 50, learning_rate_range[lr], momentum_range[m], batch_sizes[b])\n",
    "            y_pred_val, _ = forward_prop(X_val, parameters)\n",
    "            losses[lr][b][m] = cost_loss(y_pred_val, Y_val, parameters)\n",
    "            "
   ]
  },
  {
   "cell_type": "markdown",
   "metadata": {
    "id": "t_W5J2DUEfs6"
   },
   "source": [
    "3.5 Model shootout"
   ]
  },
  {
   "cell_type": "code",
   "execution_count": null,
   "metadata": {
    "id": "CfZHxpFaEuHv"
   },
   "outputs": [],
   "source": [
    "X = X_train.reshape(784,12000)\n",
    "Y = Y_train.reshape(1,12000)"
   ]
  },
  {
   "cell_type": "code",
   "execution_count": null,
   "metadata": {
    "id": "6JunEMjVtq0c"
   },
   "outputs": [],
   "source": [
    "def cost_loss(y_pred, y_true):\n",
    "    m = y_true.shape[1]\n",
    "    cost = (1/m)*np.sum(((y_pred - y_true)**2)/2)\n",
    "    return cost\n",
    "\n",
    "def accuracy(y_true, y_pred):\n",
    "    sim = 0\n",
    "    for k in range(y_true.shape[1]):\n",
    "        if y_true[0][k] == y_pred[0][k]:\n",
    "            sim += 1\n",
    "\n",
    "    return (sim/y_true.shape[1])"
   ]
  },
  {
   "cell_type": "code",
   "execution_count": null,
   "metadata": {
    "id": "-RxmgGhKtquO"
   },
   "outputs": [],
   "source": [
    "# vanilla perceptron training\n",
    "epochs = 100\n",
    "weights = np.zeros(X.shape[0]).reshape(1,-1)\n",
    "biases = 0\n",
    "accuracies = np.zeros((epochs,2))\n",
    "losses = np.zeros((epochs,2))\n",
    "training_loss = []\n",
    "training_accuracy = []\n",
    "validation_loss = []\n",
    "validation_accuracy = []\n",
    "\n",
    "for i in range(epochs):\n",
    "    for j in range(X.shape[1]):\n",
    "        X1 = X[:,j].reshape(784,1)\n",
    "        y_hat = weights @ X1 + biases\n",
    "        if y_hat < 0 and Y[:,j] == 1:\n",
    "            weights = weights + X1.T\n",
    "            biases = biases\n",
    "        elif y_hat >= 0 and Y[:,j] == 0:\n",
    "            weights = weights - X1.T\n",
    "            biases = biases\n",
    "            \n",
    "    pred_train = []\n",
    "    for k in range(Y_train.shape[1]):\n",
    "        y_pred = weights @ X_train[:,k] + biases\n",
    "        if y_pred >= 0:\n",
    "            pred_train.append(1)\n",
    "        else:\n",
    "            pred_train.append(0)\n",
    "\n",
    "    preds = np.array(pred_train).reshape(1,12000)\n",
    "    training_accuracy.append(accuracy(Y_train, preds))\n",
    "    training_loss.append(cost_loss(preds,Y_train))\n",
    "\n",
    "    pred_val = []\n",
    "    c = 0\n",
    "    for l in range(Y_val.shape[1]):\n",
    "        y_pred = weights @ X_val[:,l] + biases\n",
    "        if y_pred >= 0:\n",
    "            pred_val.append(1)\n",
    "        else:\n",
    "            pred_val.append(0)\n",
    "        \n",
    "    preds = np.array(pred_val).reshape(1,1000)\n",
    "    validation_accuracy.append(accuracy(Y_val, preds))\n",
    "    validation_loss.append(cost_loss(preds,Y_val))\n",
    "    \n",
    "    "
   ]
  },
  {
   "cell_type": "code",
   "execution_count": null,
   "metadata": {
    "colab": {
     "base_uri": "https://localhost:8080/"
    },
    "id": "WK_NzMnoJ94I",
    "outputId": "4ec7658d-3f7e-4d91-aa8c-bd3251bb9628"
   },
   "outputs": [
    {
     "name": "stdout",
     "output_type": "stream",
     "text": [
      "Training accuracy =>  0.9689166666666666\n",
      "Validation accuracy => 0.976\n"
     ]
    }
   ],
   "source": [
    "best_epoch = len(validation_accuracy) - np.argmax(validation_accuracy[::-1]) - 1\n",
    "print('Training accuracy => ', training_accuracy[best_epoch])\n",
    "print('Validation accuracy =>',validation_accuracy[best_epoch])"
   ]
  },
  {
   "cell_type": "code",
   "execution_count": null,
   "metadata": {
    "colab": {
     "base_uri": "https://localhost:8080/",
     "height": 295
    },
    "id": "OJg1HGZLtqkQ",
    "outputId": "2096c437-2bfe-45be-c94d-571924b9df87"
   },
   "outputs": [
    {
     "data": {
      "image/png": "[encoded data removed]",
      "text/plain": [
       "<Figure size 432x288 with 1 Axes>"
      ]
     },
     "metadata": {
      "needs_background": "light",
      "tags": []
     },
     "output_type": "display_data"
    }
   ],
   "source": [
    "plt.plot(list(range(len(training_accuracy))),training_accuracy, label='Train')\n",
    "plt.plot(list(range(len(validation_accuracy))),validation_accuracy, label = 'Validation')\n",
    "plt.title(\"Train& Validation Accuracy Plot\")\n",
    "plt.ylabel(\"Accuracy\")\n",
    "plt.xlabel(\"Epoch no.\")\n",
    "plt.legend()\n",
    "plt.show()"
   ]
  },
  {
   "cell_type": "code",
   "execution_count": null,
   "metadata": {
    "colab": {
     "base_uri": "https://localhost:8080/"
    },
    "id": "F3ACEZERtqat",
    "outputId": "9eff7eb4-6331-4087-b0b2-013d190481f1"
   },
   "outputs": [
    {
     "name": "stdout",
     "output_type": "stream",
     "text": [
      "Validation Accuracy:  95.8 %\n"
     ]
    }
   ],
   "source": [
    "#vanilla perceptron prediction - validation accuracy\n",
    "pred_val = []\n",
    "for i in range(Y_val.shape[1]):\n",
    "    y_pred = weights @ X_val[:,i] + biases\n",
    "    if y_pred >= 0:\n",
    "        pred_val.append(1)\n",
    "    else:\n",
    "        pred_val.append(0)\n",
    "        \n",
    "preds = np.array(pred_val).reshape(1,1000)\n",
    "\n",
    "print('Validation Accuracy: ', accuracy(Y_val, preds) * 100, '%')"
   ]
  },
  {
   "cell_type": "code",
   "execution_count": null,
   "metadata": {
    "colab": {
     "base_uri": "https://localhost:8080/"
    },
    "id": "0ucwXFBjtqRU",
    "outputId": "b4f78406-65fa-4f42-e951-14a84ad61750"
   },
   "outputs": [
    {
     "name": "stdout",
     "output_type": "stream",
     "text": [
      "Train Accuracy:  97.3 %\n"
     ]
    }
   ],
   "source": [
    "#vanilla perceptron prediction - train accuracy\n",
    "pred_train = []\n",
    "for i in range(Y_train.shape[1]):\n",
    "    y_pred = weights @ X_train[:,i] + biases\n",
    "    if y_pred >= 0:\n",
    "        pred_train.append(1)\n",
    "    else:\n",
    "        pred_train.append(0)\n",
    "        \n",
    "preds = np.array(pred_train).reshape(1,12000)\n",
    "accuracy(Y_train, preds)\n",
    "\n",
    "print('Train Accuracy: ', accuracy(Y_train, preds) * 100, '%')"
   ]
  },
  {
   "cell_type": "code",
   "execution_count": null,
   "metadata": {
    "id": "j4fGGLtdriZx"
   },
   "outputs": [],
   "source": [
    "def mini_batch_momentum(X, Y, h1, epochs, learning_rate, momentum, batch_size):\n",
    "    \n",
    "    parameters, velocity = initial_parameters_mom(X.shape[0], h1, Y.shape[0])\n",
    "    accuracies = np.zeros((epochs,2))\n",
    "    losses = np.zeros((epochs,2))\n",
    "\n",
    "    for i in range(epochs):\n",
    "        loss = 0\n",
    "        acc = 0\n",
    "        mini_batches = mini_batches_split(X.T, Y.T, 64)\n",
    "        no_of_batches = len(mini_batches)\n",
    "        for m in mini_batches:\n",
    "            X_mini, Y_mini = m\n",
    "            X_mini = X_mini.T\n",
    "            Y_mini = Y_mini.T\n",
    "            m_sample = X_mini.shape[1]\n",
    "\n",
    "            y_pred, forward_pass = forward_prop(X_mini, parameters)\n",
    "            loss += (1/no_of_batches) * cost_loss(y_pred, Y_mini, parameters)\n",
    "            acc += (1/no_of_batches) * accuracy(threshold_func(y_pred), Y_mini) \n",
    "\n",
    "            gradients = back_prop(parameters, forward_pass, X_mini, Y_mini)\n",
    "            parameters, velocity = gradient_descent_momentum(parameters, gradients, learning_rate, momentum, velocity)\n",
    "            \n",
    "        losses[i][1] = loss\n",
    "        accuracies[i][1] = acc\n",
    "        \n",
    "        # validation accuracy per epoch\n",
    "        y_pred_val, forward_pass = forward_prop(X_val, parameters)\n",
    "        losses[i][0] = cost_loss(y_pred_val, Y_val, parameters)\n",
    "        y_pred_mapped_val = threshold_func(y_pred_val)\n",
    "        accuracies[i][0] = accuracy(Y_val, y_pred_mapped_val) # 0 for validation accuracy\n",
    "        \n",
    "        if i % 10 == 0:\n",
    "            print('Epoch ',i,'==> Training loss: ', round(losses[i][1],4), '- Train accuracy: ', round(accuracies[i][1],4) , '- Validation loss: ', round(losses[i][0],4), '- Validation accuracy: ', round(accuracies[i][0],4))\n",
    "\n",
    "    \n",
    "    return losses, accuracies , parameters  "
   ]
  },
  {
   "cell_type": "code",
   "execution_count": null,
   "metadata": {
    "colab": {
     "base_uri": "https://localhost:8080/"
    },
    "id": "q2_HgAlwriSA",
    "outputId": "6e01fd40-f51f-4173-b284-bd0dc4cf2b23"
   },
   "outputs": [
    {
     "name": "stdout",
     "output_type": "stream",
     "text": [
      "Epoch  0 ==> Training loss:  0.3771 - Train accuracy:  0.8676 - Validation loss:  0.1796 - Validation accuracy:  0.934\n",
      "Epoch  10 ==> Training loss:  0.0917 - Train accuracy:  0.9683 - Validation loss:  0.1045 - Validation accuracy:  0.96\n",
      "Epoch  20 ==> Training loss:  0.0688 - Train accuracy:  0.9767 - Validation loss:  0.0885 - Validation accuracy:  0.972\n",
      "Epoch  30 ==> Training loss:  0.0554 - Train accuracy:  0.9826 - Validation loss:  0.0835 - Validation accuracy:  0.971\n",
      "Epoch  40 ==> Training loss:  0.0459 - Train accuracy:  0.9855 - Validation loss:  0.0811 - Validation accuracy:  0.973\n"
     ]
    }
   ],
   "source": [
    "mbm_losses, mbm_accuracies, _ = mini_batch_momentum(X_train, Y_train, 100, 50, 0.05, 0.8, 64)"
   ]
  },
  {
   "cell_type": "code",
   "execution_count": null,
   "metadata": {
    "colab": {
     "base_uri": "https://localhost:8080/"
    },
    "id": "t2REYKJ7riC-",
    "outputId": "524724ac-9419-4631-82df-40c14f2d0671"
   },
   "outputs": [
    {
     "name": "stdout",
     "output_type": "stream",
     "text": [
      "Epoch with max validation accuracy:  49\n",
      "Validation accuracy at epoch 49  = 0.978\n",
      "Training accuracy at epoch 49  = 0.9872839095744691\n"
     ]
    }
   ],
   "source": [
    "best_epoch = np.argmax(mbm_accuracies[:,0],axis=0)\n",
    "print('Epoch with max validation accuracy: ', best_epoch)\n",
    "print('Validation accuracy at epoch', best_epoch,' =', mbm_accuracies[best_epoch][0])\n",
    "print('Training accuracy at epoch', best_epoch,' =', mbm_accuracies[best_epoch][1])"
   ]
  },
  {
   "cell_type": "code",
   "execution_count": null,
   "metadata": {
    "colab": {
     "base_uri": "https://localhost:8080/",
     "height": 295
    },
    "id": "Im7kLizWrh27",
    "outputId": "22a18a20-f377-4fa2-a5dc-e54c1106ff74"
   },
   "outputs": [
    {
     "data": {
      "image/png": "[encoded data removed]",
      "text/plain": [
       "<Figure size 432x288 with 1 Axes>"
      ]
     },
     "metadata": {
      "needs_background": "light",
      "tags": []
     },
     "output_type": "display_data"
    }
   ],
   "source": [
    "train_accuracies = mbm_accuracies[:,1]\n",
    "plt.plot(list(range(len(train_accuracies))),train_accuracies, label='Train')\n",
    "val_accuracies = mbm_accuracies[:,0]\n",
    "plt.plot(list(range(len(val_accuracies))),val_accuracies, label = 'Validation')\n",
    "plt.title(\"Train & Validation Accuracy Plot\")\n",
    "plt.ylabel(\"Accuracy\")\n",
    "plt.xlabel(\"Epoch no.\")\n",
    "plt.legend()\n",
    "plt.show()"
   ]
  },
  {
   "cell_type": "code",
   "execution_count": null,
   "metadata": {
    "colab": {
     "base_uri": "https://localhost:8080/",
     "height": 295
    },
    "id": "TmyCX0rbr2Wk",
    "outputId": "d5188293-71d7-4d8a-97f2-e7b6a4b2159d"
   },
   "outputs": [
    {
     "data": {
      "image/png": "[encoded data removed]",
      "text/plain": [
       "<Figure size 432x288 with 1 Axes>"
      ]
     },
     "metadata": {
      "needs_background": "light",
      "tags": []
     },
     "output_type": "display_data"
    }
   ],
   "source": [
    "train_losses = mbm_losses[:,1]\n",
    "plt.plot(list(range(len(train_losses))),train_losses, label='Train')\n",
    "val_losses = mbm_losses[:,0]\n",
    "plt.plot(list(range(len(val_losses))),val_losses, label = 'Validation')\n",
    "plt.title(\"Train & Validation Loss Plot\")\n",
    "plt.ylabel(\"Loss\")\n",
    "plt.xlabel(\"Epoch no.\")\n",
    "plt.legend()\n",
    "plt.show()"
   ]
  },
  {
   "cell_type": "code",
   "execution_count": null,
   "metadata": {
    "id": "JG4lbkiBu2fw"
   },
   "outputs": [],
   "source": []
  }
 ],
 "metadata": {
  "colab": {
   "collapsed_sections": [],
   "name": "On the DL - Coursework 1.ipynb",
   "provenance": [],
   "toc_visible": true
  },
  "kernelspec": {
   "display_name": "Python 3",
   "language": "python",
   "name": "python3"
  },
  "language_info": {
   "codemirror_mode": {
    "name": "ipython",
    "version": 3
   },
   "file_extension": ".py",
   "mimetype": "text/x-python",
   "name": "python",
   "nbconvert_exporter": "python",
   "pygments_lexer": "ipython3",
   "version": "3.8.3"
  }
 },
 "nbformat": 4,
 "nbformat_minor": 1
}
