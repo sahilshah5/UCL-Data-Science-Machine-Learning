{
  "nbformat": 4,
  "nbformat_minor": 0,
  "metadata": {
    "colab": {
      "name": "20194624_RL_hw3.ipynb",
      "provenance": [],
      "collapsed_sections": [
        "nVBcO5mAV9Ow",
        "KV03Q3MpveUM",
        "r_pTfi5dSFX5",
        "M6kEki4XHbPy"
      ],
      "toc_visible": true
    },
    "kernelspec": {
      "display_name": "Python 3",
      "name": "python3"
    },
    "accelerator": "GPU"
  },
  "cells": [
    {
      "cell_type": "markdown",
      "metadata": {
        "id": "pYs6LMEbNqoQ"
      },
      "source": [
        "# RL homework 3\n",
        "\n",
        "-------------------------------\n",
        "\n",
        "\n",
        "**Name:** Sahil Shah\n",
        "\n",
        "**SN:** 20194624\n",
        "\n",
        "-----------------------------------\n",
        "\n",
        "\n",
        "**Due date:** *10th May, 2021, 4:00 pm*\n",
        "\n",
        "------------------------------------\n",
        "\n",
        "## How to Submit\n",
        "\n",
        "When you have completed the exercises and everything has finsihed running, click on 'File' in the menu-bar and then 'Download .ipynb'. This file must be submitted to Moodle named as **studentnumber_RL_hw3.ipynb** before the deadline above."
      ]
    },
    {
      "cell_type": "markdown",
      "metadata": {
        "id": "rNuohp44N00i"
      },
      "source": [
        "# The Assignment\n",
        "\n",
        "### Objectives\n",
        "\n",
        "#### Part 1:\n",
        "You will implement several algorithms to investigate the role of planning in reinforcement learning.\n",
        "\n",
        "#### Part 2:\n",
        "You will be guided through the implementation of a full deep reinforcement learning agent.\n",
        "\n",
        "#### Part 3:\n",
        "You will implement a number of off-policy multi-step return estimates, and answer questions about their accuracy.\n",
        "\n"
      ]
    },
    {
      "cell_type": "markdown",
      "metadata": {
        "id": "nVBcO5mAV9Ow"
      },
      "source": [
        "# Setup\n",
        "\n",
        "Run all the cells in this section, but do not modify them."
      ]
    },
    {
      "cell_type": "markdown",
      "metadata": {
        "id": "Z1p0fpbxQLyn"
      },
      "source": [
        "## Imports"
      ]
    },
    {
      "cell_type": "code",
      "metadata": {
        "id": "Ps5OnkPmDbMX"
      },
      "source": [
        "import functools\n",
        "import matplotlib.pyplot as plt\n",
        "import numpy as np\n",
        "from collections import namedtuple\n",
        "\n",
        "np.set_printoptions(precision=3, suppress=1)\n",
        "plt.style.use('seaborn-notebook')"
      ],
      "execution_count": null,
      "outputs": []
    },
    {
      "cell_type": "markdown",
      "metadata": {
        "id": "eFnvhnKlWN_Z"
      },
      "source": [
        "## Gridworlds"
      ]
    },
    {
      "cell_type": "code",
      "metadata": {
        "id": "e5VkDWDTWNHE"
      },
      "source": [
        "#@title Implementation\n",
        "class Grid(object):\n",
        "\n",
        "  def __init__(self, discount=0.9):\n",
        "    # -1: wall\n",
        "    # 0: empty, episode continues\n",
        "    # other: number indicates reward, episode will terminate\n",
        "    self._layout = np.array([\n",
        "      [-1, -1, -1, -1, -1, -1, -1, -1, -1, -1],\n",
        "      [-1,  0,  0,  0,  0,  0,  0,  0,  0, -1],\n",
        "      [-1,  0,  0,  0, -1, -1,  0,  0, 10, -1],\n",
        "      [-1,  0,  0,  0, -1, -1,  0,  0,  0, -1],\n",
        "      [-1,  0,  0,  0, -1, -1,  0,  0,  0, -1],\n",
        "      [-1,  0,  0,  0,  0,  0,  0,  0,  0, -1],\n",
        "      [-1,  0,  0,  0,  0,  0,  0,  0,  0, -1],\n",
        "      [-1,  0,  0,  0,  0,  0,  0,  0,  0, -1],\n",
        "      [-1, -1, -1, -1, -1, -1, -1, -1, -1, -1]\n",
        "    ])\n",
        "    self._start_state = (2, 2)\n",
        "    self._goal_state = (8, 2)\n",
        "    self._state = self._start_state\n",
        "    self._number_of_states = np.prod(np.shape(self._layout))\n",
        "    self._discount = discount\n",
        "\n",
        "  @property\n",
        "  def number_of_states(self):\n",
        "      return self._number_of_states\n",
        "    \n",
        "  def plot_grid(self):\n",
        "    plt.figure(figsize=(3, 3))\n",
        "    plt.imshow(self._layout > -1, interpolation=\"nearest\", cmap=\"YlOrRd_r\")     \n",
        "    ax = plt.gca()\n",
        "    ax.grid(0)\n",
        "    plt.xticks([])\n",
        "    plt.yticks([])\n",
        "    plt.title(\"The grid\")\n",
        "    plt.text(\n",
        "        self._start_state[0], self._start_state[1], \n",
        "        r\"$\\mathbf{S}$\", ha='center', va='center')\n",
        "    plt.text(\n",
        "        self._goal_state[0], self._goal_state[1], \n",
        "        r\"$\\mathbf{G}$\", ha='center', va='center')\n",
        "    h, w = self._layout.shape\n",
        "    for y in range(h-3):\n",
        "      plt.plot([+0.5, w-1.5], [y+1.5, y+1.5], '-k', lw=2, alpha=0.5)\n",
        "    for x in range(w-3):\n",
        "      plt.plot([x+1.5, x+1.5], [+0.5, h-1.5], '-k', lw=2, alpha=0.5)\n",
        "\n",
        "  \n",
        "  def get_obs(self):\n",
        "    y, x = self._state\n",
        "    return y*self._layout.shape[1] + x\n",
        "  \n",
        "  def int_to_state(self, int_obs):\n",
        "    x = int_obs % self._layout.shape[1]\n",
        "    y = int_obs // self._layout.shape[1]\n",
        "    return y, x\n",
        "\n",
        "  def step(self, action):\n",
        "    y, x = self._state\n",
        "\n",
        "    if action == 0:  # up\n",
        "      new_state = (y - 1, x)\n",
        "    elif action == 1:  # right\n",
        "      new_state = (y, x + 1)\n",
        "    elif action == 2:  # down\n",
        "      new_state = (y + 1, x)\n",
        "    elif action == 3:  # left\n",
        "      new_state = (y, x - 1)\n",
        "    else:\n",
        "      raise ValueError(\"Invalid action: {} is not 0, 1, 2, or 3.\".format(action))\n",
        "\n",
        "    new_y, new_x = new_state\n",
        "    if self._layout[new_y, new_x] == -1:  # wall\n",
        "      reward = -5.\n",
        "      discount = self._discount\n",
        "      new_state = (y, x)\n",
        "    elif self._layout[new_y, new_x] == 0:  # empty cell\n",
        "      reward = 0.\n",
        "      discount = self._discount\n",
        "    else:  # a goal\n",
        "      reward = self._layout[new_y, new_x]\n",
        "      discount = 0.\n",
        "      new_state = self._start_state\n",
        "    \n",
        "    self._state = new_state\n",
        "    return reward, discount, self.get_obs()\n",
        "  \n",
        "class AltGrid(Grid):\n",
        "  \n",
        "    def __init__(self, discount=0.9):\n",
        "      # -1: wall\n",
        "      # 0: empty, episode continues\n",
        "      # other: number indicates reward, episode will terminate\n",
        "      self._layout = np.array([\n",
        "        [-1, -1, -1, -1, -1, -1, -1, -1, -1, -1],\n",
        "        [-1,  0,  0,  0,  0,  0,  0,  0,  0, -1],\n",
        "        [-1,  0,  0,  0, -1, -1,  0,  0,  0, -1],\n",
        "        [-1,  0,  0,  0, -1, -1,  0,  0,  0, -1],\n",
        "        [-1,  0,  0,  0, -1, -1,  0,  0,  0, -1],\n",
        "        [-1,  0,  0,  0,  0,  0,  0,  0,  0, -1],\n",
        "        [-1,  0,  0,  0,  0,  0,  0,  0,  0, -1],\n",
        "        [-1,  0, 10,  0,  0,  0,  0,  0,  0, -1],\n",
        "        [-1, -1, -1, -1, -1, -1, -1, -1, -1, -1]\n",
        "      ])\n",
        "      self._start_state = (2, 2)\n",
        "      self._goal_state = (2, 7)\n",
        "      self._state = self._start_state\n",
        "      self._number_of_states = np.prod(np.shape(self._layout))\n",
        "      self._discount = discount\n",
        "\n",
        "class FeatureGrid(Grid):\n",
        "  \n",
        "  def get_obs(self):\n",
        "    return self.state_to_features(self._state)\n",
        "  \n",
        "  def state_to_features(self, state):\n",
        "    y, x = state\n",
        "    x /= float(self._layout.shape[1] - 1)\n",
        "    y /= float(self._layout.shape[0] - 1)\n",
        "    markers = np.arange(0.1, 1.0, 0.1)\n",
        "    features = np.array([np.exp(-40*((x - m)**2+(y - n)**2))\n",
        "                         for m in markers\n",
        "                         for n in markers] + [1.])\n",
        "    return features / np.sum(features**2)\n",
        "  \n",
        "  def int_to_features(self, int_state):\n",
        "    return self.state_to_features(self.int_to_state(int_state))\n",
        "  \n",
        "  @property\n",
        "  def number_of_features(self):\n",
        "      return len(self.get_obs())"
      ],
      "execution_count": null,
      "outputs": []
    },
    {
      "cell_type": "code",
      "metadata": {
        "id": "zV0NxnIyWVtu",
        "colab": {
          "base_uri": "https://localhost:8080/"
        },
        "outputId": "4ae30637-9a1a-4bdf-addb-5af47252c055"
      },
      "source": [
        "#@title Show gridworlds\n",
        "\n",
        "# Plot tabular environments\n",
        "grid = Grid()\n",
        "alt_grid = AltGrid()\n",
        "print(\"A grid world\")\n",
        "grid.plot_grid()\n",
        "plt.show()\n",
        "print(\"\\nAn alternative grid world\")\n",
        "alt_grid.plot_grid()\n",
        "plt.show()\n",
        "\n",
        "# Plot features of each state for non tabular version of the environment.\n",
        "print(\n",
        "    \"\\nFeatures (visualised as 9x9 heatmaps) for different locations in the grid\"\n",
        "    \"\\n(Note: includes unreachable states that coincide with walls in this visualisation.)\"\n",
        ")\n",
        "feat_grid = FeatureGrid()\n",
        "shape = feat_grid._layout.shape\n",
        "f, axes = plt.subplots(shape[0], shape[1])\n",
        "for state_idx, ax in enumerate(axes.flatten()):\n",
        "  ax.imshow(np.reshape((feat_grid.int_to_features(state_idx)[:-1]),(9,9)),\n",
        "            interpolation='nearest',\n",
        "            cmap='plasma')\n",
        "  ax.set_xticks([])\n",
        "  ax.set_yticks([])\n",
        "plt.show()"
      ],
      "execution_count": null,
      "outputs": [
        {
          "output_type": "stream",
          "text": [
            "A grid world\n"
          ],
          "name": "stdout"
        },
        {
          "output_type": "display_data",
          "data": {
            "image/png": "[encoded data removed]",
            "text/plain": [
              "<Figure size 216x216 with 1 Axes>"
            ]
          },
          "metadata": {
            "tags": []
          }
        },
        {
          "output_type": "stream",
          "text": [
            "\n",
            "An alternative grid world\n"
          ],
          "name": "stdout"
        },
        {
          "output_type": "display_data",
          "data": {
            "image/png": "[encoded data removed]",
            "text/plain": [
              "<Figure size 216x216 with 1 Axes>"
            ]
          },
          "metadata": {
            "tags": []
          }
        },
        {
          "output_type": "stream",
          "text": [
            "\n",
            "Features (visualised as 9x9 heatmaps) for different locations in the grid\n",
            "(Note: includes unreachable states that coincide with walls in this visualisation.)\n"
          ],
          "name": "stdout"
        },
        {
          "output_type": "display_data",
          "data": {
            "image/png": "[encoded data removed]",
            "text/plain": [
              "<Figure size 576x396 with 90 Axes>"
            ]
          },
          "metadata": {
            "tags": []
          }
        }
      ]
    },
    {
      "cell_type": "markdown",
      "metadata": {
        "id": "3lpweIqAWBX3"
      },
      "source": [
        "## Helpers"
      ]
    },
    {
      "cell_type": "code",
      "metadata": {
        "cellView": "form",
        "id": "95Ly2AaMWA5e"
      },
      "source": [
        "#@title helper functions (run, but don't modify this cell)\n",
        "\n",
        "def run_experiment(env, agent, number_of_steps):\n",
        "    mean_reward = 0.\n",
        "    try:\n",
        "      action = agent.initial_action()\n",
        "    except AttributeError:\n",
        "      action = 0\n",
        "    for i in range(number_of_steps):\n",
        "      reward, discount, next_state = env.step(action)\n",
        "      action = agent.step(reward, discount, next_state)\n",
        "      mean_reward += (reward - mean_reward)/(i + 1.)\n",
        "\n",
        "    return mean_reward\n",
        "  \n",
        "map_from_action_to_subplot = lambda a: (2, 6, 8, 4)[a]\n",
        "map_from_action_to_name = lambda a: (\"up\", \"right\", \"down\", \"left\")[a]\n",
        "\n",
        "def plot_rewards(xs, rewards, color):\n",
        "  mean = np.mean(rewards, axis=0)\n",
        "  p90 = np.percentile(rewards, 90, axis=0)\n",
        "  p10 = np.percentile(rewards, 10, axis=0)\n",
        "  plt.plot(xs, mean, color=color, alpha=0.6)\n",
        "  plt.fill_between(xs, p90, p10, color=color, alpha=0.3)\n",
        "\n",
        "def plot_values(values, colormap='pink', vmin=-1, vmax=10):\n",
        "  plt.imshow(values, interpolation=\"nearest\", cmap=colormap, vmin=vmin, vmax=vmax)\n",
        "  plt.yticks([])\n",
        "  plt.xticks([])\n",
        "  plt.colorbar(ticks=[vmin, vmax])\n",
        "\n",
        "def plot_state_value(action_values):\n",
        "  q = action_values\n",
        "  fig = plt.figure(figsize=(4, 4))\n",
        "  vmin = np.min(action_values)\n",
        "  vmax = np.max(action_values)\n",
        "  v = 0.9 * np.max(q, axis=-1) + 0.1 * np.mean(q, axis=-1)\n",
        "  plot_values(v, colormap='summer', vmin=vmin, vmax=vmax)\n",
        "  plt.title(\"$v(s)$\")\n",
        "\n",
        "def plot_action_values(action_values):\n",
        "  q = action_values\n",
        "  fig = plt.figure(figsize=(8, 8))\n",
        "  fig.subplots_adjust(wspace=0.3, hspace=0.3)\n",
        "  vmin = np.min(action_values)\n",
        "  vmax = np.max(action_values)\n",
        "  dif = vmax - vmin\n",
        "  for a in [0, 1, 2, 3]:\n",
        "    plt.subplot(3, 3, map_from_action_to_subplot(a))\n",
        "    \n",
        "    plot_values(q[..., a], vmin=vmin - 0.05*dif, vmax=vmax + 0.05*dif)\n",
        "    action_name = map_from_action_to_name(a)\n",
        "    plt.title(r\"$q(s, \\mathrm{\" + action_name + r\"})$\")\n",
        "    \n",
        "  plt.subplot(3, 3, 5)\n",
        "  v = 0.9 * np.max(q, axis=-1) + 0.1 * np.mean(q, axis=-1)\n",
        "  plot_values(v, colormap='summer', vmin=vmin, vmax=vmax)\n",
        "  plt.title(\"$v(s)$\")\n",
        "\n",
        "def parameter_study(parameter_values, parameter_name,\n",
        "  agent_constructor, env_constructor, color, repetitions=10, number_of_steps=int(1e4)):\n",
        "  mean_rewards = np.zeros((repetitions, len(parameter_values)))\n",
        "  greedy_rewards = np.zeros((repetitions, len(parameter_values)))\n",
        "  for rep in range(repetitions):\n",
        "    for i, p in enumerate(parameter_values):\n",
        "      env = env_constructor()\n",
        "      agent = agent_constructor()\n",
        "      if 'eps' in parameter_name:\n",
        "        agent.set_epsilon(p)\n",
        "      elif 'alpha' in parameter_name:\n",
        "        agent._step_size = p\n",
        "      else:\n",
        "        raise NameError(\"Unknown parameter_name: {}\".format(parameter_name))\n",
        "      mean_rewards[rep, i] = run_experiment(grid, agent, number_of_steps)\n",
        "      agent.set_epsilon(0.)\n",
        "      agent._step_size = 0.\n",
        "      greedy_rewards[rep, i] = run_experiment(grid, agent, number_of_steps//10)\n",
        "      del env\n",
        "      del agent\n",
        "\n",
        "  plt.subplot(1, 2, 1)\n",
        "  plot_rewards(parameter_values, mean_rewards, color)\n",
        "  plt.yticks=([0, 1], [0, 1])\n",
        "  plt.ylabel(\"Average reward over first {} steps\".format(number_of_steps), size=12)\n",
        "  plt.xlabel(parameter_name, size=12)\n",
        "\n",
        "  plt.subplot(1, 2, 2)\n",
        "  plot_rewards(parameter_values, greedy_rewards, color)\n",
        "  plt.yticks=([0, 1], [0, 1])\n",
        "  plt.ylabel(\"Final rewards, with greedy policy\".format(number_of_steps), size=12)\n",
        "  plt.xlabel(parameter_name, size=12)\n",
        "  \n",
        "def random_policy(q):\n",
        "  return np.random.randint(4)\n",
        "\n",
        "def epsilon_greedy(q_values, epsilon):\n",
        "  if epsilon < np.random.random():\n",
        "    return np.argmax(q_values)\n",
        "  else:\n",
        "    return np.random.randint(np.array(q_values).shape[-1])\n",
        "\n",
        "def plot_greedy_policy(grid, q):\n",
        "  action_names = [r\"$\\uparrow$\",r\"$\\rightarrow$\", r\"$\\downarrow$\", r\"$\\leftarrow$\"]\n",
        "  greedy_actions = np.argmax(q, axis=2)\n",
        "  grid.plot_grid()\n",
        "  for i in range(9):\n",
        "    for j in range(10):\n",
        "      action_name = action_names[greedy_actions[i,j]]\n",
        "      plt.text(j, i, action_name, ha='center', va='center')\n",
        "\n",
        "def plot_greedy_policy_v2(grid, pi):\n",
        "  action_names = [r\"$\\uparrow$\",r\"$\\rightarrow$\", r\"$\\downarrow$\", r\"$\\leftarrow$\"]\n",
        "  greedy_actions = np.argmax(pi, axis=2)\n",
        "  grid.plot_grid()\n",
        "  h, w = grid._layout.shape\n",
        "  for y in range(2, h-2):\n",
        "    for x in range(2, w-2):\n",
        "      action_name = action_names[greedy_actions[y-2, x-2]]\n",
        "      plt.text(x, y, action_name, ha='center', va='center')"
      ],
      "execution_count": null,
      "outputs": []
    },
    {
      "cell_type": "markdown",
      "metadata": {
        "id": "sC3M-IfEq2bI"
      },
      "source": [
        "# Part 1: Planning [35 marks]"
      ]
    },
    {
      "cell_type": "markdown",
      "metadata": {
        "id": "nxVB3cCccYO-"
      },
      "source": [
        "## 1.1: Implement Models"
      ]
    },
    {
      "cell_type": "markdown",
      "metadata": {
        "id": "j37IiBzpcdB4"
      },
      "source": [
        "### Q 1.1.1 [3 marks]\n",
        "\n",
        "Implement a trainable **tabular model** of the environment.\n",
        "\n",
        "The model should implement: \n",
        "* a *next_state* method, taking a state and action and returning the next state in the environment.\n",
        "* a *reward* method, taking a state and action and returning the immediate reward associated to executing that action in that state.\n",
        "* a *discount* method, taking a state and action and returning the discount associated to executing that action in that state.\n",
        "* a *transition* method, taking a state and an action and returning both the next state and the reward associated to that transition.\n",
        "* a *update* method, taking a full transition *(state, action, reward, next_state)* and updating the model predictions.\n",
        "\n",
        "Given that the environment is deterministic and tabular the model will reduce to a simple lookup table."
      ]
    },
    {
      "cell_type": "code",
      "metadata": {
        "id": "qzvPua0Sca2o"
      },
      "source": [
        "class TabularModel(object):\n",
        "\n",
        "  def __init__(self, number_of_states, number_of_actions):\n",
        "    self.states = np.zeros((number_of_states, number_of_actions))\n",
        "    self.rewards = np.zeros((number_of_states, number_of_actions))\n",
        "    self.discounts = np.zeros((number_of_states, number_of_actions))\n",
        "\n",
        "  def next_state(self, s, a):\n",
        "    return self.states[s,a]\n",
        "  \n",
        "  def reward(self, s, a):\n",
        "    return self.rewards[s,a]\n",
        "\n",
        "  def discount(self, s, a):\n",
        "    return self.discounts[s,a]\n",
        "  \n",
        "  def transition(self, state, action):\n",
        "    return (\n",
        "        self.reward(state, action), \n",
        "        self.discount(state, action),\n",
        "        self.next_state(state, action))\n",
        "  \n",
        "  def update(self, state, action, reward, discount, next_state):\n",
        "    self.states[state, action] = next_state\n",
        "    self.rewards[state, action] = reward\n",
        "    self.discounts[state, action] = discount"
      ],
      "execution_count": null,
      "outputs": []
    },
    {
      "cell_type": "markdown",
      "metadata": {
        "id": "N6p8hNTLcyAK"
      },
      "source": [
        "### Q 1.1.2 [3 marks]\n",
        "\n",
        "Implement a trainable **linear model** of the environment.\n",
        "\n",
        "The Model should implement: \n",
        "* a *next_state* method, taking a state and action and returning the predicted next state in the environment.\n",
        "* a *reward* method, taking a state and action and returning the predicted immediate reward associated to executing that action in that state.\n",
        "* a *discount* method, taking a state and action and returning the predicted discount associated to executing that action in that state.\n",
        "* a *transition* method, taking a state and an action and returning both the next state and the reward associated to that transition.\n",
        "* a *update* method, taking a full transition *(state, action, reward, next_state)* and updating the model (in its reward, discount and next_state component)\n",
        "\n",
        "For each selected action, the predicted reward $r'$, discount $\\gamma'$ and next state $\\mathbf{s}'$ will all be a linear function of the current state $\\mathbf{s}$.\n",
        "* $\\mathbf{s}' = \\mathbf{M}_a \\mathbf{s}$\n",
        "* $r' = (\\mathbf{m}^r_a)^{\\top} \\mathbf{s}$\n",
        "* $\\gamma' = (\\mathbf{m}^{\\gamma}_a)^{\\top} \\mathbf{s}$\n",
        "\n",
        "Where $\\mathbf{M}_a$ is a matrix of shape $(\\text{number_of_features}, \\text{number_of_features})$, $\\mathbf{m}^r_a$ and $\\mathbf{m}^{\\gamma}_a$ are vectors of shape $(\\text{number_of_features},)$\n",
        "\n",
        "The parameters of all these linear transformations must be trained by stochastic gradient descent. \n",
        "\n",
        "Write down the update to the parameters of the models and implement the update in the model below.\n"
      ]
    },
    {
      "cell_type": "code",
      "metadata": {
        "id": "ab--TR-5c98N"
      },
      "source": [
        "class LinearModel(object):\n",
        "\n",
        "  def __init__(self, number_of_features, number_of_actions):\n",
        "    self.M_a = np.zeros((number_of_actions, number_of_features, number_of_features))\n",
        "    self.m_r = np.zeros((number_of_actions, number_of_features))\n",
        "    self.m_gamma = np.zeros((number_of_actions, number_of_features))\n",
        "\n",
        "  def next_state(self, s, a):\n",
        "    return self.M_a[a]@s\n",
        "  \n",
        "  def reward(self, s, a):\n",
        "    return self.m_r[a]@s\n",
        "\n",
        "  def discount(self, s, a):\n",
        "    return self.m_gamma[a]@s\n",
        "\n",
        "  def transition(self, state, action):\n",
        "    return (\n",
        "        self.reward(state, action),\n",
        "        self.discount(state, action),\n",
        "        self.next_state(state, action))\n",
        "\n",
        "  def update(self, state, action, reward, discount, next_state, step_size=0.1):\n",
        "    self.M_a[action] -= step_size * -np.outer(next_state - self.M_a[action]@state, state)\n",
        "    self.m_r[action] -= step_size * -state * (reward - self.m_r[action]@state)\n",
        "    self.m_gamma[action] -= step_size * -state * (discount - self.m_gamma[action]@state)"
      ],
      "execution_count": null,
      "outputs": []
    },
    {
      "cell_type": "markdown",
      "metadata": {
        "id": "fzpb_dGVjT0O"
      },
      "source": [
        "## 1.2: Implement Agents\n",
        "\n",
        "We are going to implement 4 agent:\n",
        "- Tabular Q-learning with Experience Replay\n",
        "- Tabular Dyna-Q with a tabular model\n",
        "- Linear Q-learning with Experience Replay\n",
        "- Linear Dyna-Q with a linear model\n",
        "\n",
        "All agents you implement in this section must share the agent interface below:\n",
        "\n",
        "#### `__init__(self, number_of_actions, number_of_states, initial_observation)`:\n",
        "The constructor will provide the agent the number of actions, number of states, and the initial observation. You can get such initial observation by instatiating an environment (e.g., `grid = Grid()`), and then calling `grid.get_obs()`.\n",
        "\n",
        "#### `step(self, reward, discount, next_observation)`:\n",
        "The step should update the internal values, and return a new action to take. When the discount is zero ($\\text{discount} = \\gamma = 0$), the `next_observation` will be the initial observation of the next episode.  One shouldn't bootstrap on the value of this state, which can simply be guaranteed when using \"$\\gamma \\cdot v(\\text{next_observation})$\" in the update, because $\\gamma = 0$.  So, the end of an episode can be seamlessly handled with the same step function. Note that to perform updates within the `step` function you typically need to store the previous state and/or action: you may set such previous action to 0 in the constructor for consumption in the first step of the first episode of the agent's lifetime.\n",
        " \n",
        "#### `q_values()`:\n",
        "For tabular agents **only**. This method must return a matrix of Q values of shape: (`number_of_states`, `number_of_actions`)\n",
        "\n",
        "#### `q_values(state)`:\n",
        "For agents with function approximation **only**. This method must return an array of Q values of shape: (`number_of_actions`)\n"
      ]
    },
    {
      "cell_type": "markdown",
      "metadata": {
        "id": "omzJxb5ds0Iq"
      },
      "source": [
        "### Q 1.2.1 [3 marks]\n",
        "\n",
        "Implement an agent that uses **Experience Replay** to learn action values, at each step:\n",
        "* select actions randomly\n",
        "* accumulate each observed transition *(s, a, r, g, s')* in a *replay buffer*,\n",
        "* apply an online Q-learning update with the most recently observed transition,\n",
        "* apply multiple Q-learning updates based on transitions sampled (uniformly) from the *replay buffer* (in addition to the online updates).\n",
        "\n",
        "So, the `step` function of the agent will, conceptually, look as follows:\n",
        "\n",
        "1. Append most recent observed transition $(S_t, A_t, R_{t+1}, \\gamma, S_{t+1})$ to replay buffer\n",
        "\n",
        "1. Update values: $Q(S_t, A_t)$ with Q-learning, using transition $(S_t, A_t, R_{t+1}, \\gamma, S_{t+1})$ \n",
        "\n",
        "1. Loop repeat n times:\n",
        "\n",
        "  1. Sample $S, A, R, \\gamma, S'$ from replay\n",
        "  \n",
        "  1. Update values: $Q(S, A)$ with Q-learning, using transition $(S, A, R, \\gamma, S')$ "
      ]
    },
    {
      "cell_type": "code",
      "metadata": {
        "id": "TB9e_reb2pJX"
      },
      "source": [
        " class ExperienceQ(object):\n",
        "\n",
        "  def __init__(\n",
        "      self, number_of_states, number_of_actions, initial_state, \n",
        "      behaviour_policy, num_offline_updates=0, step_size=0.1):\n",
        "    self._state = initial_state\n",
        "    self._action = 0\n",
        "    self._step_size = step_size\n",
        "    self._replay = []\n",
        "    self._q = np.zeros((number_of_states, number_of_actions))\n",
        "    self._n = num_offline_updates\n",
        "    self._behaviour_policy = behaviour_policy\n",
        "\n",
        "\n",
        "    \n",
        "  @property\n",
        "  def q_values(self):\n",
        "    return self._q\n",
        "\n",
        "  def step(self, reward, discount, next_state):\n",
        "    s = self._state\n",
        "    a = self._action\n",
        "    r = reward\n",
        "    g = discount\n",
        "    next_s = next_state\n",
        "    self._replay.append((s, a, r, g, next_s))\n",
        "    self._q[s, a] += self._step_size*(r + g*np.max(self._q[next_s]) - self._q[s,a])\n",
        "    for i in range(self._n):\n",
        "      idx = np.random.randint(len(self._replay))\n",
        "      (S,A,R,G,next_S) = self._replay[idx]\n",
        "      self._q[S, A] += self._step_size*(R + G*np.max(self._q[next_S]) - self._q[S,A])\n",
        "    self._action = self._behaviour_policy(self._q[next_s])\n",
        "    self._state = next_s\n",
        "    return self._action"
      ],
      "execution_count": null,
      "outputs": []
    },
    {
      "cell_type": "markdown",
      "metadata": {
        "id": "MKfA7ifHvO-M"
      },
      "source": [
        "\n",
        "### Q 1.2.2 [3 marks]\n",
        "\n",
        "Implement an agent that uses **Dyna-Q** to learn action values.\n",
        "* select actions randomly\n",
        "* accumulate all observed transitions *(s, a)* in the environment in a *replay buffer*,\n",
        "* apply an online Q-learning to Q-value\n",
        "* apply an update to the *model* based on the latest transition\n",
        "* apply multiple Q-learning updates based on transitions *(s, a, model.reward(s), model.next_state(s))* for some previous state and action pair *(s, a)*.\n",
        "\n",
        "So, the `step` function conceptually looks as follows:\n",
        "1. Append most recent observed transition $(S_t, A_t)$ to replay buffer\n",
        "\n",
        "1. Update values: $Q(S_t, A_t)$ with Q-learning, using transition $(S_t, A_t, R_{t+1}, \\gamma, S_{t+1})$\n",
        "\n",
        "1. Update model: $M(S_t, A_t)$, using transition $(S_t, A_t, R_{t+1}, \\gamma, S_{t+1})$\n",
        "\n",
        "1. Loop repeat n times:\n",
        "\n",
        "  1. Sample $S, A$ from replay\n",
        "  \n",
        "  1. Generate $R, \\gamma, S' = M(S, A)$\n",
        "  \n",
        "  1. Update values: $Q(S, A)$ with Q-learning, using transition $(S, A, R, \\gamma, S')$ "
      ]
    },
    {
      "cell_type": "code",
      "metadata": {
        "id": "WdJgVK6_3Q3-"
      },
      "source": [
        "class DynaQ(object):\n",
        "\n",
        "  def __init__(\n",
        "      self, number_of_states, number_of_actions, initial_state, \n",
        "      behaviour_policy, num_offline_updates=0, step_size=0.1):\n",
        "    self._state = initial_state\n",
        "    self._action = 0\n",
        "    self._step_size = step_size\n",
        "    self._replay = []\n",
        "    self._q = np.zeros((number_of_states, number_of_actions))\n",
        "    self._n = num_offline_updates\n",
        "    self._behaviour_policy = behaviour_policy\n",
        "    self._model = np.zeros((number_of_states, number_of_actions,2))\n",
        "    \n",
        "  @property\n",
        "  def q_values(self):\n",
        "    return self._q\n",
        "\n",
        "  def step(self, reward, discount, next_state):\n",
        "    s = self._state\n",
        "    a = self._action\n",
        "    r = reward\n",
        "    g = discount\n",
        "    next_s = next_state\n",
        "    self._replay.append((s, a))\n",
        "    self._q[s, a] += self._step_size*(r + g*np.max(self._q[next_s]) - self._q[s,a])\n",
        "    self._model[s,a] = (r,next_s)\n",
        "    for i in range(self._n):\n",
        "      idx = np.random.randint(len(self._replay))\n",
        "      (S,A) = self._replay[idx]\n",
        "      R, next_S = self._model[S,A]\n",
        "      self._q[S, A] += self._step_size*(R + g*np.max(self._q[int(next_S)]) - self._q[S,A])\n",
        "    self._action = self._behaviour_policy(self._q[next_s])\n",
        "    self._state = next_s\n",
        "    return self._action"
      ],
      "execution_count": null,
      "outputs": []
    },
    {
      "cell_type": "markdown",
      "metadata": {
        "id": "ra01mmV5VPgm"
      },
      "source": [
        "### Q 1.2.3 [2 marks]\n",
        "\n",
        "Implement an agent that uses **Experience Replay** to learn action values as a **linear function approximation** over a given set of features.\n",
        "\n",
        "Learn the value estimates via online stochastic gradient descent.  The observed `state` will now be a vector of length `number_of_features`, and the value estimate will be $w_t^\\top x_t$, where $w_t$ are the current weights and $x_t$ is the observed (agent) state at time $t$."
      ]
    },
    {
      "cell_type": "code",
      "metadata": {
        "id": "XOy_bpVa3j6V"
      },
      "source": [
        "class LinearExperienceQ(ExperienceQ):\n",
        "\n",
        "  def __init__(\n",
        "      self, number_of_features, number_of_actions, *args, **kwargs):\n",
        "    super(LinearExperienceQ, self).__init__(\n",
        "        number_of_actions=number_of_actions, *args, **kwargs)\n",
        "    self._w = np.zeros((number_of_actions, number_of_features))\n",
        "    self._number_of_actions = number_of_actions\n",
        "    self._number_of_features = number_of_features\n",
        "\n",
        "  def q(self, state):\n",
        "    return self._w@state\n",
        "\n",
        "  def step(self, reward, discount, next_state):\n",
        "    s = self._state\n",
        "    a = self._action\n",
        "    r = reward\n",
        "    g = discount\n",
        "    next_s = next_state\n",
        "    self._replay.append((s, a, r, g, next_s))\n",
        "    i = np.zeros((self._number_of_actions, 1))\n",
        "    i[a] = 1\n",
        "    self._w += self._step_size*(r + g*np.max(self._w@next_s) - (self._w@s)[a])*(i@s.reshape(1,len(s)))\n",
        "    for i in range(self._n):\n",
        "      idx = np.random.randint(len(self._replay))\n",
        "      (S,A,R,G,next_S) = self._replay[idx]\n",
        "      i = np.zeros((self._number_of_actions, 1))\n",
        "      i[A] = 1\n",
        "      self._w += self._step_size*(R + G*np.max(self._w@next_S) - (self._w@S)[A])*(i@S.reshape(1,len(S)))\n",
        "    self._action = self._behaviour_policy(self.q(next_s))\n",
        "    self._state = next_s\n",
        "    return self._action"
      ],
      "execution_count": null,
      "outputs": []
    },
    {
      "cell_type": "markdown",
      "metadata": {
        "id": "hlu3YPGAO9ss"
      },
      "source": [
        "### Q 1.2.4 [3 marks]\n",
        "\n",
        "Implement an agent that uses **Dyna-Q** that uses a **linear function approximation** to represent values as well as for the model of the environment.\n",
        "\n",
        "Represent and learn both the **transition model** and the **reward model** as linear, action-dependent transformations of the given set of features.  The transition and reward models should be represented separately.  Implement separate models for each action (instead of, e.g., passing a one-hot identifier of the action in).\n",
        "\n",
        "Learn value estimates, transition model and reward model via online stochastic gradient descent."
      ]
    },
    {
      "cell_type": "code",
      "metadata": {
        "id": "1RxFwgIU39dI"
      },
      "source": [
        "class LinearDynaQ(DynaQ):\n",
        "\n",
        "  def __init__(self, number_of_features, number_of_actions, model_step_size=0.1,\n",
        "               *args, **kwargs):\n",
        "    super(LinearDynaQ, self).__init__(\n",
        "        number_of_actions=number_of_actions, *args, **kwargs)\n",
        "    self._w = np.zeros((number_of_actions, number_of_features))\n",
        "    self._number_of_actions = number_of_actions\n",
        "    self._number_of_features = number_of_features\n",
        "    self._model_step_size = model_step_size\n",
        "    self._model = LinearModel(number_of_features,number_of_actions)\n",
        "\n",
        "  def q(self, state):\n",
        "    return self._w@state\n",
        "\n",
        "  def step(self, reward, discount, next_state):\n",
        "    s = self._state\n",
        "    a = self._action\n",
        "    r = reward\n",
        "    g = discount\n",
        "    next_s = next_state\n",
        "    self._replay.append((s, a))\n",
        "    self._w[a] += self._model_step_size*(r + g*np.max(self._w@next_s) - (self._w@s)[a])*s\n",
        "    self._model.update(s,a,r,g,next_s,self._model_step_size)\n",
        "    for i in range(self._n):\n",
        "      idx = np.random.randint(len(self._replay))\n",
        "      S,A = self._replay[idx]\n",
        "      R, G, next_S = self._model.transition(S,A)\n",
        "      self._w[A] += self._step_size*(R + G*np.max(self._w@next_S) - (self._w@S)[A])*S\n",
        "    self._action = self._behaviour_policy(self.q(next_s))\n",
        "    self._state = next_s\n",
        "    return self._action"
      ],
      "execution_count": null,
      "outputs": []
    },
    {
      "cell_type": "markdown",
      "metadata": {
        "id": "1jZsPzCmDxAh"
      },
      "source": [
        "## 1.3: Analyse Results\n",
        "\n",
        "You will have to analyse experiments that evaluate each of these 5 agents in various settings, and in terms of different metrics.\n",
        "\n",
        "- Tabular learning: data efficiency\n",
        "- Tabular learning: computational efficiency\n",
        "- Linear function approximation\n",
        "- Learning in non-stationary environments"
      ]
    },
    {
      "cell_type": "markdown",
      "metadata": {
        "id": "qekcmj4R5Y6J"
      },
      "source": [
        "### Run data efficiency experiments\n",
        "\n",
        "*Online Q-learning*\n",
        "\n",
        "* $\\text{number_of_steps}$ = $2000$ and $\\text{num_offline_updates}$ = $0$\n",
        "\n",
        "*Experience Replay*\n",
        "\n",
        "* $\\text{number_of_steps}$ = $2000$ and $\\text{num_offline_updates}$ = $30$\n",
        "\n",
        "*DynaQ*\n",
        "\n",
        "* $\\text{number_of_steps}$ = $2000$ and $\\text{num_offline_updates}$ = $30$"
      ]
    },
    {
      "cell_type": "code",
      "metadata": {
        "id": "Iix-yw-MKS4Y",
        "colab": {
          "base_uri": "https://localhost:8080/",
          "height": 476
        },
        "outputId": "ce755e13-bf29-44ab-dbfe-a8dd618bb4f8"
      },
      "source": [
        "# Online Q\n",
        "grid = Grid()\n",
        "agent = ExperienceQ(\n",
        "  grid._layout.size, 4, grid.get_obs(),\n",
        "  random_policy, num_offline_updates=0, step_size=0.1)\n",
        "run_experiment(grid, agent, int(2e3))\n",
        "q = agent.q_values.reshape(grid._layout.shape + (4,))\n",
        "plot_action_values(q)"
      ],
      "execution_count": null,
      "outputs": [
        {
          "output_type": "display_data",
          "data": {
            "image/png": "[encoded data removed]",
            "text/plain": [
              "<Figure size 576x576 with 10 Axes>"
            ]
          },
          "metadata": {
            "tags": [],
            "needs_background": "light"
          }
        }
      ]
    },
    {
      "cell_type": "code",
      "metadata": {
        "id": "ASml5uAeIl4A",
        "colab": {
          "base_uri": "https://localhost:8080/",
          "height": 476
        },
        "outputId": "d6988010-ec52-4348-f86a-47cce13bd0fd"
      },
      "source": [
        "# Experience Replay\n",
        "grid = Grid()\n",
        "agent = ExperienceQ(\n",
        "  grid._layout.size, 4, grid.get_obs(),\n",
        "  random_policy, num_offline_updates=30, step_size=0.1)\n",
        "run_experiment(grid, agent, int(2e3))\n",
        "q = agent.q_values.reshape(grid._layout.shape + (4,))\n",
        "plot_action_values(q)"
      ],
      "execution_count": null,
      "outputs": [
        {
          "output_type": "display_data",
          "data": {
            "image/png": "[encoded data removed]",
            "text/plain": [
              "<Figure size 576x576 with 10 Axes>"
            ]
          },
          "metadata": {
            "tags": [],
            "needs_background": "light"
          }
        }
      ]
    },
    {
      "cell_type": "code",
      "metadata": {
        "id": "YG-_cjw-wRzm",
        "colab": {
          "base_uri": "https://localhost:8080/",
          "height": 476
        },
        "outputId": "a750ce06-0b27-4b3e-87b9-3d0dcad1bc26"
      },
      "source": [
        "# DynaQ\n",
        "grid = Grid()\n",
        "agent = DynaQ(\n",
        "  grid._layout.size, 4, grid.get_obs(),\n",
        "  random_policy, num_offline_updates=30, step_size=0.1)\n",
        "run_experiment(grid, agent, int(2e3))\n",
        "q = agent.q_values.reshape(grid._layout.shape + (4,))\n",
        "plot_action_values(q)"
      ],
      "execution_count": null,
      "outputs": [
        {
          "output_type": "display_data",
          "data": {
            "image/png": "[encoded data removed]",
            "text/plain": [
              "<Figure size 576x576 with 10 Axes>"
            ]
          },
          "metadata": {
            "tags": [],
            "needs_background": "light"
          }
        }
      ]
    },
    {
      "cell_type": "markdown",
      "metadata": {
        "id": "teXnSHqjGfoT"
      },
      "source": [
        "### Q 1.3.1 [3 marks]\n",
        "\n",
        "In the experiments above, how do the learnt value estimates differ between the online Q-learning, ExperienceReplay, and Dyna Q agents?\n",
        "\n",
        "Explain meaningful differences in at most 5 sentences.\n",
        "\n",
        "> The ExperienceReplay and Dyna Q agents produce far better learnt value estimates than the online Q-learning value, shown by the Online Q-learning agent's failure to differentiate between the value of squares on and off the grid. The ExperienceReplay agent learns the value estimates much better, providing significantly higher values for squares on the grid than for those off it and providing the highest value to squares around the goal. This is because ExperienceReplay agent stores the experience separately and is able to make more efficient use of this experience by learning with it multiple times and is able to converge faster when training a function approximator. The Dyna Q agent is also much better, providing slightly higher values for squares on the grid than off it and providing the highest values for those squares nearest the goal. This is again due to Dyna Q's ability to learn from experience, as it stores both the state and action, so is able to learn faster than online Q-learning due to its ability to learn from experience."
      ]
    },
    {
      "cell_type": "markdown",
      "metadata": {
        "id": "ujZNsXFY52fi"
      },
      "source": [
        "### Run experiments matching computational cost\n",
        "\n",
        "*Online Q-learning*\n",
        "\n",
        "* $\\text{number_of_steps}$ = $62,000$ and $\\text{num_offline_updates}$ = $0$\n",
        "\n",
        "*ExperienceReplay*\n",
        "\n",
        "* $\\text{number_of_steps}$ = $2000$ and $\\text{num_offline_updates}$ = $30$\n",
        "\n",
        "*DynaQ*\n",
        "\n",
        "* $\\text{number_of_steps}$ = $2000$ and $\\text{num_offline_updates}$ = $30$"
      ]
    },
    {
      "cell_type": "code",
      "metadata": {
        "id": "OVVWtGoUwiAe",
        "colab": {
          "base_uri": "https://localhost:8080/",
          "height": 476
        },
        "outputId": "da1669d8-29ed-4969-c7b1-70e134e774ef"
      },
      "source": [
        "# OnlineQ\n",
        "grid = Grid()\n",
        "agent = ExperienceQ(\n",
        "  grid._layout.size, 4, grid.get_obs(),\n",
        "  random_policy, num_offline_updates=0, step_size=0.1)\n",
        "run_experiment(grid, agent, int(62e3))\n",
        "q = agent.q_values.reshape(grid._layout.shape + (4,))\n",
        "plot_action_values(q)"
      ],
      "execution_count": null,
      "outputs": [
        {
          "output_type": "display_data",
          "data": {
            "image/png": "[encoded data removed]",
            "text/plain": [
              "<Figure size 576x576 with 10 Axes>"
            ]
          },
          "metadata": {
            "tags": [],
            "needs_background": "light"
          }
        }
      ]
    },
    {
      "cell_type": "code",
      "metadata": {
        "id": "PuoUs8xVxady",
        "colab": {
          "base_uri": "https://localhost:8080/",
          "height": 476
        },
        "outputId": "bb459ecb-d416-421f-c737-107b002edf46"
      },
      "source": [
        "# Experience Replay\n",
        "grid = Grid()\n",
        "agent = ExperienceQ(\n",
        "  grid._layout.size, 4, grid.get_obs(),\n",
        "  random_policy, num_offline_updates=30, step_size=0.1)\n",
        "run_experiment(grid, agent, int(2e3))\n",
        "q = agent.q_values.reshape(grid._layout.shape + (4,))\n",
        "plot_action_values(q)"
      ],
      "execution_count": null,
      "outputs": [
        {
          "output_type": "display_data",
          "data": {
            "image/png": "[encoded data removed]",
            "text/plain": [
              "<Figure size 576x576 with 10 Axes>"
            ]
          },
          "metadata": {
            "tags": [],
            "needs_background": "light"
          }
        }
      ]
    },
    {
      "cell_type": "code",
      "metadata": {
        "id": "hDOW4dd221L6",
        "colab": {
          "base_uri": "https://localhost:8080/",
          "height": 476
        },
        "outputId": "50b638b9-be6b-41ef-b2e1-4c6f29e46604"
      },
      "source": [
        "# DynaQ\n",
        "grid = Grid()\n",
        "agent = DynaQ(\n",
        "  grid._layout.size, 4, grid.get_obs(),\n",
        "  random_policy, num_offline_updates=30, step_size=0.1)\n",
        "run_experiment(grid, agent, int(2e3))\n",
        "q = agent.q_values.reshape(grid._layout.shape + (4,))\n",
        "plot_action_values(q)"
      ],
      "execution_count": null,
      "outputs": [
        {
          "output_type": "display_data",
          "data": {
            "image/png": "[encoded data removed]",
            "text/plain": [
              "<Figure size 576x576 with 10 Axes>"
            ]
          },
          "metadata": {
            "tags": [],
            "needs_background": "light"
          }
        }
      ]
    },
    {
      "cell_type": "markdown",
      "metadata": {
        "id": "nlFwZeKjLFEq"
      },
      "source": [
        "What if sampling from the environment is cheap and we don't care about data efficiency but only care about the amount of computation we use? \n",
        "\n",
        "The experiments directly above are the same as those above question 1.3.1, except that we ran the experiments for the same number of **total updates**, rather than the same number of **steps in the environment**, therefore using more data for the online Q-learning algorithm which *only* updates from real data.\n",
        "\n",
        "Q 1.3.2 [3 marks]\n",
        "\n",
        "How do the learnt values, and the relative performances, change, compared to the experiment above question 1.3.1?  Explain in at most 5 sentences.\n",
        "\n",
        "> The learnt values and relative performances change such that Online Q-Learning is much improved since it has much more real data to learn from than ExperienceReplay or Dyna Q. The relative performances and learnt values of the ExperienceReplay and Dyna Q agents do not change with respect to the previous experiment, since the previous experiment also consisted of 2000 steps and 30 offline updates. However, since the Online Q-Learning agent carrys out 62000 steps instead of just 2000, it is able to improve its learnt values and relative performance as it is able to learn from much more real data."
      ]
    },
    {
      "cell_type": "markdown",
      "metadata": {
        "id": "GBLluo2AXMsH"
      },
      "source": [
        "### Run experiments with linear function approximation\n",
        "\n",
        "We will now use the $\\text{FeatureGrid}$ domain, and consider the same 3 algorithms in the context of linear function approximation.\n",
        "\n",
        "*Online Q-learning*\n",
        "\n",
        "* $\\text{number_of_steps}$ = $100,000$ and $\\text{num_offline_updates}$ = $0$\n",
        "\n",
        "*ExperienceReplay*\n",
        "\n",
        "* $\\text{number_of_steps}$ = $100,000$ and $\\text{num_offline_updates}$ = $10$\n",
        "\n",
        "*DynaQ*\n",
        "\n",
        "* $\\text{number_of_steps}$ = $100,000$ and $\\text{num_offline_updates}$ = $10$"
      ]
    },
    {
      "cell_type": "code",
      "metadata": {
        "id": "zwlRPm1uXMyv",
        "colab": {
          "base_uri": "https://localhost:8080/",
          "height": 660
        },
        "outputId": "e0a60ccf-9409-438a-dab5-b9e0a7e0b231"
      },
      "source": [
        "# OnlineQ\n",
        "grid = FeatureGrid()\n",
        "\n",
        "agent = LinearExperienceQ(\n",
        "  number_of_features=grid.number_of_features, number_of_actions=4,\n",
        "  number_of_states=grid._layout.size, initial_state=grid.get_obs(),\n",
        "  num_offline_updates=0, step_size=0.01, behaviour_policy=random_policy)\n",
        "run_experiment(grid, agent, int(1e5))\n",
        "q = np.reshape(\n",
        "    np.array([agent.q(grid.int_to_features(i))\n",
        "              for i in range(grid.number_of_states)]),\n",
        "    [grid._layout.shape[0], grid._layout.shape[1], 4])\n",
        "plot_action_values(q)\n",
        "plot_greedy_policy(grid, q)"
      ],
      "execution_count": null,
      "outputs": [
        {
          "output_type": "display_data",
          "data": {
            "image/png": "[encoded data removed]",
            "text/plain": [
              "<Figure size 576x576 with 10 Axes>"
            ]
          },
          "metadata": {
            "tags": [],
            "needs_background": "light"
          }
        },
        {
          "output_type": "display_data",
          "data": {
            "image/png": "[encoded data removed]",
            "text/plain": [
              "<Figure size 216x216 with 1 Axes>"
            ]
          },
          "metadata": {
            "tags": []
          }
        }
      ]
    },
    {
      "cell_type": "code",
      "metadata": {
        "id": "Wb6XeKzXcIsi",
        "colab": {
          "base_uri": "https://localhost:8080/",
          "height": 660
        },
        "outputId": "995f4593-87bd-4e14-aa14-470a7b5fb53e"
      },
      "source": [
        "# Experience Replay\n",
        "grid = FeatureGrid()\n",
        "\n",
        "agent = LinearExperienceQ(\n",
        "  number_of_features=grid.number_of_features, number_of_actions=4,\n",
        "  number_of_states=grid._layout.size, initial_state=grid.get_obs(),\n",
        "  num_offline_updates=10, step_size=0.01, behaviour_policy=random_policy)\n",
        "run_experiment(grid, agent, int(1e5))\n",
        "q = np.reshape(\n",
        "    np.array([agent.q(grid.int_to_features(i))\n",
        "              for i in range(grid.number_of_states)]),\n",
        "    [grid._layout.shape[0], grid._layout.shape[1], 4])\n",
        "plot_action_values(q)\n",
        "plot_greedy_policy(grid, q)"
      ],
      "execution_count": null,
      "outputs": [
        {
          "output_type": "display_data",
          "data": {
            "image/png": "[encoded data removed]",
            "text/plain": [
              "<Figure size 576x576 with 10 Axes>"
            ]
          },
          "metadata": {
            "tags": [],
            "needs_background": "light"
          }
        },
        {
          "output_type": "display_data",
          "data": {
            "image/png": "[encoded data removed]",
            "text/plain": [
              "<Figure size 216x216 with 1 Axes>"
            ]
          },
          "metadata": {
            "tags": []
          }
        }
      ]
    },
    {
      "cell_type": "code",
      "metadata": {
        "id": "DVDRVknH1MXw",
        "colab": {
          "base_uri": "https://localhost:8080/",
          "height": 660
        },
        "outputId": "f8ef2ae0-aa81-449f-9937-9d519a2a26a0"
      },
      "source": [
        "# LinearDynaQ\n",
        "grid = FeatureGrid()\n",
        "\n",
        "agent = LinearDynaQ(\n",
        "  number_of_features=grid.number_of_features, \n",
        "  number_of_actions=4,\n",
        "  number_of_states=grid._layout.size, \n",
        "  initial_state=grid.get_obs(),\n",
        "  num_offline_updates=10, \n",
        "  step_size=0.01,\n",
        "  behaviour_policy=random_policy)\n",
        "\n",
        "run_experiment(grid, agent, int(1e5))\n",
        "q = np.reshape(\n",
        "    np.array([agent.q(grid.int_to_features(i))\n",
        "              for i in range(grid.number_of_states)]),\n",
        "    [grid._layout.shape[0], grid._layout.shape[1], 4])\n",
        "plot_action_values(q)\n",
        "plot_greedy_policy(grid, q)"
      ],
      "execution_count": null,
      "outputs": [
        {
          "output_type": "display_data",
          "data": {
            "image/png": "[encoded data removed]",
            "text/plain": [
              "<Figure size 576x576 with 10 Axes>"
            ]
          },
          "metadata": {
            "tags": [],
            "needs_background": "light"
          }
        },
        {
          "output_type": "display_data",
          "data": {
            "image/png": "[encoded data removed]",
            "text/plain": [
              "<Figure size 216x216 with 1 Axes>"
            ]
          },
          "metadata": {
            "tags": []
          }
        }
      ]
    },
    {
      "cell_type": "markdown",
      "metadata": {
        "id": "1ese1lc0yNFU"
      },
      "source": [
        "### Q 1.3.3 [3 marks]\n",
        "\n",
        "How do the value estimates learnt with function approximation differ from those learnt in the tabular setting, as in the experiment above question 1.3.2?\n",
        "\n",
        "Explain the results in at most 5 sentences.\n",
        "\n",
        "> The value estimates learnt with the function approximation are far less exact and accurate than those learnt from the tabular, due to it being an approximation of the functions. This is to be expected as the tabular model is more exact and works efficiently for simple models, however it suffers from the curse of dimensionality when expanded to larger state spaces. Even with 100,000 steps, the Online Q-Learning agent only learns a very small value increase for the goal location and start location, with a low value learnt for the middle hole. The Linear Experience Q agent learns the value of the goal location well like the Experience Replay agent, but places a high value along the top edge which has a low reward, where the Experience Replay agent places a low value. The Linear Dyna Q agent again learns the value of the goal location well like the Dyna Q agent, but places a high value along the top edge which has a low reward, where the Dyna Q agent places a low value.\n",
        "\n",
        "### Q 1.3.4 [3 marks]\n",
        "\n",
        "Inspect the policies derived by training agents with linear function approximation on `FeatureGrid'. \n",
        "\n",
        "How do they compare to the optimal policy?\n",
        "\n",
        "> The policies derived however are much better than the values learnt, with the Linear Experience Q and Linear Dyna Q producing policies that will most likely take you from the start to the goal. The Online Q-Learning agent produces a policy which is symmetric in that it leads from the start back to the start, unless you are on the other side of the middle hole, in which case you will be led to the goal. The policies derived from the Linear Experience Q and the Linear Dyna Q agent are very close to the optimal policy, the only significant difference being that the square to the left of the goal should have a right arrow back to the goal.  "
      ]
    },
    {
      "cell_type": "markdown",
      "metadata": {
        "id": "arP0Nf0XUGrB"
      },
      "source": [
        "### Run experiments in a non stationary environments\n",
        "\n",
        "We now consider a non-stationary setting where after `pretrain_steps` in the environment, the goal is moved to a new location (from the top-right of the grid to the bottom-left - refer to \"Show gridworlds\"). The agent is allowed to continue training for a (shorter) amount of time in this new setting, and then we evaluate the value estimates.\n",
        "\n",
        "*Online Q-learning*\n",
        "\n",
        "* $\\text{pretrain_steps}$ = $20,000$,  $\\text{num_steps}$ = $666$, and $\\text{num_offline_updates}$ = $0$\n",
        "\n",
        "*ExperienceReplay*\n",
        "\n",
        "* $\\text{pretrain_steps}$ = $20,000$,  $\\text{num_steps}$ = $666$ and $\\text{num_offline_updates}$ = $10$\n",
        "\n",
        "*DynaQ*\n",
        "\n",
        "* $\\text{pretrain_steps}$ = $20,000$,  $\\text{num_steps}$ = $666$ and $\\text{num_offline_updates}$ = $10$"
      ]
    },
    {
      "cell_type": "code",
      "metadata": {
        "id": "6P9lC323X7uH",
        "colab": {
          "base_uri": "https://localhost:8080/",
          "height": 258
        },
        "outputId": "fa80e732-c12c-4b27-9fb0-3feff3a2764d"
      },
      "source": [
        "# Online Q\n",
        "\n",
        "# Train on first environment\n",
        "pretrain_steps = 2e4\n",
        "grid = Grid()\n",
        "agent = ExperienceQ(\n",
        "  grid._layout.size, 4, grid.get_obs(),\n",
        "  random_policy, num_offline_updates=0, step_size=0.1)\n",
        "run_experiment(grid, agent, int(pretrain_steps))\n",
        "q = agent.q_values.reshape(grid._layout.shape + (4,))\n",
        "\n",
        "# Change goal location\n",
        "alt_grid = AltGrid()\n",
        "run_experiment(alt_grid, agent, int(pretrain_steps / 30))\n",
        "alt_q = agent.q_values.reshape(alt_grid._layout.shape + (4,))\n",
        "plot_state_value(alt_q)"
      ],
      "execution_count": null,
      "outputs": [
        {
          "output_type": "display_data",
          "data": {
            "image/png": "[encoded data removed]",
            "text/plain": [
              "<Figure size 288x288 with 2 Axes>"
            ]
          },
          "metadata": {
            "tags": [],
            "needs_background": "light"
          }
        }
      ]
    },
    {
      "cell_type": "code",
      "metadata": {
        "id": "bq5msw1iY-Q5",
        "colab": {
          "base_uri": "https://localhost:8080/",
          "height": 258
        },
        "outputId": "87a1518a-be0d-4ced-be5b-a5f58feda6f9"
      },
      "source": [
        "# Experience Replay\n",
        "\n",
        "# Train on first environment\n",
        "pretrain_steps = 2e4\n",
        "grid = Grid()\n",
        "agent = ExperienceQ(\n",
        "  grid._layout.size, 4, grid.get_obs(),\n",
        "  random_policy, num_offline_updates=30, step_size=0.1)\n",
        "run_experiment(grid, agent, int(pretrain_steps))\n",
        "q = agent.q_values.reshape(grid._layout.shape + (4,))\n",
        "\n",
        "# Change goal location\n",
        "alt_grid = AltGrid()\n",
        "run_experiment(alt_grid, agent, int(pretrain_steps / 30))\n",
        "alt_q = agent.q_values.reshape(alt_grid._layout.shape + (4,))\n",
        "plot_state_value(alt_q)"
      ],
      "execution_count": null,
      "outputs": [
        {
          "output_type": "display_data",
          "data": {
            "image/png": "[encoded data removed]",
            "text/plain": [
              "<Figure size 288x288 with 2 Axes>"
            ]
          },
          "metadata": {
            "tags": [],
            "needs_background": "light"
          }
        }
      ]
    },
    {
      "cell_type": "code",
      "metadata": {
        "id": "AwztU4EbUXe0",
        "colab": {
          "base_uri": "https://localhost:8080/",
          "height": 258
        },
        "outputId": "55b839d9-5a04-4ff3-b98f-feb05114fef0"
      },
      "source": [
        "# DynaQ\n",
        "\n",
        "# Train on first environment\n",
        "pretrain_steps = 2e4\n",
        "grid = Grid()\n",
        "agent = DynaQ(\n",
        "  grid._layout.size, 4, grid.get_obs(),\n",
        "  random_policy, num_offline_updates=30, step_size=0.1)\n",
        "run_experiment(grid, agent, int(pretrain_steps))\n",
        "q = agent.q_values.reshape(grid._layout.shape + (4,))\n",
        "\n",
        "# Change goal location\n",
        "alt_grid = AltGrid()\n",
        "run_experiment(alt_grid, agent, int(pretrain_steps / 30))\n",
        "alt_q = agent.q_values.reshape(alt_grid._layout.shape + (4,))\n",
        "plot_state_value(alt_q)"
      ],
      "execution_count": null,
      "outputs": [
        {
          "output_type": "display_data",
          "data": {
            "image/png": "[encoded data removed]",
            "text/plain": [
              "<Figure size 288x288 with 2 Axes>"
            ]
          },
          "metadata": {
            "tags": [],
            "needs_background": "light"
          }
        }
      ]
    },
    {
      "cell_type": "markdown",
      "metadata": {
        "id": "lc8tJPpXyNM7"
      },
      "source": [
        "### Q 1.3.5 [3 marks]\n",
        "\n",
        "Compare the value estimates of online Q-learning and Dyna-Q, after training also on the new goal location. \n",
        "\n",
        "Explain what you see in at most 5 sentences. \n",
        "\n",
        "> The value estimates of the Online Q-learning and Dyna Q agents differ significantly as the Online Q-learning agent is slower to react to the new goal location than the Dyna Q agent. Firstly with only 20,000 pretraining steps, the Online Q-Learning agent is unable to obtain very good learnt value estimates with the original goal location and this slow learning rate is shown by only a small increase in value for the new goal location. The Dyna Q agent however learns the values very well of the original goal location in the 20000 pretraining steps and then uses the 666 steps to learn the value estimate of the new goal location in the bottom left corner of the grid very well.\n",
        "\n",
        "### Q 1.3.6 [3 marks]\n",
        "\n",
        "Compare the value estimates of online Experience Replay and Dyna-Q, after training also on the new goal location.\n",
        "\n",
        "Explain what you see in at most 5 sentences. \n",
        "\n",
        "> Again the value estimates of the Experience Replay and Dyna-Q agents differ significantly, as the Experience Replay agent fails to learn the new goal location compared to the Dyna-Q agent. This is due to the fact that all 20,666 steps are stored in the replay buffer and when randomly sampled, it is most likely to learn from the old goal configuration. However the Dyna-Q agent overwrites the reward and next state in the model, meaning that it learns from the new goal configuration much better and faster over the 666 steps, resulting in a higher learnt value for the new goa location.\n"
      ]
    },
    {
      "cell_type": "markdown",
      "metadata": {
        "id": "7TYEJzjdBD8s"
      },
      "source": [
        "# Part 2: Deep RL [25 marks]"
      ]
    },
    {
      "cell_type": "markdown",
      "metadata": {
        "id": "iIRC73HLq6VH"
      },
      "source": [
        "## 2A) Actor-critics\n",
        "\n",
        "You are going to implement an Actor-critic agent that updates a policy parametrised as a deep neural network.\n",
        "\n",
        "The agent learns online from a single stream of experience, updating the parametes of its policy after each transition in the environment."
      ]
    },
    {
      "cell_type": "markdown",
      "metadata": {
        "id": "KV03Q3MpveUM"
      },
      "source": [
        "### Install packages"
      ]
    },
    {
      "cell_type": "code",
      "metadata": {
        "id": "wc-kqp3tveUT",
        "colab": {
          "base_uri": "https://localhost:8080/"
        },
        "outputId": "dee4d6ef-5dea-4d85-ce14-76d75059b1e8"
      },
      "source": [
        "!git clone https://github.com/deepmind/bsuite.git\n",
        "!pip install bsuite/\n",
        "!pip install dm-haiku"
      ],
      "execution_count": null,
      "outputs": [
        {
          "output_type": "stream",
          "text": [
            "Cloning into 'bsuite'...\n",
            "remote: Enumerating objects: 1746, done.\u001b[K\n",
            "remote: Counting objects: 100% (143/143), done.\u001b[K\n",
            "remote: Compressing objects: 100% (107/107), done.\u001b[K\n",
            "remote: Total 1746 (delta 83), reused 65 (delta 36), pack-reused 1603\u001b[K\n",
            "Receiving objects: 100% (1746/1746), 693.08 KiB | 19.25 MiB/s, done.\n",
            "Resolving deltas: 100% (1253/1253), done.\n",
            "Processing ./bsuite\n",
            "Requirement already satisfied: absl-py in /usr/local/lib/python3.7/dist-packages (from bsuite==0.3.5) (0.12.0)\n",
            "Collecting dm_env\n",
            "  Downloading https://files.pythonhosted.org/packages/fa/84/c96b6544b8a2cfefc663b7dbd7fc0c2f2c3b6cbf68b0171775693bda2a66/dm_env-1.4-py3-none-any.whl\n",
            "Collecting frozendict\n",
            "  Downloading https://files.pythonhosted.org/packages/6d/29/edb363cf898269cb322d0186baa0bd02874a69691d9dec8728b644fbcedc/frozendict-2.0.2-py3-none-any.whl\n",
            "Requirement already satisfied: gym in /usr/local/lib/python3.7/dist-packages (from bsuite==0.3.5) (0.17.3)\n",
            "Requirement already satisfied: matplotlib in /usr/local/lib/python3.7/dist-packages (from bsuite==0.3.5) (3.2.2)\n",
            "Requirement already satisfied: numpy in /usr/local/lib/python3.7/dist-packages (from bsuite==0.3.5) (1.19.5)\n",
            "Requirement already satisfied: pandas in /usr/local/lib/python3.7/dist-packages (from bsuite==0.3.5) (1.1.5)\n",
            "Requirement already satisfied: plotnine in /usr/local/lib/python3.7/dist-packages (from bsuite==0.3.5) (0.6.0)\n",
            "Requirement already satisfied: scipy in /usr/local/lib/python3.7/dist-packages (from bsuite==0.3.5) (1.4.1)\n",
            "Requirement already satisfied: scikit-image in /usr/local/lib/python3.7/dist-packages (from bsuite==0.3.5) (0.16.2)\n",
            "Requirement already satisfied: six in /usr/local/lib/python3.7/dist-packages (from bsuite==0.3.5) (1.15.0)\n",
            "Requirement already satisfied: termcolor in /usr/local/lib/python3.7/dist-packages (from bsuite==0.3.5) (1.1.0)\n",
            "Requirement already satisfied: dm-tree in /usr/local/lib/python3.7/dist-packages (from dm_env->bsuite==0.3.5) (0.1.6)\n",
            "Requirement already satisfied: cloudpickle<1.7.0,>=1.2.0 in /usr/local/lib/python3.7/dist-packages (from gym->bsuite==0.3.5) (1.3.0)\n",
            "Requirement already satisfied: pyglet<=1.5.0,>=1.4.0 in /usr/local/lib/python3.7/dist-packages (from gym->bsuite==0.3.5) (1.5.0)\n",
            "Requirement already satisfied: cycler>=0.10 in /usr/local/lib/python3.7/dist-packages (from matplotlib->bsuite==0.3.5) (0.10.0)\n",
            "Requirement already satisfied: python-dateutil>=2.1 in /usr/local/lib/python3.7/dist-packages (from matplotlib->bsuite==0.3.5) (2.8.1)\n",
            "Requirement already satisfied: pyparsing!=2.0.4,!=2.1.2,!=2.1.6,>=2.0.1 in /usr/local/lib/python3.7/dist-packages (from matplotlib->bsuite==0.3.5) (2.4.7)\n",
            "Requirement already satisfied: kiwisolver>=1.0.1 in /usr/local/lib/python3.7/dist-packages (from matplotlib->bsuite==0.3.5) (1.3.1)\n",
            "Requirement already satisfied: pytz>=2017.2 in /usr/local/lib/python3.7/dist-packages (from pandas->bsuite==0.3.5) (2018.9)\n",
            "Requirement already satisfied: patsy>=0.4.1 in /usr/local/lib/python3.7/dist-packages (from plotnine->bsuite==0.3.5) (0.5.1)\n",
            "Requirement already satisfied: statsmodels>=0.9.0 in /usr/local/lib/python3.7/dist-packages (from plotnine->bsuite==0.3.5) (0.10.2)\n",
            "Requirement already satisfied: descartes>=1.1.0 in /usr/local/lib/python3.7/dist-packages (from plotnine->bsuite==0.3.5) (1.1.0)\n",
            "Requirement already satisfied: mizani>=0.6.0 in /usr/local/lib/python3.7/dist-packages (from plotnine->bsuite==0.3.5) (0.6.0)\n",
            "Requirement already satisfied: pillow>=4.3.0 in /usr/local/lib/python3.7/dist-packages (from scikit-image->bsuite==0.3.5) (7.1.2)\n",
            "Requirement already satisfied: imageio>=2.3.0 in /usr/local/lib/python3.7/dist-packages (from scikit-image->bsuite==0.3.5) (2.4.1)\n",
            "Requirement already satisfied: networkx>=2.0 in /usr/local/lib/python3.7/dist-packages (from scikit-image->bsuite==0.3.5) (2.5.1)\n",
            "Requirement already satisfied: PyWavelets>=0.4.0 in /usr/local/lib/python3.7/dist-packages (from scikit-image->bsuite==0.3.5) (1.1.1)\n",
            "Requirement already satisfied: future in /usr/local/lib/python3.7/dist-packages (from pyglet<=1.5.0,>=1.4.0->gym->bsuite==0.3.5) (0.16.0)\n",
            "Requirement already satisfied: palettable in /usr/local/lib/python3.7/dist-packages (from mizani>=0.6.0->plotnine->bsuite==0.3.5) (3.3.0)\n",
            "Requirement already satisfied: decorator<5,>=4.3 in /usr/local/lib/python3.7/dist-packages (from networkx>=2.0->scikit-image->bsuite==0.3.5) (4.4.2)\n",
            "Building wheels for collected packages: bsuite\n",
            "  Building wheel for bsuite (setup.py) ... \u001b[?25l\u001b[?25hdone\n",
            "  Created wheel for bsuite: filename=bsuite-0.3.5-cp37-none-any.whl size=249668 sha256=0663324c6c94e7f92c07d83fe72e2bc7f71ca99dd4878f70460a9523c2f04635\n",
            "  Stored in directory: /tmp/pip-ephem-wheel-cache-m705k1c8/wheels/a8/39/ce/aa00d5f213ee4ff8bb4faf9d6ff36b510dd9ecd0faa819baa1\n",
            "Successfully built bsuite\n",
            "Installing collected packages: dm-env, frozendict, bsuite\n",
            "Successfully installed bsuite-0.3.5 dm-env-1.4 frozendict-2.0.2\n",
            "Collecting dm-haiku\n",
            "\u001b[?25l  Downloading https://files.pythonhosted.org/packages/72/08/639371b979cb2c0bf2f67c832a7c3a358ca3d717a8c38563a2e2435c41c9/dm_haiku-0.0.4-py3-none-any.whl (284kB)\n",
            "\u001b[K     |████████████████████████████████| 286kB 7.4MB/s \n",
            "\u001b[?25hRequirement already satisfied: absl-py>=0.7.1 in /usr/local/lib/python3.7/dist-packages (from dm-haiku) (0.12.0)\n",
            "Requirement already satisfied: numpy>=1.18.0 in /usr/local/lib/python3.7/dist-packages (from dm-haiku) (1.19.5)\n",
            "Requirement already satisfied: typing-extensions; python_version < \"3.8\" in /usr/local/lib/python3.7/dist-packages (from dm-haiku) (3.7.4.3)\n",
            "Requirement already satisfied: tabulate>=0.8.9 in /usr/local/lib/python3.7/dist-packages (from dm-haiku) (0.8.9)\n",
            "Requirement already satisfied: six in /usr/local/lib/python3.7/dist-packages (from absl-py>=0.7.1->dm-haiku) (1.15.0)\n",
            "Installing collected packages: dm-haiku\n",
            "Successfully installed dm-haiku-0.0.4\n"
          ],
          "name": "stdout"
        }
      ]
    },
    {
      "cell_type": "markdown",
      "metadata": {
        "id": "r_pTfi5dSFX5"
      },
      "source": [
        "### Imports"
      ]
    },
    {
      "cell_type": "code",
      "metadata": {
        "id": "huyKrYpvSHSu"
      },
      "source": [
        "from bsuite.environments import catch\n",
        "\n",
        "import jax\n",
        "import jax.numpy as jnp\n",
        "import haiku as hk\n",
        "\n",
        "import numpy as np\n",
        "import matplotlib.pyplot as plt"
      ],
      "execution_count": null,
      "outputs": []
    },
    {
      "cell_type": "markdown",
      "metadata": {
        "id": "M6kEki4XHbPy"
      },
      "source": [
        "### Plotting"
      ]
    },
    {
      "cell_type": "code",
      "metadata": {
        "id": "EYdWwRrbHbcl"
      },
      "source": [
        "def plot_learning_curve(list_of_episode_returns):\n",
        "  \"\"\"Plot the learning curve.\"\"\"\n",
        "  plt.figure(figsize=(7, 5))\n",
        "\n",
        "  def moving_average(x, w):\n",
        "      return np.convolve(x, np.ones(w), 'valid') / w\n",
        "\n",
        "  smoothed_returns = moving_average(list_of_episode_returns, 30)\n",
        "  plt.plot(smoothed_returns)\n",
        "\n",
        "  plt.xlabel('Average episode returns')\n",
        "  plt.xlabel('Number of episodes')\n",
        "\n",
        "  ax = plt.gca()\n",
        "  ax.spines['left'].set_visible(True)\n",
        "  ax.spines['bottom'].set_visible(True)\n",
        "  ax.spines['right'].set_visible(False)\n",
        "  ax.spines['top'].set_visible(False)\n",
        "  ax.xaxis.set_ticks_position('bottom')\n",
        "  ax.yaxis.set_ticks_position('left')"
      ],
      "execution_count": null,
      "outputs": []
    },
    {
      "cell_type": "markdown",
      "metadata": {
        "id": "Xtlrr5d2p7cS"
      },
      "source": [
        "### Neural networks\n",
        "\n",
        "You will now use JAX to define a network parametrising:\n",
        "\n",
        "* The values of each state $v_{\\pi}(s)$.\n",
        "* The action preferences in each state $\\{p_i(s)\\}_{i\\in\\{1, ..., |A|\\}}$ (you can think of and implement the preferences $\\mathbf{p}(s)$ as a vector output with $|A|$ elements).\n",
        "\n",
        "You will use `Haiku` (https://github.com/deepmind/dm-haiku) to define the network. You will need to:\n",
        "* define the forward pass of the network as some function `fn`\n",
        "* Use `hk.transform(fn)` to convert this in a pair of functions (`init_net`, and `apply_net`):\n",
        "\n",
        "The `init` function has signature `parameters = init_net(key, obs)`. \n",
        "  * takes a `jax.random.PRNGKey` and an `observation`\n",
        "  * returns randomly sampled weights for the neural network.\n",
        "\n",
        "The `apply_net` functions have signature `v, p = apply_net(parameters, key, obs)` \n",
        "  * takes the current set of `parameters`, a `jax.random.PRNGKey` and an `observation`\n",
        "  * returns a scalar value `v` and a vector of preferences `p`"
      ]
    },
    {
      "cell_type": "markdown",
      "metadata": {
        "id": "Gj1nsUYuOoe1"
      },
      "source": [
        "### Q 3.1 [3 marks]\n",
        "\n",
        "Define the forward pass of the neural network. The network must:\n",
        "\n",
        "* take an `observation` as input\n",
        "* reshape the observation into a flat vector `flat_obs`\n",
        "* compute a hidden representation `h = Relu(W.dot(flat_obs) + b)`\n",
        "* compute a vector of action preferences as a linear function of `h`\n",
        "* compute a scalar state value as a linear function of `h`\n",
        "* return the scalar value and vector preferences.\n",
        "\n",
        "Note:\n",
        "* The hidden layer should have 50 units\n",
        "* the action preferences should be a vector of 3 elements (one per each available action),\n",
        "* the value should be a scalar (not a vector with one element).\n"
      ]
    },
    {
      "cell_type": "code",
      "metadata": {
        "id": "vRBP0xjtQvTi"
      },
      "source": [
        "def forward_pass(obs):\n",
        "  obs = jnp.reshape(obs, (-1,))\n",
        "  hidden = hk.Linear(50)(obs)\n",
        "  hidden = jax.nn.relu(hidden)\n",
        "  p = hk.Linear(3)(hidden)\n",
        "  v = hk.Linear(1)(hidden)\n",
        "  return v.squeeze(),p\n",
        "init_net, apply_net = hk.transform(forward_pass)"
      ],
      "execution_count": null,
      "outputs": []
    },
    {
      "cell_type": "markdown",
      "metadata": {
        "id": "9ImJUgzFosvD"
      },
      "source": [
        "### Choosing actions\n",
        "\n",
        "A critical component of an actor-critic agent is a (stochastic) policy, mapping `observations` to `actions`. \n",
        "\n",
        "In deep RL, this mapping is conventionally parametrised by a deep neural network."
      ]
    },
    {
      "cell_type": "markdown",
      "metadata": {
        "id": "1MVXNWwlYW24"
      },
      "source": [
        "### Q 3.2 [2 marks]\n",
        "\n",
        "Implement a softmax policy parametrised by the neural network above (i.e., using the `apply_net` function).\n",
        "\n",
        "The function has signature `action = softmax_policy(net_params, key, obs)`,\n",
        "* Taking the current network parameters `net_params`, a JAX random `key` and the current `observation`\n",
        "* Returning an `action` sampled from a softmax distribution (with temperature 1.) over the set of preferences output by the neural network.\n",
        "\n",
        "Functions to perform random sampling in JAX (e.g. those in `jax.random`) take a random key as input, and they are deterministic function of such a key. In general, in a JAX program you will therefore need to use the `split` function to generate a new random key before every new sampling. The run loop that runs the experiment later on splits the key between consecutive calls to the `policy`. Thus you can assume that a new random `key` is provided to you on each call to the `policy`, however if you need a random key in multiple places within the `policy`, do remember to split the key before each use."
      ]
    },
    {
      "cell_type": "code",
      "metadata": {
        "id": "x-FSOYNOYnUx"
      },
      "source": [
        "@jax.jit\n",
        "def softmax_policy(net_params, key, obs):\n",
        "  \"\"\"Sample action from a softmax policy.\"\"\"\n",
        "  v, p = apply_net(net_params, None, obs)\n",
        "  actions = jax.nn.softmax(p)\n",
        "  action = jax.random.choice(key=key, a=jnp.arange(len(p)), p=actions)\n",
        "  return action"
      ],
      "execution_count": null,
      "outputs": []
    },
    {
      "cell_type": "markdown",
      "metadata": {
        "id": "iMYcb7Y9krnT"
      },
      "source": [
        "### Learning values and policies\n",
        "\n",
        "An actor-critic agent requires to update the parameters of the network so as to simultaneously improve the value predictions and the policy.\n",
        "\n",
        "In the next section you will define the gradient updates for each of these two components."
      ]
    },
    {
      "cell_type": "markdown",
      "metadata": {
        "id": "GsIlpmNEk5fv"
      },
      "source": [
        "### Q 3.3 [3 marks]\n",
        "\n",
        "Implement a function to compute a stochastic estimate of the policy gradient from a 1 step transition in the environment.\n",
        "\n",
        "* You will use $R_{t+1} + \\gamma v(S_{t+1})$ as an estimate of $q_{\\pi}(S_t, A_t)$\n",
        "* You will use $v(S_{t})$ as a baseline to reduce the variance of the updates.\n",
        "\n",
        "The function must have signature `grads = policy_gradient(net_params, obs_tm1, a_tm1, r_t, discount_t, obs_t)`.\n",
        "* Where the inputs are:\n",
        "  * the parameters `net_params` of the network,\n",
        "  * an observation `obs_tm1`\n",
        "  * the action `a_tm1` selected after observing `obs_tm1`,\n",
        "  * the resulting reward `r_t` and environment discount `discount_t` \n",
        "  * and the following observation `obs_t`\n",
        "* Returns a stochastic estimate of the policy gradient.\n",
        "  * `grads` has the same structure as `net_params`\n",
        "  * as it contains an estimate of the gradient of the expected episodic return wrt to each parameter "
      ]
    },
    {
      "cell_type": "code",
      "metadata": {
        "id": "AHLGjy8he6vh"
      },
      "source": [
        "def loss_fn(net_params, key, obs_tm1, a_tm1, r_t, discount_t, obs_t):\n",
        "  v_tm1, p_tm1 = apply_net(net_params, key, obs_tm1)\n",
        "  v_t, p_t = apply_net(net_params, key, obs_t)\n",
        "  sm = jnp.exp(p_tm1)/jnp.sum(jnp.exp(p_tm1))\n",
        "  loss = jax.lax.stop_gradient(r_t + discount_t*v_t - v_tm1) * jnp.squeeze(jnp.log(sm[a_tm1.astype(int)]))\n",
        "  return loss\n",
        "\n",
        "def policy_gradient(net_params, key, obs_tm1, a_tm1, r_t, discount_t, obs_t):\n",
        "  grads = jax.grad(loss_fn)(net_params, key, obs_tm1, a_tm1, r_t, discount_t, obs_t)\n",
        "  return grads"
      ],
      "execution_count": null,
      "outputs": []
    },
    {
      "cell_type": "markdown",
      "metadata": {
        "id": "5XgjefrBlIGN"
      },
      "source": [
        "### Q 3.4 [3 marks]\n",
        "\n",
        "Implement a function to compute a stochastic estimate of the negative gradient of the value loss:   $ L(\\theta) = E_{s \\sim \\pi}[(v_{\\theta}(s) - v_{\\pi}(s))^2]$\n",
        "\n",
        "As for the policy gradient, this must be computed from a 1 step transition in the environment, so using bootstrapping after one step.\n",
        "\n",
        "It must have signature `neg_grads = neg_value_loss_gradient(net_params, obs_tm1, a_tm1, r_t, discount_t, obs_t)`.\n",
        "* Where the inputs are:\n",
        "  * the current parameters `net_params` of the network,\n",
        "  * an observation `obs_tm1`\n",
        "  * the action `a_tm1` selected after observing `obs_tm1`,\n",
        "  * the resulting reward `r_t` and environment discount `discount_t` \n",
        "  * and the following observation `obs_t`\n",
        "* Returns a stochastic estimate of the policy gradient.\n",
        "  * `neg_grads` has the same structure as `net_params`\n",
        "  * as it contains a stochastic estimate of the negative gradient of the expected value prediction loss "
      ]
    },
    {
      "cell_type": "code",
      "metadata": {
        "id": "CAONu72iTpzx"
      },
      "source": [
        "def neg_loss_fn(net_params, key, obs_tm1, a_tm1, r_t, discount_t, obs_t):\n",
        "  v_tm1, p_tm1 = apply_net(net_params, key, obs_tm1)\n",
        "  v_t, p_t = apply_net(net_params, key, obs_t)\n",
        "  target_tm1 = r_t + discount_t * v_t\n",
        "  td_error = jax.lax.stop_gradient(target_tm1) - v_tm1\n",
        "  loss = -(td_error)**2\n",
        "  return loss\n",
        "\n",
        "def neg_value_loss_gradient(net_params, key, obs_tm1, a_tm1, r_t, discount_t, obs_t):\n",
        "  neg_grads = jax.grad(neg_loss_fn)(net_params, key, obs_tm1, a_tm1, r_t, discount_t, obs_t)\n",
        "  return neg_grads"
      ],
      "execution_count": null,
      "outputs": []
    },
    {
      "cell_type": "markdown",
      "metadata": {
        "id": "jAXgLZg8mfMd"
      },
      "source": [
        "### Updating shared parameters\n",
        "\n",
        "The policy gradient identifies the direction of change in the parameters that most steeply improve the policy.\n",
        "The negative gradient of the value loss identifies the direction of change in the parameters that most steeply improves the value predictions.\n",
        "\n",
        "However, note that the value and policy share some of the parameters of the network.  How do we combine the two gradient updates?\n",
        "\n",
        "In this assignment, we will simply sum the policy and value components.\n",
        "The function that combines the two gradients is implemented for you in the cell below."
      ]
    },
    {
      "cell_type": "code",
      "metadata": {
        "id": "uhKCLe8jjkdZ"
      },
      "source": [
        "@jax.jit\n",
        "def compute_gradient(net_params, key, obs_tm1, a_tm1, r_t, discount_t, obs_t):\n",
        "  k1, k2 = jax.random.split(key, 2)\n",
        "  pgrads = policy_gradient(net_params, k1, obs_tm1, a_tm1, r_t, discount_t, obs_t)\n",
        "  vgrads = neg_value_loss_gradient(net_params, k2, obs_tm1, a_tm1, r_t, discount_t, obs_t)\n",
        "  return jax.tree_multimap(lambda pg, vg: pg + vg, pgrads, vgrads)"
      ],
      "execution_count": null,
      "outputs": []
    },
    {
      "cell_type": "markdown",
      "metadata": {
        "id": "tYaVb6GcpCRe"
      },
      "source": [
        "### Optimisation\n",
        "\n",
        "The gradient updates are typically rescaled to avoid taking too large a step on a single update.\n",
        "For instance given a candidate gradient update $\\nabla$ we may update our parameters $\\theta$ by;\n",
        "$$\\Delta \\theta = \\theta + \\alpha * \\nabla\\,,$$\n",
        "where $\\alpha$ is a small number between 0 and 1 (e.g., $\\alpha=0.01$ or $\\alpha=0.001$), referred to as `step_size` or `learning_rate`\n",
        "\n",
        "The gradients with respect to each weight of a neural network may however have very different magnitudes. This can make it hard to set a suitable learning rate $\\alpha$.\n",
        "\n",
        "In deep learning, and deep RL, we typically use adaptive learning rates, for instance by rescaling each component of the gradient using statistics tracking the typical size of the updates to that weight. Then the entire update is rescaled using a global `learning_rate` $\\alpha$\n"
      ]
    },
    {
      "cell_type": "markdown",
      "metadata": {
        "id": "hbFePWfApaMU"
      },
      "source": [
        "### Q 3.5 [3 marks]\n",
        "\n",
        "A popular approach to adaptive gradient rescaling was introduced by the `Adam` algorithm.\n",
        "* See [Kingma et al, 2014](https://arxiv.org/abs/1412.6980) for references.\n",
        "\n",
        "This algorithm implements the following procedure before applying each update:\n",
        "* Increase an update counter $k \\gets k+1$ (starting at k=0 before any updates),\n",
        "* Update the first moment of each gradient component $\\mu \\gets (1 - \\beta_1) g + \\beta_1 \\mu$ where $g$ is the latest stochastic gradient.\n",
        "* Update the second moment of each gradient component $\\nu_i = (1 - \\beta_2) g_i ^ 2 + \\beta_2 \\nu_i $ where $g$ is the latest gradient update.\n",
        "* Use the following update to update the weights:\n",
        "$$\\Delta w = \\alpha \\frac{\\mu / (1 - \\beta_1 ^ {k})}{\\epsilon + \\sqrt{\\nu / (1 - \\beta_2 ^ {k})}}$$\n",
        "* $\\alpha$ is a global `learning rate`\n",
        "* $\\beta_1$ and $\\beta_2$ define a soft horizon for the per-weight statistics.\n",
        "* $\\epsilon$ makes the rescaling more robust to numerical issues.\n",
        "\n",
        "In the next cell define a pair of functions (`opt_init`, and `opt_update`), where:\n",
        "\n",
        "The `opt_init` function has signature `state = opt_init(params)`.\n",
        "* Takes the network parameters as inputs\n",
        "* Initialises an `optimiser state` holding the per weight statistics.\n",
        "\n",
        "The `opt_update` function has signature `updates, state = opt_update(grads, state)`.\n",
        "* Takes a `gradient` and an `optimisers state`,\n",
        "* and returns the transformed gradient and the updated `optimiser state`.\n",
        "\n",
        "Set the algorrithm's hyper-parameters to:\n",
        "* $\\beta_1=.9$ and $\\beta_2=.999$, $\\epsilon=1e-8$."
      ]
    },
    {
      "cell_type": "code",
      "metadata": {
        "id": "017XRA_BpbZx"
      },
      "source": [
        "def opt_init(params):\n",
        "  mu = jax.tree_map(jnp.zeros_like, params)\n",
        "  v = jax.tree_map(jnp.zeros_like, params)\n",
        "  k = 0\n",
        "\n",
        "  return mu, v, k\n",
        "\n",
        "\n",
        "def opt_update(grads, state):\n",
        "  mu, v, k = state\n",
        "  b_1 = 0.9\n",
        "  b_2 = 0.999\n",
        "  epsilon = 1e-08\n",
        "  alpha = 0.01\n",
        "\n",
        "  k += 1\n",
        "  mu = jax.tree_multimap(lambda x,y:b_1*x + (1-b_1)*y, mu, grads)\n",
        "  v = jax.tree_multimap(lambda x,y:b_2*x + (1-b_2)*y**2, v, grads)\n",
        "  mu_hat = jax.tree_multimap(lambda x: x/(1-b_1**k),mu)\n",
        "  v_hat = jax.tree_multimap(lambda x: x/(1-b_2**k), v)\n",
        "  updates = jax.tree_multimap(lambda mu,v: alpha*mu/(jnp.sqrt(v) + epsilon), mu_hat, v_hat)\n",
        "  new_state = (mu, v, k)\n",
        "\n",
        "  return updates, new_state"
      ],
      "execution_count": null,
      "outputs": []
    },
    {
      "cell_type": "markdown",
      "metadata": {
        "id": "DczWvZfNSnTj"
      },
      "source": [
        "### Run experiments\n",
        "\n",
        "Run the cell below to show the performance of the resulting agent.\n",
        "\n",
        "You may also use this section for debugging your implementations.\n",
        "\n",
        "Note however, that most functions are `jitted` for performance,\n",
        "* either using the `@jax.jit` decorator in the function definition\n",
        "* or calling explicitely `fn = jax.jit(fn)`\n",
        "\n",
        "When jitting, the code is compiled on the first time the function is executed\n",
        "* and execution is much faster on subsequent calls.\n",
        "* a notable side effect is that print statements in a jitted function will only execute on the first execution of the function.\n",
        "* to drop into a debugger or print on each function execution you will have to disable the `@jax.jit` annotations and jax.jit calls."
      ]
    },
    {
      "cell_type": "code",
      "metadata": {
        "id": "Fz837XTkLxE8",
        "colab": {
          "base_uri": "https://localhost:8080/",
          "height": 351
        },
        "outputId": "a9679825-ddc1-4329-887a-a4249d1948bc"
      },
      "source": [
        "# DO NOT CHANGE THIS CELL\n",
        "\n",
        "# Experiment configs.\n",
        "train_episodes = 1500\n",
        "discount_factor = .99\n",
        "\n",
        "# Create environment.\n",
        "env = catch.Catch(seed=42)\n",
        "\n",
        "# Build and initialize network.\n",
        "rng = jax.random.PRNGKey(44)\n",
        "rng, init_rng = jax.random.split(rng)\n",
        "sample_input = env.observation_spec().generate_value()\n",
        "net_params = init_net(init_rng, sample_input)\n",
        "\n",
        "# Initialize optimizer state.\n",
        "opt_state = opt_init(net_params)\n",
        "\n",
        "# Apply updates\n",
        "def apply_updates(params, updates):\n",
        "  return jax.tree_multimap(lambda p, u: p + u, params, updates)\n",
        "\n",
        "# Jit.\n",
        "opt_update = jax.jit(opt_update)\n",
        "apply_updates = jax.jit(apply_updates)\n",
        "\n",
        "print(f\"Training agent for {train_episodes} episodes...\")\n",
        "all_episode_returns = []\n",
        "\n",
        "for _ in range(train_episodes):\n",
        "  episode_return = 0.\n",
        "  timestep = env.reset()\n",
        "  obs_tm1 = timestep.observation\n",
        "\n",
        "  # Sample initial action.\n",
        "  rng, policy_rng = jax.random.split(rng)\n",
        "  a_tm1 = softmax_policy(net_params, policy_rng, obs_tm1)\n",
        "\n",
        "  while not timestep.last():\n",
        "    # Step environment.\n",
        "    new_timestep = env.step(int(a_tm1))\n",
        "\n",
        "    # Sample action from agent policy.\n",
        "    rng, policy_rng = jax.random.split(rng)\n",
        "    a_t = softmax_policy(net_params, policy_rng, new_timestep.observation)\n",
        "\n",
        "    # Update params.\n",
        "    r_t = new_timestep.reward\n",
        "    discount_t = discount_factor * new_timestep.discount\n",
        "    rng, grad_rng = jax.random.split(rng)\n",
        "    dJ_dtheta = compute_gradient(\n",
        "        net_params, grad_rng, obs_tm1, a_tm1, r_t, discount_t, \n",
        "        new_timestep.observation)\n",
        "    updates, opt_state = opt_update(dJ_dtheta, opt_state)\n",
        "    net_params = apply_updates(net_params, updates)\n",
        "\n",
        "    # Within episode book-keeping.\n",
        "    episode_return += new_timestep.reward\n",
        "    timestep = new_timestep\n",
        "    obs_tm1 = new_timestep.observation\n",
        "    a_tm1 = a_t\n",
        "\n",
        "  # Experiment results tracking.\n",
        "  all_episode_returns.append(episode_return)\n",
        "\n",
        "# Plot learning curve.\n",
        "plot_learning_curve(all_episode_returns)"
      ],
      "execution_count": null,
      "outputs": [
        {
          "output_type": "stream",
          "text": [
            "Training agent for 1500 episodes...\n"
          ],
          "name": "stdout"
        },
        {
          "output_type": "display_data",
          "data": {
            "image/png": "[encoded data removed]",
            "text/plain": [
              "<Figure size 504x360 with 1 Axes>"
            ]
          },
          "metadata": {
            "tags": [],
            "needs_background": "light"
          }
        }
      ]
    },
    {
      "cell_type": "markdown",
      "metadata": {
        "id": "9dowFJ_l-32A"
      },
      "source": [
        "## 2B) An alternative update\n",
        "\n",
        "You are going to implement a different kind of agent.\n",
        "\n",
        "Like an actor-critic, it learns online from a single stream of experience, updating the parametes after each transition in the environment."
      ]
    },
    {
      "cell_type": "markdown",
      "metadata": {
        "id": "aQD0Qw8-_QJy"
      },
      "source": [
        "### Neural networks\n",
        "\n",
        "\n",
        "The agent will reuse the same neural network we defined for the actor-critic:\n",
        "* the scalar output will be trained via TD to estimate state values\n",
        "* the vector preferences `p` will be updated according to a different rule."
      ]
    },
    {
      "cell_type": "markdown",
      "metadata": {
        "id": "I6j0AIF8GhdR"
      },
      "source": [
        "### Choosing actions\n",
        "\n",
        "As in actor-critics, the (stochastic) mapping from `observations` to `actions` depends on the vector of preferences `p` from the network."
      ]
    },
    {
      "cell_type": "markdown",
      "metadata": {
        "id": "jE00LhDL_nbC"
      },
      "source": [
        "### Q 3.6 [3 marks]\n",
        "\n",
        "The new agent's policy will have the signature `action = epsilon_greedy_policy(net_params, key, obs)`,\n",
        "* Take as inputs the current network parameters `net_params`, a JAX random `key` and the current `observation`\n",
        "* Return with probability `0.9` the greedy `action` with respect to the preferences `p`, ties must be broken at random.\n",
        "* Return an action uniformly at random with probability `0.1`"
      ]
    },
    {
      "cell_type": "code",
      "metadata": {
        "id": "8IwTDROL_Lx5"
      },
      "source": [
        "@jax.jit\n",
        "def epsilon_greedy_policy(net_params, key, obs):\n",
        "  \"\"\"Sample action from an epsilon-greedy policy.\"\"\"\n",
        "  v, p = apply_net(net_params, key, obs)\n",
        "  pr = np.random.uniform()\n",
        "  if pr < 0.9:\n",
        "    action = jnp.argmax(p)\n",
        "  else:\n",
        "    action = jax.random.choice(key=key, a=np.arange(len(p)))\n",
        "  return action"
      ],
      "execution_count": null,
      "outputs": []
    },
    {
      "cell_type": "markdown",
      "metadata": {
        "id": "l1zQiRX5BfeA"
      },
      "source": [
        "### Q 3.7 [4 marks]\n",
        "\n",
        "The preferences `p` will be update according to the following gradient-based update:\n",
        "\n",
        "* -($R_{t+1} + \\gamma v(S_{t+1}) - p(S_{t}, A_t)) \\nabla p(S_t, A_t))$ \n",
        "* where `v` is the state value trained by TD as in the actor critic.\n",
        "* note the `-` in front of the update above.\n",
        "\n",
        "You musy implement this in the function `preference_gradient`, with the same signature as `policy_gradient`"
      ]
    },
    {
      "cell_type": "code",
      "metadata": {
        "id": "6fQhAWXqLNt-"
      },
      "source": [
        "def eps_greedy(net_params, key, obs_tm1, a_tm1, r_t, discount_t, obs_t):\n",
        "  v_tm1, p_tm1 = apply_net(net_params, key, obs_tm1)\n",
        "  v_t, p_t = apply_net(net_params, key, obs_t)\n",
        "  return -(jax.lax.stop_gradient(r_t + discount_t*v_t) - p_tm1[a_tm1.astype(int)])**2\n",
        "\n",
        "def preference_gradient(net_params, key, obs_tm1, a_tm1, r_t, discount_t, obs_t):\n",
        "  return jax.grad(eps_greedy)(net_params, key, obs_tm1, a_tm1, r_t, discount_t, obs_t)"
      ],
      "execution_count": null,
      "outputs": []
    },
    {
      "cell_type": "markdown",
      "metadata": {
        "id": "hz4RFKnVF8E8"
      },
      "source": [
        "### Updating shared parameters\n",
        "\n",
        "Just like in the actor critic the overall update to the parameters is a combination of two quantities:\n",
        "* the new update we defined for the vector of preferences\n",
        "* the same TD update to the scalar output that we used in the actor critic"
      ]
    },
    {
      "cell_type": "code",
      "metadata": {
        "id": "QnghCzKhF-gI"
      },
      "source": [
        "@jax.jit\n",
        "def compute_gradient(net_params, key, obs_tm1, a_tm1, r_t, discount_t, obs_t):\n",
        "  k1, k2 = jax.random.split(key, 2)\n",
        "  pgrads = preference_gradient(net_params, k1, obs_tm1, a_tm1, r_t, discount_t, obs_t)\n",
        "  vgrads = neg_value_loss_gradient(net_params, k2, obs_tm1, a_tm1, r_t, discount_t, obs_t)\n",
        "  return jax.tree_multimap(lambda pg, vg: pg + vg, pgrads, vgrads)"
      ],
      "execution_count": null,
      "outputs": []
    },
    {
      "cell_type": "markdown",
      "metadata": {
        "id": "44QBKEF4HFK8"
      },
      "source": [
        "### Optimisation\n",
        "\n",
        "The gradient updates are rescaled using the same optimiser used for the actor-critic."
      ]
    },
    {
      "cell_type": "markdown",
      "metadata": {
        "id": "dbdHQo23FJit"
      },
      "source": [
        "### Run experiments\n",
        "\n",
        "Run the cell below to show the performance of the new agent."
      ]
    },
    {
      "cell_type": "code",
      "metadata": {
        "id": "ept5NG1oFLnu",
        "colab": {
          "base_uri": "https://localhost:8080/",
          "height": 351
        },
        "outputId": "c9eb5878-6121-47bd-a8d2-8b2f94907bfe"
      },
      "source": [
        "# DO NOT CHANGE THIS CELL\n",
        "\n",
        "# Experiment configs.\n",
        "train_episodes = 1500\n",
        "discount_factor = .99\n",
        "\n",
        "# Create environment.\n",
        "env = catch.Catch(seed=42)\n",
        "\n",
        "# Build and initialize network.\n",
        "rng = jax.random.PRNGKey(44)\n",
        "rng, init_rng = jax.random.split(rng)\n",
        "sample_input = env.observation_spec().generate_value()\n",
        "net_params = init_net(init_rng, sample_input)\n",
        "\n",
        "# Initialize optimizer state.\n",
        "opt_state = opt_init(net_params)\n",
        "\n",
        "# Apply updates\n",
        "def apply_updates(params, updates):\n",
        "  return jax.tree_multimap(lambda p, u: p + u, params, updates)\n",
        "\n",
        "# Jit.\n",
        "opt_update = jax.jit(opt_update)\n",
        "apply_updates = jax.jit(apply_updates)\n",
        "\n",
        "print(f\"Training agent for {train_episodes} episodes...\")\n",
        "all_episode_returns = []\n",
        "\n",
        "for _ in range(train_episodes):\n",
        "  episode_return = 0.\n",
        "  timestep = env.reset()\n",
        "  obs_tm1 = timestep.observation\n",
        "\n",
        "  # Sample initial action.\n",
        "  rng, policy_rng = jax.random.split(rng)\n",
        "  a_tm1 = epsilon_greedy_policy(net_params, policy_rng, obs_tm1)\n",
        "\n",
        "  while not timestep.last():\n",
        "    # Step environment.\n",
        "    new_timestep = env.step(int(a_tm1))\n",
        "\n",
        "    # Sample action from agent policy.\n",
        "    rng, policy_rng = jax.random.split(rng)\n",
        "    a_t = epsilon_greedy_policy(net_params, policy_rng, new_timestep.observation)\n",
        "\n",
        "    # Update params.\n",
        "    r_t = new_timestep.reward\n",
        "    discount_t = discount_factor * new_timestep.discount\n",
        "    rng, grad_rng = jax.random.split(rng)\n",
        "    dJ_dtheta = compute_gradient(\n",
        "        net_params, grad_rng, obs_tm1, a_tm1, r_t, discount_t, \n",
        "        new_timestep.observation)\n",
        "    updates, opt_state = opt_update(dJ_dtheta, opt_state)\n",
        "    net_params = apply_updates(net_params, updates)\n",
        "\n",
        "    # Within episode book-keeping.\n",
        "    episode_return += new_timestep.reward\n",
        "    timestep = new_timestep\n",
        "    obs_tm1 = new_timestep.observation\n",
        "    a_tm1 = a_t\n",
        "\n",
        "  # Experiment results tracking.\n",
        "  all_episode_returns.append(episode_return)\n",
        "\n",
        "# Plot learning curve.\n",
        "plot_learning_curve(all_episode_returns)"
      ],
      "execution_count": null,
      "outputs": [
        {
          "output_type": "stream",
          "text": [
            "Training agent for 1500 episodes...\n"
          ],
          "name": "stdout"
        },
        {
          "output_type": "display_data",
          "data": {
            "image/png": "[encoded data removed]",
            "text/plain": [
              "<Figure size 504x360 with 1 Axes>"
            ]
          },
          "metadata": {
            "tags": [],
            "needs_background": "light"
          }
        }
      ]
    },
    {
      "cell_type": "markdown",
      "metadata": {
        "id": "g80tBzfsBgya"
      },
      "source": [
        "### Q 3.8 [4 marks]\n",
        "\n",
        "[1pts]: What is the best asymptotic average return that can be achieved by the actor-critic agent described in `Part 2A)`?\n",
        "\n",
        "> 1.0\n",
        "\n",
        "[1pts] What is the best asymptotic average return that can be achieved by the second agent described in `Part 2B)`?\n",
        "\n",
        "> Approximately 0.65\n",
        "\n",
        "[2pts] What quantity do the preferences `p` estimate in the second agent described in `Part 2B)`?\n",
        "\n",
        "> A measure of which action is preferred by the agent to potentially obtain the best reward. "
      ]
    },
    {
      "cell_type": "markdown",
      "metadata": {
        "id": "mh918hc0_iQ9"
      },
      "source": [
        "# Part 3: Off-policy multi-step learning [40 marks]"
      ]
    },
    {
      "cell_type": "markdown",
      "metadata": {
        "id": "thswfgXU_p05"
      },
      "source": [
        "### Q4 [15 marks]\n",
        "For many concrete algorithms, we need to combine multi-step updates with off-policy corrections.  The multi-step updates are necessary for efficient learning, while the off-policy corrections are necessary to learn about multiple things at once, or to correct for a distribution mismatch (e.g., when trying to perform a policy-gradient update from logged data).\n",
        "\n",
        "In this section, you will implement various different returns with off-policy corrections.  The next cell has two examples *without* corrections.  These examples compute equivalent returns, but compute those returns in different ways.  These are provided as reference implementations to help you.\n",
        "\n",
        "Note that the implementations both allow for immediate bootstrapping on the current state value. This is unconventional (most literature only allows the first bootstrapping to happen after the first step), but we will use this convention in all implementations below for consistency. "
      ]
    },
    {
      "cell_type": "code",
      "metadata": {
        "id": "KHNH35SZYHBu"
      },
      "source": [
        "#@title On-policy return computations\n",
        "\n",
        "def on_policy(observations, actions, pi, mu, rewards, discounts,\n",
        "              trace_parameter, v_fn):\n",
        "  \"\"\"Compute on-policy return recursively.\"\"\"\n",
        "  del mu  # The policy probabilities are ignored by this function\n",
        "  T = len(rewards)  # number of transitions\n",
        "  r = rewards\n",
        "  d = discounts\n",
        "  l = trace_parameter\n",
        "  v = np.array([v_fn(o) for o in observations])\n",
        "  G = np.zeros((T,))\n",
        "  # recurse backwards to calculate returns\n",
        "  for t in reversed(range(T)):\n",
        "    # There are T+1 observations, but only T rewards, and the indexing here\n",
        "    # for the rewards is off by one compared to the indexing in the slides\n",
        "    # and in Sutton & Barto.  In other words, r[t] == R_{t+1}.\n",
        "    if t == T - 1:\n",
        "      G[t] = r[t] + d[t]*v[t + 1]\n",
        "    else:\n",
        "      G[t] = r[t] + d[t]*((1 - l)*v[t + 1] + l*G[t + 1])\n",
        "  v = v[:-1]  # Remove (T+1)th observation before calculating the returns\n",
        "  return (1 - l)*v + l*G\n",
        "\n",
        "def on_policy_error_recursion(observations, actions, pi, mu, rewards, discounts,\n",
        "                              trace_parameter, v_fn):\n",
        "  del pi  # The target policy probabilities are ignored by this function\n",
        "  del mu  # The behaviour policy probabilities are ignored by this function\n",
        "  T = len(rewards)  # number of transitions\n",
        "  r = rewards\n",
        "  d = discounts\n",
        "  l = trace_parameter\n",
        "  v = np.array([v_fn(o) for o in observations])\n",
        "  errors = np.zeros((T,))\n",
        "  error = 0.\n",
        "  # recurse backwards to calculate errors\n",
        "  for t in reversed(range(T)):\n",
        "    error = r[t] + d[t]*v[t + 1] - v[t] + d[t]*l*error\n",
        "    errors[t] = error\n",
        "  v = v[:-1]  # Remove (T+1)th observation before calculating the returns\n",
        "  return v + l*errors"
      ],
      "execution_count": null,
      "outputs": []
    },
    {
      "cell_type": "markdown",
      "metadata": {
        "id": "UNXhobrYHeiy"
      },
      "source": [
        "### Q 4.1 [7 marks]\n",
        "Implement the return functions below and run the cells below that."
      ]
    },
    {
      "cell_type": "code",
      "metadata": {
        "id": "7g6FOZLfA_su"
      },
      "source": [
        "def full_importance_sampling(observations, actions, pi, mu, rewards, discounts, trace_parameter, v_fn):\n",
        "  \"\"\"\n",
        "  Compute off-policy return with full importance-sampling corrections, so that\n",
        "  the return G_t is corrected with the full importance-sampling correction of\n",
        "  the rest of the trajectory.\n",
        "  \"\"\"\n",
        "  T = len(rewards)  # number of transitions\n",
        "  r = rewards\n",
        "  d = discounts\n",
        "  l = trace_parameter\n",
        "  v = np.array([v_fn(o) for o in observations])\n",
        "  G = np.zeros((T,))\n",
        "  imp = 1\n",
        "  # recurse backwards to calculate returns\n",
        "  for t in reversed(range(T)):\n",
        "    # There are T+1 observations, but only T rewards, and the indexing here\n",
        "    # for the rewards is off by one compared to the indexing in the slides\n",
        "    # and in Sutton & Barto.  In other words, r[t] == R_{t+1}.\n",
        "    if t == T - 1:\n",
        "      G[t] = r[t] + d[t]*v[t + 1]\n",
        "    else:\n",
        "      G[t] = r[t] + d[t]*((1 - l)*v[t + 1] + l*G[t + 1])\n",
        "  for r in reversed(range(T)):\n",
        "    imp *= pi[t]/mu[t]\n",
        "    G[t] = imp*G[t]\n",
        "  v = v[:-1]  # Remove (T+1)th observation before calculating the returns\n",
        "  return (1 - l)*v + l*G\n",
        "\n",
        "def per_decision(observations, actions, pi, mu, rewards, discounts, trace_parameter, v_fn):\n",
        "  \"\"\"\n",
        "  Compute off-policy return with per-decision importance-sampling corrections.\n",
        "  \"\"\"\n",
        "  T = len(rewards)  # number of transitions\n",
        "  r = rewards\n",
        "  d = discounts\n",
        "  l = trace_parameter\n",
        "  v = np.array([v_fn(o) for o in observations])\n",
        "  G = np.zeros((T,))\n",
        "  # recurse backwards to calculate returns\n",
        "  for t in reversed(range(T)):\n",
        "    # There are T+1 observations, but only T rewards, and the indexing here\n",
        "    # for the rewards is off by one compared to the indexing in the slides\n",
        "    # and in Sutton & Barto.  In other words, r[t] == R_{t+1}.\n",
        "    rho = pi[t]/mu[t]\n",
        "    if t == T - 1:\n",
        "      G[t] = r[t] + d[t]*v[t + 1]\n",
        "    else:\n",
        "      G[t] = rho*(r[t] + d[t]*((1 - l)*v[t + 1] + l*G[t + 1]))\n",
        "  v = v[:-1]  # Remove (T+1)th observation before calculating the returns\n",
        "  return (1 - l)*v + l*G\n",
        "\n",
        "def control_variates(observations, actions, pi, mu, rewards, discounts, trace_parameter, v_fn):\n",
        "  \"\"\"\n",
        "  Compute off-policy return with \n",
        "  1. per-decision importance-sampling corrections, and\n",
        "  2. control variates\n",
        "  \"\"\"\n",
        "  T = len(rewards)  # number of transitions\n",
        "  r = rewards\n",
        "  d = discounts\n",
        "  l = trace_parameter\n",
        "  v = np.array([v_fn(o) for o in observations])\n",
        "  errors = np.zeros((T,))\n",
        "  error = 0.\n",
        "  # recurse backwards to calculate errors\n",
        "  for t in reversed(range(T)):\n",
        "    rho = pi[t]/mu[t]\n",
        "    error = rho*(r[t] + d[t]*v[t + 1] - v[t] + d[t]*l*error)\n",
        "    errors[t] = error\n",
        "  v = v[:-1]  # Remove (T+1)th observation before calculating the returns\n",
        "  return v + l*errors\n",
        "\n",
        "def adaptive_bootstrapping(observations, actions, pi, mu, rewards, discounts, trace_parameter, v_fn):\n",
        "  \"\"\"\n",
        "  Compute off-policy return with \n",
        "  1. per-decision importance-sampling corrections, and\n",
        "  2. control variates, and\n",
        "  3. adaptive bootstrapping.\n",
        "\n",
        "  Implement the adaptive bootstrapping with an *additional* trace parameter\n",
        "  lambda, such that lambda_t = lambda * min(1, 1/rho_t).\n",
        "  \"\"\"\n",
        "  T = len(rewards)  # number of transitions\n",
        "  r = rewards\n",
        "  d = discounts\n",
        "  l = trace_parameter\n",
        "  v = np.array([v_fn(o) for o in observations])\n",
        "  errors = np.zeros((T,))\n",
        "  error = 0.\n",
        "  lambdas = np.zeros((T,))\n",
        "  # recurse backwards to calculate errors\n",
        "  for t in reversed(range(T)):\n",
        "    rho = pi[t]/mu[t]\n",
        "    lmbda = l*min(1,1/rho)\n",
        "    error = rho*(r[t] + d[t]*v[t + 1] - v[t] + d[t]*lmbda*error)\n",
        "    errors[t] = error\n",
        "    lambdas[t] = lmbda\n",
        "  v = v[:-1]  # Remove (T+1)th observation before calculating the returns\n",
        "  return v + lambdas*errors"
      ],
      "execution_count": null,
      "outputs": []
    },
    {
      "cell_type": "code",
      "metadata": {
        "id": "7EEHYK89ANIA"
      },
      "source": [
        "#@title (Run, don't modify) Functions to generate experience, compute values\n",
        "MU_RIGHT = 0.5\n",
        "PI_RIGHT = 0.9\n",
        "NUMBER_OF_STEPS = 5\n",
        "DISCOUNT = 0.99\n",
        "\n",
        "def generate_experience():\n",
        "  r\"\"\"Generate experience trajectories from a tabular tree MDP.\n",
        "\n",
        "  This function will start in state 0, and will then generate actions according\n",
        "  to a uniformly random behaviour policy.  When A_t == 0, the action will be to\n",
        "  the left, with A_t==1, it will be to the right.  The states are nunmbered as\n",
        "  depicted below:\n",
        "          0\n",
        "         / \\\n",
        "        1   2\n",
        "       / \\ / \\\n",
        "      3   4   5\n",
        "         ...\n",
        "  \n",
        "  Args:\n",
        "      number_of_steps: the number of total steps.\n",
        "      p_right: probability of the behaviour to go right.\n",
        "\n",
        "  Returns:\n",
        "      A dictionary with elements:\n",
        "        * observations (number_of_steps + 1 integers): the\n",
        "          observations are just the actual (integer) states\n",
        "        * actions (number_of_steps integers): actions per step\n",
        "        * rewards (number_of_steps scalars): rewards per step\n",
        "        * discounts (number_of_steps scalars): currently always 0.9,\n",
        "          except the last one which is zero\n",
        "        * mu (number_of_steps scalars): probability of selecting each\n",
        "          action according to the behavious policy\n",
        "        * pi (number_of_steps scalars): probability of selecting each\n",
        "          action according to the target policy (here p(1) = 0.9 and\n",
        "          p(0) = 0.1, where a==1 implies we go 'right')\n",
        "  \"\"\"\n",
        "  # generate actions\n",
        "  actions = np.array(np.random.random(NUMBER_OF_STEPS,) < MU_RIGHT,\n",
        "                     dtype=np.int)\n",
        "  s = 0\n",
        "  # compute resulting states\n",
        "  states = np.cumsum(np.arange(1, NUMBER_OF_STEPS + 1) + actions)\n",
        "  states = np.array([0] + list(states))  # add start state\n",
        "  # in this case, observations are just the real states\n",
        "  observations = states\n",
        "  # generate rewards\n",
        "  rewards = 2.*actions - 1. # -1 for left, +1 for right, \n",
        "  rewards[-1] = np.sum(actions)  # extra final reward for going right\n",
        "  # compute discounts\n",
        "  discounts = DISCOUNT * np.ones_like(rewards)\n",
        "  discounts[-1] = 0.  # final transition is terminal, has discount=0\n",
        "  # determine target and behaviour probabilities for the selected actions\n",
        "  pi = np.array([1. - PI_RIGHT, PI_RIGHT])[actions] # Target probabilities\n",
        "  mu = np.array([1. - MU_RIGHT, MU_RIGHT])[actions] # Behaviour probabilities\n",
        "  return dict(observations=observations,\n",
        "              actions=actions,\n",
        "              pi=pi,\n",
        "              mu=mu,\n",
        "              rewards=rewards,\n",
        "              discounts=discounts)\n",
        "\n",
        "def true_v(s, pi, number_of_steps):\n",
        "  \"\"\"Compute true state value recursively.\"\"\"\n",
        "  depth = int(np.floor((np.sqrt(1 + 8*s) - 1)/2))\n",
        "  position = int(s - depth*(depth+1)/2)\n",
        "  remaining_steps = number_of_steps - depth\n",
        "  final_reward = DISCOUNT**(remaining_steps-1)*(position + pi*remaining_steps)\n",
        "  reward_per_step = pi*(+1) + (1 - pi)*(-1)\n",
        "  discounted_steps = (1 - DISCOUNT**(remaining_steps - 1))/(1 - DISCOUNT)\n",
        "  reward_along_the_way = reward_per_step * discounted_steps\n",
        "  return reward_along_the_way + final_reward\n",
        "\n"
      ],
      "execution_count": null,
      "outputs": []
    },
    {
      "cell_type": "code",
      "metadata": {
        "id": "CCFMUmOfRTqZ",
        "colab": {
          "base_uri": "https://localhost:8080/",
          "height": 699
        },
        "outputId": "b4d7f858-cb6e-4171-92c4-356d8ed946c9"
      },
      "source": [
        "#@title Run experiment (don't modify)\n",
        "algs = ['on_policy', 'full_importance_sampling', 'per_decision',\n",
        "        'control_variates', 'adaptive_bootstrapping']\n",
        "\n",
        "# Precompute state values (for efficiency)\n",
        "N = NUMBER_OF_STEPS\n",
        "true_vs = [true_v(s, PI_RIGHT, N) for s in range((N+1)*(N+2)//2)]\n",
        "\n",
        "def random_v(iteration, s):\n",
        "  rng = np.random.RandomState(seed=s + iteration*10000)\n",
        "  return true_vs[s] + rng.normal(loc=0, scale=1.)  # Add fixed random noise \n",
        "\n",
        "def plot_errors(ax, errors):\n",
        "  errors = np.array(errors)\n",
        "  ax.violinplot(np.log10(errors), showextrema=False)\n",
        "  ax.plot(range(1, len(algs)+1), np.log10(errors).T,\n",
        "          '.', color='#667799', ms=7, alpha=0.2)\n",
        "  ax.plot(range(1, len(algs)+1), np.log10(np.mean(errors, axis=0)),\n",
        "          '.', color='#000000', ms=20)\n",
        "  ax.set_yticks(np.arange(-2, 5))\n",
        "  ax.set_yticklabels(10.**np.arange(-2, 5), fontsize=13)\n",
        "  ax.set_ylabel(\"Value error $(v(s_0) - v_{\\\\pi}(s_0))^2$\", fontsize=15)\n",
        "  ax.set_xticks(range(1, len(algs)+1))\n",
        "  ax.set_xticklabels(algs, fontsize=15, rotation=70)\n",
        "  ax.set_ylim(-1, 4)\n",
        "\n",
        "fig = plt.figure(figsize=(12, 8))\n",
        "\n",
        "errors = []\n",
        "estimates = []\n",
        "v0 = true_vs[0]\n",
        "for iteration in range(1000):\n",
        "  errors.append([])\n",
        "  estimates.append([])\n",
        "  trajectory = generate_experience()\n",
        "  for alg in algs:\n",
        "    estimate = eval(alg)(**trajectory,\n",
        "                        v_fn=lambda s: random_v(iteration, s),\n",
        "                        trace_parameter=0.9)\n",
        "    errors[-1].append((estimate[0] - v0)**2)\n",
        "print(np.mean(errors, axis=0))\n",
        "plot_errors(plt.gca(), errors)"
      ],
      "execution_count": null,
      "outputs": [
        {
          "output_type": "stream",
          "text": [
            "[2.03387723e+01 4.73945637e+08 1.30400029e+02 5.62889122e+00\n",
            " 8.02176929e-01]\n"
          ],
          "name": "stdout"
        },
        {
          "output_type": "display_data",
          "data": {
            "image/png": "[encoded data removed]",
            "text/plain": [
              "<Figure size 864x576 with 1 Axes>"
            ]
          },
          "metadata": {
            "tags": [],
            "needs_background": "light"
          }
        }
      ]
    },
    {
      "cell_type": "markdown",
      "metadata": {
        "id": "7hlc4jctHHqv"
      },
      "source": [
        "Above, the distributions of mean squared value errors are shown, with the mean as a big black dot and the (1,000) individual return samples as small black dots.\n",
        "\n",
        "### Q 4.2 [4 marks]\n",
        "Explain the ranking in terms of value error of the different return estimates.\n",
        "\n",
        "> The on-policy algorithm performs better than the full importance sampling algorithm due to its ability to learn from the agent's actions and due to the high variance of the importance-sampling correction. The per-decision importance weighting reduces this variance by ensuring that the expectation does not depend on the policy, so the correction is not needed, reducing the value error. Control variates can be used to further reduce variance through the addition of control variate terms, called 'error weighting', leading to an even lower value error. Adaptive bootstrapping would reduce variance even further, through picking $\\lambda_t$ separately at each time step, such that $\\lambda_t = min(1, 1/\\rho_t)$, so that when we are too far off-policy, we truncate the sum of errors and achieve a low variance.\n",
        "\n",
        "### Q 4.3 [4 marks]\n",
        "Could there be a reason to **not** choose the best return according to this ranking when learning off-policy?  Explain your answer.\n",
        "\n",
        "> The best return according to this ranking would be to use Adaptive Bootstrapping, however this potentially opens us to the deadly triad when you bootstrap too much. The deadly triad refers to the possibility of divergence when combining bootstrapping, function approximation and off-policy learning. Therefore it makes sense to bootstrap adaptively only in as much as you go off-policy. is in order to improve learning without diverging in the deadly triad.\n"
      ]
    },
    {
      "cell_type": "markdown",
      "metadata": {
        "id": "u5Xn8bDNFm-H"
      },
      "source": [
        "### Q5 [25 marks]\n",
        " Consider a MDP $M = (\\mathcal{S}, \\mathcal{A}, p, r, \\gamma)$ and a behaviour policy $\\mu$. We use policy $\\mu$ to generate trajectories of experience:\n",
        "\\begin{equation*}\n",
        "    (s_{t}, a_{t}, r_{t},s_{t+1}, a_{t+1}, r_{t+1},\\cdots, s_{t+n-1}, a_{t+n-1}, r_{t+n-1}, s_{t+n}, a_{t+n}) \\,.\n",
        "\\end{equation*}\n",
        "Note that this is an $n$-step sequence, starting from time $t$.\n",
        "\n",
        "Given these partial trajectories we consider the following learning problems:\n",
        "\n",
        "### Q5.1 [10 marks]\n",
        "Consider a learning update based on the following temporal difference error:\n",
        "    \\begin{equation}\n",
        "        \\delta_t = r(s_{t},a_{t}) + \\gamma  r(s_{t+1},a_{t+1}) + \\gamma^2 \\max_{a} q(s_{t+2},a) - q(s_t, a)\n",
        "    \\end{equation}\n",
        "\n",
        "Consider updating a tabular action value function with TD. \n",
        "* i) Does the resulting value function converge, under any initialisation of the value function? Consider an appropiate learning rate (Robbins–Monro conditions). If so, prove the convergence under infinity number of interactions with this MDP, under behaviour policy $\\mu$ and show its convergence point. If not, show why it diverges. (7 marks)\n",
        "\n",
        "> With a finite sequence and under Robbins-Monro conditions, the resulting value function will converge if the following two conditions are met.\n",
        "\n",
        "> - $||\\mathbb{E}[F_t(x,a) |\\mathscr{F_t}]|| \\leq \\gamma||\\Delta_t||_W$, with $\\gamma < 1$\n",
        "- $\\textbf{Var}[F_t(x,a) |\\mathscr{F_t}] \\leq C(1+||\\Delta_t||_W^2)$, for $C > 0$\n",
        "\n",
        "> where $\\Delta_t = Q_t(x,a) - Q^*(x,a)$ and $||\\mathbb{E}[F_t(x,a) |\\mathscr{F_t}]|| = \\sum_{s'} P_a(s,s')[r(s_t,a_t) + \\gamma  r(s_{t+1},a_{t+1}) + \\gamma^2 \\max_{a} q(s_{t+2},a) - q(s_t, a)] = (\\textbf{H}q_t)(s,a) - q^*(s,a)$, provided that $\\textbf{H}$ is a $\\gamma$-contraction operator.\n",
        "\n",
        "> We can prove that $\\textbf{H}$ is a $\\gamma$-contraction:\n",
        "\n",
        "> $||\\textbf{H}q_1 - \\textbf{H}q_2||_\\infty = \\sum_{s'} P_a(s,s')[r(s_t,a_t) + \\gamma  r(s_{t+1},a_{t+1}) + \\gamma^2 \\max_{a} q_1(s_{t+2},a) - r(s_t,a_t) - \\gamma  r(s_{t+1},a_{t+1}) - \\gamma^2 \\max_{a} q_2(s_{t+2},a)]$\n",
        "\n",
        "> $ = \\sum_{s'} P_a(s,s')[\\gamma^2 (\\max_{a} q_1(s_{t+2},a) - \\max_{a} q_2(s_{t+2},a))]$\n",
        "\n",
        "> With some manipulation, it is possible to arrive at the result, since $\\gamma \\in [0,1]$:\n",
        "\n",
        "> $||\\textbf{H}q_1 - \\textbf{H}q_2||_\\infty = max_{s,a} \\gamma^2 \\sum_{s'} P_a(s,s')||q_1 - q_2||_\\infty = \\gamma^2||q_1 - q_2||_\\infty \\leq \\gamma||q_1 - q_2||_\\infty$\n",
        "\n",
        "> Therefore:\n",
        "\n",
        "> $||\\textbf{H}Q - \\textbf{H}Q^*||_\\infty = \\gamma^2||Q - Q^*||_\\infty \\leq \\gamma||Q - Q^*||_\\infty$\n",
        "\n",
        "> Following this, it can then be shown that $\\textbf{Var}[F_t(x,a) |\\mathscr{F_t}] \\leq C(1+||\\Delta_t||^2)$, for some constant $C$ as $r$ is bounded. Therefore, this value function will converge to the optimal value under any initialisation of the value function and therefore the error will converge to zero at its convergence point.\n",
        "\n",
        "* ii) Under which conditions, would the above process converge to the optimal value function $q_*$? (3 marks)\n",
        "\n",
        "> The above process will converge to the optimal value function $q_*$ provided the following four conditions are met:\n",
        "\n",
        "> - The sequence set of trajectories is finite.\n",
        "- $0\\leq\\alpha_t\\leq1$, $\\sum_t\\alpha_t(x) = \\infty$ and $\\sum_t\\alpha_t^2(x) < \\infty$\n",
        "- $||\\mathbb{E}[F_t(x,a) |\\mathscr{F_t}]||_W \\leq \\gamma||\\Delta_t||_W$, with $\\gamma < 1$\n",
        "- $\\textbf{Var}[F_t(x,a) |\\mathscr{F_t}] \\leq C(1+||\\Delta_t||_W^2)$, for $C > 0$\n",
        "\n",
        "### Q5.2 [15 marks]\n",
        "\n",
        "Consider the same questions now for the following temporal difference error\n",
        "\\begin{equation}\n",
        "        \\delta_t = r(s_{t},a_{t}) + \\gamma \\frac{\\pi(a_{t+1}|s_{t+1})}{\\mu(a_{t+1}|s_{t+1})} \\left[ r(s_{t+1},a_{t+1}) + \\gamma \\max_{a} q(s_{t+2},a) \\right] - q(s_t, a_t)\n",
        "\\end{equation}\n",
        "\n",
        "where $\\pi(a|s) \\in \\arg\\max_a q(s,a), \\forall s,a \\in \\mathcal{A} \\times \\mathcal{S}$ and consider the behaviour policy to be: a) $\\mu(a|s) \\in \\arg\\max_a q(s,a), \\forall s,a \\in \\mathcal{A} \\times \\mathcal{S}$, b) $\\mu(a|s) = \\frac{1}{|\\mathcal{A}|}$ (uniformly random policy).\n",
        "\n",
        "Answer the below two questions for **both choices** of the behaviour policy $\\mu$:\n",
        "* i)  Does updating a tabular action value function with this TD error converge to the optimal value function $q_*$? Consider an appropiate learning rate (Robbins–Monro conditions). If so, prove this convergence under infinity number of interaction with this MDP, under behaviour policy $\\mu$. If not, show why it diverges or alternatively convergence to a different solution. (6 marks)\n",
        "\n",
        "> Again, with a finite sequence and under Robbins-Monro conditions, the resulting value function will converge if the following two conditions are met.\n",
        "\n",
        "> - $||\\mathbb{E}[F_t(x,a) |\\mathscr{F_t}]|| \\leq \\gamma||\\Delta_t||_W$, with $\\gamma < 1$\n",
        "- $\\textbf{Var}[F_t(x,a) |\\mathscr{F_t}] \\leq C(1+||\\Delta_t||_W^2)$, for $C > 0$\n",
        "\n",
        "> where $\\Delta_t = Q_t(x,a) - Q^*(x,a)$ and $||\\mathbb{E}[F_t(x,a) |\\mathscr{F_t}]|| = \\sum_{s'} P_a(s,s')[r(s_{t},a_{t}) + \\gamma \\frac{\\pi(a_{t+1}|s_{t+1})}{\\mu(a_{t+1}|s_{t+1})} \\left[ r(s_{t+1},a_{t+1}) + \\gamma \\max_{a} q(s_{t+2},a) \\right] - q(s_t, a_t)]] = (\\textbf{H}q_t)(s,a) - q^*(s,a)$, provided that $\\textbf{H}$ is a $\\gamma$-contraction operator.\n",
        "\n",
        "> We can prove that $\\textbf{H}$ is a $\\gamma$-contraction:\n",
        "\n",
        "> $||\\textbf{H}q_1 - \\textbf{H}q_2||_\\infty = \\sum_{s'} P_a(s,s')[r(s_{t},a_{t}) + \\gamma \\frac{\\pi(a_{t+1}|s_{t+1})}{\\mu(a_{t+1}|s_{t+1})} \\left[ r(s_{t+1},a_{t+1}) + \\gamma \\max_{a} q(s_{t+2},a) \\right] - r(s_{t},a_{t}) - \\gamma \\frac{\\pi(a_{t+1}|s_{t+1})}{\\mu(a_{t+1}|s_{t+1})} \\left[ r(s_{t+1},a_{t+1}) + \\gamma \\max_{a} q(s_{t+2},a) \\right]]$\n",
        "\n",
        "> $ = \\sum_{s'} P_a(s,s')[\\gamma^2 \\frac{\\pi(a_{t+1}|s_{t+1})}{\\mu(a_{t+1}|s_{t+1})}(\\max_{a} q_1(s_{t+2},a) - \\max_{a} q_2(s_{t+2},a))]$\n",
        "\n",
        "> With some manipulation, with $\\pi(a|s) \\in \\arg\\max_a q(s,a)$ and $\\mu(a|s) \\in \\arg\\max_a q(s,a)$ in a) it is possible to arrive at the result, since $\\gamma \\in [0,1]$ and both $\\pi(a|s)$ and $\\mu(a|s)$ cancel out:\n",
        "\n",
        "> $||\\textbf{H}q_1 - \\textbf{H}q_2||_\\infty = max_{s,a} \\gamma^2 \\sum_{s'} P_a(s,s')||q_1 - q_2||_\\infty = \\gamma^2||q_1 - q_2||_\\infty \\leq \\gamma||q_1 - q_2||_\\infty$\n",
        "\n",
        "> Therefore:\n",
        "\n",
        "> $||\\textbf{H}Q - \\textbf{H}Q^*||_\\infty = \\gamma^2||Q - Q^*||_\\infty \\leq \\gamma||Q - Q^*||_\\infty$\n",
        "\n",
        "> In case b) however, where $\\mu(a|s) = \\frac{1}{|\\mathcal{A}|}$, the above inequality does not hold, since the fraction $\\pi(a|s)/\\mu(a|s)$ is not equal to 1 and so the value function will not converge in case b).\n",
        "\n",
        "> Following from above, it can then be shown that $\\textbf{Var}[F_t(x,a) |\\mathscr{F_t}] \\leq C(1+||\\Delta_t||^2)$, for some constant $C$ as $r$ is bounded in case a). Therefore, this value function will converge to the optimal value in case a), but not in case b).\n",
        "\n",
        "* ii) How does the variance of this update compare to the one induced by the error in Q5.1? (5 marks). \n",
        "\n",
        "> In a), when the target and behaviour policies are equal, the updates in Q5.1 and Q5.2 are both equivalent and on-policy. Therefore they would have the same variance.\n",
        "\n",
        "> In b), where the target and behaviour policies are different, the update inducing the error in Q5.1 is an on-policy algorithm and the update inducing the error in Q5.2 is a per-decision importance weighting off-policy algorithm. From the violinplot in Q4, it can be seen that the on-policy algorithm produces a lower mean value error than the per-decision importance weighting off-policy algorithm. Therefore, the variance of the update in Q5.2 is larger than the variance of the update in Q5.1.\n",
        "\n",
        "* iii) Can you propose a different behaviour policy that achieves a lower variance than any of the choices we considered for $\\mu$? Prove that your behaviour policy achieve this. Argue why, if that is not possible. (4 marks)\n",
        "\n",
        "> A behaviour policy which is not a greedy policy would not lead to $\\textbf{H}$ being a $\\gamma$-contraction, since both $\\pi(a|s)$ and $\\mu(a|s)$ depend on the next state $s'$ and therefore cannot be factorised out of the sum like $\\gamma$ can. Therefore any other behaviour policy will not converge and therefore cannot reduce the variance further. In order to reduce variance, it would make sense to use Adaptive Bootstrapping with a greedy behaviour policy to reduce variance and not be open to the deadly triad. "
      ]
    },
    {
      "cell_type": "code",
      "metadata": {
        "id": "_-dkvLErWEo2"
      },
      "source": [
        ""
      ],
      "execution_count": null,
      "outputs": []
    }
  ]
}